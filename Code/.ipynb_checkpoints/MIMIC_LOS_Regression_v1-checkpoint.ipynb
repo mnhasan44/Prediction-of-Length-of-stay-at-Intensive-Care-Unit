{
 "cells": [
  {
   "cell_type": "code",
   "execution_count": 1,
   "id": "2ad544b6",
   "metadata": {},
   "outputs": [],
   "source": [
    "import os\n",
    "import math\n",
    "import numpy as np\n",
    "import pandas as pd\n",
    "import matplotlib.pyplot as plt\n",
    "import datetime as dt\n",
    "# import tensorflow as tf\n",
    "from numpy import newaxis\n",
    "import scipy.stats\n",
    "import seaborn as sns\n",
    "from sklearn.preprocessing import OneHotEncoder\n",
    "from sklearn.preprocessing import OrdinalEncoder\n",
    "from sklearn.model_selection import train_test_split\n",
    "from sklearn.metrics import mean_squared_error, r2_score\n",
    "from sklearn.model_selection import GridSearchCV\n",
    "from sklearn.model_selection import cross_val_score\n",
    "from sklearn import svm, metrics,preprocessing\n",
    "from sklearn.ensemble import RandomForestRegressor\n",
    "from sklearn.datasets import make_regression\n",
    "from sklearn.ensemble import VotingRegressor\n",
    "import xgboost as xgb\n",
    "%matplotlib inline"
   ]
  },
  {
   "cell_type": "code",
   "execution_count": 2,
   "id": "41b6f8da",
   "metadata": {},
   "outputs": [
    {
     "data": {
      "text/plain": [
       "'C:\\\\Users\\\\Sultan\\\\OneDrive - Middle Tennessee State University\\\\Courses\\\\Dr.Poudel_research\\\\IEEECLA23\\\\Code'"
      ]
     },
     "execution_count": 2,
     "metadata": {},
     "output_type": "execute_result"
    }
   ],
   "source": [
    "pwd"
   ]
  },
  {
   "cell_type": "code",
   "execution_count": 3,
   "id": "8787caf5",
   "metadata": {
    "scrolled": true
   },
   "outputs": [
    {
     "name": "stdout",
     "output_type": "stream",
     "text": [
      "(48, 8)\n",
      "<class 'pandas.core.frame.DataFrame'>\n",
      "RangeIndex: 48 entries, 0 to 47\n",
      "Data columns (total 8 columns):\n",
      " #   Column          Non-Null Count  Dtype  \n",
      "---  ------          --------------  -----  \n",
      " 0   subject_id      48 non-null     int64  \n",
      " 1   ethnicity       48 non-null     object \n",
      " 2   value_x         48 non-null     float64\n",
      " 3   amount_y        48 non-null     float64\n",
      " 4   spec_type_desc  48 non-null     object \n",
      " 5   value_y         48 non-null     float64\n",
      " 6   curr_service    48 non-null     object \n",
      " 7   los             48 non-null     float64\n",
      "dtypes: float64(4), int64(1), object(3)\n",
      "memory usage: 3.1+ KB\n"
     ]
    },
    {
     "data": {
      "text/html": [
       "<div>\n",
       "<style scoped>\n",
       "    .dataframe tbody tr th:only-of-type {\n",
       "        vertical-align: middle;\n",
       "    }\n",
       "\n",
       "    .dataframe tbody tr th {\n",
       "        vertical-align: top;\n",
       "    }\n",
       "\n",
       "    .dataframe thead th {\n",
       "        text-align: right;\n",
       "    }\n",
       "</style>\n",
       "<table border=\"1\" class=\"dataframe\">\n",
       "  <thead>\n",
       "    <tr style=\"text-align: right;\">\n",
       "      <th></th>\n",
       "      <th>subject_id</th>\n",
       "      <th>ethnicity</th>\n",
       "      <th>value_x</th>\n",
       "      <th>amount_y</th>\n",
       "      <th>spec_type_desc</th>\n",
       "      <th>value_y</th>\n",
       "      <th>curr_service</th>\n",
       "      <th>los</th>\n",
       "    </tr>\n",
       "  </thead>\n",
       "  <tbody>\n",
       "    <tr>\n",
       "      <th>0</th>\n",
       "      <td>40124</td>\n",
       "      <td>WHITE</td>\n",
       "      <td>95.9</td>\n",
       "      <td>999.999984</td>\n",
       "      <td>BLOOD CULTURE</td>\n",
       "      <td>1.0</td>\n",
       "      <td>MED</td>\n",
       "      <td>2.4549</td>\n",
       "    </tr>\n",
       "    <tr>\n",
       "      <th>1</th>\n",
       "      <td>40177</td>\n",
       "      <td>WHITE</td>\n",
       "      <td>86.0</td>\n",
       "      <td>1000.000000</td>\n",
       "      <td>BLOOD CULTURE</td>\n",
       "      <td>1.0</td>\n",
       "      <td>MED</td>\n",
       "      <td>1.1116</td>\n",
       "    </tr>\n",
       "    <tr>\n",
       "      <th>2</th>\n",
       "      <td>40204</td>\n",
       "      <td>BLACK/AFRICAN AMERICAN</td>\n",
       "      <td>90.0</td>\n",
       "      <td>139.520149</td>\n",
       "      <td>BLOOD CULTURE</td>\n",
       "      <td>1.0</td>\n",
       "      <td>MED</td>\n",
       "      <td>0.8592</td>\n",
       "    </tr>\n",
       "    <tr>\n",
       "      <th>3</th>\n",
       "      <td>40277</td>\n",
       "      <td>WHITE</td>\n",
       "      <td>245.0</td>\n",
       "      <td>104.999996</td>\n",
       "      <td>URINE</td>\n",
       "      <td>1784.0</td>\n",
       "      <td>MED</td>\n",
       "      <td>1.2620</td>\n",
       "    </tr>\n",
       "    <tr>\n",
       "      <th>4</th>\n",
       "      <td>40286</td>\n",
       "      <td>WHITE</td>\n",
       "      <td>24.6</td>\n",
       "      <td>1.000000</td>\n",
       "      <td>MRSA SCREEN</td>\n",
       "      <td>35.0</td>\n",
       "      <td>ORTHO</td>\n",
       "      <td>1.7299</td>\n",
       "    </tr>\n",
       "  </tbody>\n",
       "</table>\n",
       "</div>"
      ],
      "text/plain": [
       "   subject_id               ethnicity  value_x     amount_y spec_type_desc  \\\n",
       "0       40124                   WHITE     95.9   999.999984  BLOOD CULTURE   \n",
       "1       40177                   WHITE     86.0  1000.000000  BLOOD CULTURE   \n",
       "2       40204  BLACK/AFRICAN AMERICAN     90.0   139.520149  BLOOD CULTURE   \n",
       "3       40277                   WHITE    245.0   104.999996          URINE   \n",
       "4       40286                   WHITE     24.6     1.000000    MRSA SCREEN   \n",
       "\n",
       "   value_y curr_service     los  \n",
       "0      1.0          MED  2.4549  \n",
       "1      1.0          MED  1.1116  \n",
       "2      1.0          MED  0.8592  \n",
       "3   1784.0          MED  1.2620  \n",
       "4     35.0        ORTHO  1.7299  "
      ]
     },
     "execution_count": 3,
     "metadata": {},
     "output_type": "execute_result"
    }
   ],
   "source": [
    "# path=\"C:/Users/Sultan/OneDrive - Middle Tennessee State University/Courses/Dr.Poudel_research/IEEECLA23/mimic-iii-clinical-database-demo-1.4/\"\n",
    "df =pd.read_csv('mimic_preprocessed_fil.csv')\n",
    "df=df.drop(columns=['amount_x'])\n",
    "print(df.shape)\n",
    "df.info()\n",
    "df.head(5)\n",
    "# df.isnull().sum().sum()\n",
    "# df.columns"
   ]
  },
  {
   "cell_type": "code",
   "execution_count": 4,
   "id": "f65df192",
   "metadata": {},
   "outputs": [],
   "source": [
    "# col_name=df.columns\n",
    "# print(col_name)\n",
    "# df['curr_service'].value_counts()"
   ]
  },
  {
   "cell_type": "code",
   "execution_count": 5,
   "id": "63bad173",
   "metadata": {},
   "outputs": [],
   "source": [
    "### XGBoost"
   ]
  },
  {
   "cell_type": "code",
   "execution_count": 6,
   "id": "db949f36",
   "metadata": {},
   "outputs": [],
   "source": [
    "encoder = OrdinalEncoder()"
   ]
  },
  {
   "cell_type": "code",
   "execution_count": 7,
   "id": "45a6029e",
   "metadata": {},
   "outputs": [
    {
     "data": {
      "text/html": [
       "<div>\n",
       "<style scoped>\n",
       "    .dataframe tbody tr th:only-of-type {\n",
       "        vertical-align: middle;\n",
       "    }\n",
       "\n",
       "    .dataframe tbody tr th {\n",
       "        vertical-align: top;\n",
       "    }\n",
       "\n",
       "    .dataframe thead th {\n",
       "        text-align: right;\n",
       "    }\n",
       "</style>\n",
       "<table border=\"1\" class=\"dataframe\">\n",
       "  <thead>\n",
       "    <tr style=\"text-align: right;\">\n",
       "      <th></th>\n",
       "      <th>subject_id</th>\n",
       "      <th>ethnicity</th>\n",
       "      <th>value_x</th>\n",
       "      <th>amount_y</th>\n",
       "      <th>spec_type_desc</th>\n",
       "      <th>value_y</th>\n",
       "      <th>curr_service</th>\n",
       "      <th>los</th>\n",
       "      <th>ethnicity_endc</th>\n",
       "      <th>spec_type_desc_endc</th>\n",
       "      <th>curr_service_endc</th>\n",
       "    </tr>\n",
       "  </thead>\n",
       "  <tbody>\n",
       "    <tr>\n",
       "      <th>0</th>\n",
       "      <td>40124</td>\n",
       "      <td>WHITE</td>\n",
       "      <td>95.9</td>\n",
       "      <td>999.999984</td>\n",
       "      <td>BLOOD CULTURE</td>\n",
       "      <td>1.0</td>\n",
       "      <td>MED</td>\n",
       "      <td>2.4549</td>\n",
       "      <td>7.0</td>\n",
       "      <td>0.0</td>\n",
       "      <td>3.0</td>\n",
       "    </tr>\n",
       "    <tr>\n",
       "      <th>1</th>\n",
       "      <td>40177</td>\n",
       "      <td>WHITE</td>\n",
       "      <td>86.0</td>\n",
       "      <td>1000.000000</td>\n",
       "      <td>BLOOD CULTURE</td>\n",
       "      <td>1.0</td>\n",
       "      <td>MED</td>\n",
       "      <td>1.1116</td>\n",
       "      <td>7.0</td>\n",
       "      <td>0.0</td>\n",
       "      <td>3.0</td>\n",
       "    </tr>\n",
       "    <tr>\n",
       "      <th>2</th>\n",
       "      <td>40204</td>\n",
       "      <td>BLACK/AFRICAN AMERICAN</td>\n",
       "      <td>90.0</td>\n",
       "      <td>139.520149</td>\n",
       "      <td>BLOOD CULTURE</td>\n",
       "      <td>1.0</td>\n",
       "      <td>MED</td>\n",
       "      <td>0.8592</td>\n",
       "      <td>1.0</td>\n",
       "      <td>0.0</td>\n",
       "      <td>3.0</td>\n",
       "    </tr>\n",
       "    <tr>\n",
       "      <th>3</th>\n",
       "      <td>40277</td>\n",
       "      <td>WHITE</td>\n",
       "      <td>245.0</td>\n",
       "      <td>104.999996</td>\n",
       "      <td>URINE</td>\n",
       "      <td>1784.0</td>\n",
       "      <td>MED</td>\n",
       "      <td>1.2620</td>\n",
       "      <td>7.0</td>\n",
       "      <td>8.0</td>\n",
       "      <td>3.0</td>\n",
       "    </tr>\n",
       "  </tbody>\n",
       "</table>\n",
       "</div>"
      ],
      "text/plain": [
       "   subject_id               ethnicity  value_x     amount_y spec_type_desc  \\\n",
       "0       40124                   WHITE     95.9   999.999984  BLOOD CULTURE   \n",
       "1       40177                   WHITE     86.0  1000.000000  BLOOD CULTURE   \n",
       "2       40204  BLACK/AFRICAN AMERICAN     90.0   139.520149  BLOOD CULTURE   \n",
       "3       40277                   WHITE    245.0   104.999996          URINE   \n",
       "\n",
       "   value_y curr_service     los  ethnicity_endc  spec_type_desc_endc  \\\n",
       "0      1.0          MED  2.4549             7.0                  0.0   \n",
       "1      1.0          MED  1.1116             7.0                  0.0   \n",
       "2      1.0          MED  0.8592             1.0                  0.0   \n",
       "3   1784.0          MED  1.2620             7.0                  8.0   \n",
       "\n",
       "   curr_service_endc  \n",
       "0                3.0  \n",
       "1                3.0  \n",
       "2                3.0  \n",
       "3                3.0  "
      ]
     },
     "execution_count": 7,
     "metadata": {},
     "output_type": "execute_result"
    }
   ],
   "source": [
    "df['ethnicity_endc']=encoder.fit_transform(df['ethnicity'].values.reshape(-1,1))\n",
    "df['spec_type_desc_endc']=encoder.fit_transform(df['spec_type_desc'].values.reshape(-1,1))\n",
    "df['curr_service_endc']=encoder.fit_transform(df['curr_service'].values.reshape(-1,1))\n",
    "df.head(4)"
   ]
  },
  {
   "cell_type": "code",
   "execution_count": null,
   "id": "833b369c",
   "metadata": {},
   "outputs": [],
   "source": []
  },
  {
   "cell_type": "code",
   "execution_count": 8,
   "id": "e05d6a16",
   "metadata": {},
   "outputs": [
    {
     "name": "stdout",
     "output_type": "stream",
     "text": [
      "(48, 8)\n",
      "subject_id               int64\n",
      "value_x                float64\n",
      "amount_y               float64\n",
      "value_y                float64\n",
      "ethnicity_endc         float64\n",
      "spec_type_desc_endc    float64\n",
      "curr_service_endc      float64\n",
      "los                    float64\n",
      "dtype: object\n"
     ]
    },
    {
     "data": {
      "text/html": [
       "<div>\n",
       "<style scoped>\n",
       "    .dataframe tbody tr th:only-of-type {\n",
       "        vertical-align: middle;\n",
       "    }\n",
       "\n",
       "    .dataframe tbody tr th {\n",
       "        vertical-align: top;\n",
       "    }\n",
       "\n",
       "    .dataframe thead th {\n",
       "        text-align: right;\n",
       "    }\n",
       "</style>\n",
       "<table border=\"1\" class=\"dataframe\">\n",
       "  <thead>\n",
       "    <tr style=\"text-align: right;\">\n",
       "      <th></th>\n",
       "      <th>sub</th>\n",
       "      <th>SAL/HR</th>\n",
       "      <th>DRA</th>\n",
       "      <th>ICD9</th>\n",
       "      <th>ETH</th>\n",
       "      <th>MIC</th>\n",
       "      <th>CSE</th>\n",
       "      <th>LOS</th>\n",
       "    </tr>\n",
       "  </thead>\n",
       "  <tbody>\n",
       "    <tr>\n",
       "      <th>0</th>\n",
       "      <td>40124</td>\n",
       "      <td>95.9</td>\n",
       "      <td>999.999984</td>\n",
       "      <td>1.0</td>\n",
       "      <td>7.0</td>\n",
       "      <td>0.0</td>\n",
       "      <td>3.0</td>\n",
       "      <td>2.4549</td>\n",
       "    </tr>\n",
       "    <tr>\n",
       "      <th>1</th>\n",
       "      <td>40177</td>\n",
       "      <td>86.0</td>\n",
       "      <td>1000.000000</td>\n",
       "      <td>1.0</td>\n",
       "      <td>7.0</td>\n",
       "      <td>0.0</td>\n",
       "      <td>3.0</td>\n",
       "      <td>1.1116</td>\n",
       "    </tr>\n",
       "    <tr>\n",
       "      <th>2</th>\n",
       "      <td>40204</td>\n",
       "      <td>90.0</td>\n",
       "      <td>139.520149</td>\n",
       "      <td>1.0</td>\n",
       "      <td>1.0</td>\n",
       "      <td>0.0</td>\n",
       "      <td>3.0</td>\n",
       "      <td>0.8592</td>\n",
       "    </tr>\n",
       "    <tr>\n",
       "      <th>3</th>\n",
       "      <td>40277</td>\n",
       "      <td>245.0</td>\n",
       "      <td>104.999996</td>\n",
       "      <td>1784.0</td>\n",
       "      <td>7.0</td>\n",
       "      <td>8.0</td>\n",
       "      <td>3.0</td>\n",
       "      <td>1.2620</td>\n",
       "    </tr>\n",
       "    <tr>\n",
       "      <th>4</th>\n",
       "      <td>40286</td>\n",
       "      <td>24.6</td>\n",
       "      <td>1.000000</td>\n",
       "      <td>35.0</td>\n",
       "      <td>7.0</td>\n",
       "      <td>4.0</td>\n",
       "      <td>7.0</td>\n",
       "      <td>1.7299</td>\n",
       "    </tr>\n",
       "    <tr>\n",
       "      <th>5</th>\n",
       "      <td>40304</td>\n",
       "      <td>67.0</td>\n",
       "      <td>987.167024</td>\n",
       "      <td>266.0</td>\n",
       "      <td>7.0</td>\n",
       "      <td>8.0</td>\n",
       "      <td>9.0</td>\n",
       "      <td>1.1474</td>\n",
       "    </tr>\n",
       "  </tbody>\n",
       "</table>\n",
       "</div>"
      ],
      "text/plain": [
       "     sub  SAL/HR          DRA    ICD9  ETH  MIC  CSE     LOS\n",
       "0  40124    95.9   999.999984     1.0  7.0  0.0  3.0  2.4549\n",
       "1  40177    86.0  1000.000000     1.0  7.0  0.0  3.0  1.1116\n",
       "2  40204    90.0   139.520149     1.0  1.0  0.0  3.0  0.8592\n",
       "3  40277   245.0   104.999996  1784.0  7.0  8.0  3.0  1.2620\n",
       "4  40286    24.6     1.000000    35.0  7.0  4.0  7.0  1.7299\n",
       "5  40304    67.0   987.167024   266.0  7.0  8.0  9.0  1.1474"
      ]
     },
     "execution_count": 8,
     "metadata": {},
     "output_type": "execute_result"
    }
   ],
   "source": [
    "df_tr=df[['subject_id','value_x','amount_y', 'value_y','ethnicity_endc','spec_type_desc_endc','curr_service_endc', 'los']]\n",
    "print(df_tr.shape)\n",
    "print(df_tr.dtypes)\n",
    "df_tr2=df_tr.rename(columns={'subject_id':'sub','value_x':'SAL/HR','amount_y':'DRA', 'value_y':'ICD9','ethnicity_endc':'ETH','spec_type_desc_endc':'MIC','curr_service_endc':'CSE', 'los':'LOS'})\n",
    "df_tr2.head(6)\n",
    "# y=df['los']\n"
   ]
  },
  {
   "cell_type": "code",
   "execution_count": 9,
   "id": "e97ea1b3",
   "metadata": {},
   "outputs": [],
   "source": [
    "# from pandas.plotting import scatter_matrix\n",
    "# scatter_matrix(df_tr, c=df_tr['los'],marker='o', s=10,alpha=.8)\n",
    "# plt.show()"
   ]
  },
  {
   "cell_type": "code",
   "execution_count": 10,
   "id": "6ad79a6e",
   "metadata": {},
   "outputs": [
    {
     "data": {
      "text/html": [
       "<div>\n",
       "<style scoped>\n",
       "    .dataframe tbody tr th:only-of-type {\n",
       "        vertical-align: middle;\n",
       "    }\n",
       "\n",
       "    .dataframe tbody tr th {\n",
       "        vertical-align: top;\n",
       "    }\n",
       "\n",
       "    .dataframe thead th {\n",
       "        text-align: right;\n",
       "    }\n",
       "</style>\n",
       "<table border=\"1\" class=\"dataframe\">\n",
       "  <thead>\n",
       "    <tr style=\"text-align: right;\">\n",
       "      <th></th>\n",
       "      <th>sub</th>\n",
       "      <th>SAL/HR</th>\n",
       "      <th>DRA</th>\n",
       "    </tr>\n",
       "  </thead>\n",
       "  <tbody>\n",
       "    <tr>\n",
       "      <th>1</th>\n",
       "      <td>40177</td>\n",
       "      <td>86.0</td>\n",
       "      <td>1000.000000</td>\n",
       "    </tr>\n",
       "    <tr>\n",
       "      <th>2</th>\n",
       "      <td>40204</td>\n",
       "      <td>90.0</td>\n",
       "      <td>139.520149</td>\n",
       "    </tr>\n",
       "    <tr>\n",
       "      <th>3</th>\n",
       "      <td>40277</td>\n",
       "      <td>245.0</td>\n",
       "      <td>104.999996</td>\n",
       "    </tr>\n",
       "    <tr>\n",
       "      <th>4</th>\n",
       "      <td>40286</td>\n",
       "      <td>24.6</td>\n",
       "      <td>1.000000</td>\n",
       "    </tr>\n",
       "  </tbody>\n",
       "</table>\n",
       "</div>"
      ],
      "text/plain": [
       "     sub  SAL/HR          DRA\n",
       "1  40177    86.0  1000.000000\n",
       "2  40204    90.0   139.520149\n",
       "3  40277   245.0   104.999996\n",
       "4  40286    24.6     1.000000"
      ]
     },
     "execution_count": 10,
     "metadata": {},
     "output_type": "execute_result"
    }
   ],
   "source": [
    "df_trbox=df_tr2.iloc[1:5,0:3]\n",
    "df_trbox"
   ]
  },
  {
   "cell_type": "code",
   "execution_count": 11,
   "id": "862ef131",
   "metadata": {},
   "outputs": [
    {
     "data": {
      "image/png": "[encoded data removed]",
      "text/plain": [
       "<Figure size 1008x576 with 1 Axes>"
      ]
     },
     "metadata": {
      "needs_background": "light"
     },
     "output_type": "display_data"
    }
   ],
   "source": [
    "df_trbox=df_tr2.iloc[:,0:7]\n",
    "df_trbox.head(3)\n",
    "# plt.rcParams.update({'font.size': 25}) # must set in top\n",
    "f1 = {'family':'serif','color':'blue','size':50}\n",
    "f2 = {'family':'serif','color':'darkred','size':50}\n",
    "%matplotlib inline\n",
    "# df.plot();\n",
    "df_trbox.plot(x='sub',kind='box', color='g', figsize=(14,8), widths = 0.35,patch_artist = False)\n",
    "plt.ylabel('Measure Values', fontdict=f1, c='k')\n",
    "plt.xlabel('Features', fontdict=f1, c='k')\n",
    "plt.rcParams['ytick.labelsize']=35\n",
    "plt.rcParams['xtick.labelsize']=35\n",
    "plt.show()"
   ]
  },
  {
   "cell_type": "code",
   "execution_count": 12,
   "id": "4ffa3977",
   "metadata": {},
   "outputs": [
    {
     "data": {
      "image/png": "[encoded data removed]",
      "text/plain": [
       "<Figure size 1008x576 with 1 Axes>"
      ]
     },
     "metadata": {
      "needs_background": "light"
     },
     "output_type": "display_data"
    }
   ],
   "source": [
    "df_trbox=df_tr2.iloc[:,0:7]\n",
    "df_trbox.head(3)\n",
    "# plt.rcParams.update({'font.size': 25}) # must set in top\n",
    "f1 = {'family':'serif','color':'blue','size':35}\n",
    "f2 = {'family':'serif','color':'darkred','size':35}\n",
    "%matplotlib inline\n",
    "# df.plot();\n",
    "df_trbox.plot(x='sub',kind='box', color='r', figsize=(14,8), widths = 0.35,patch_artist = False)\n",
    "plt.ylabel('Measure Values', fontdict=f1, c='k')\n",
    "plt.xlabel('Features', fontdict=f1, c='k')\n",
    "plt.rcParams['ytick.labelsize']=35\n",
    "plt.rcParams['xtick.labelsize']=35\n",
    "plt.show()"
   ]
  },
  {
   "cell_type": "code",
   "execution_count": 13,
   "id": "db585808",
   "metadata": {},
   "outputs": [],
   "source": [
    "# df_trbox.iloc[:,0:7]"
   ]
  },
  {
   "cell_type": "code",
   "execution_count": 14,
   "id": "8a349582",
   "metadata": {},
   "outputs": [],
   "source": [
    "# df_tr2.plot(x='CSE',y='LOS',kind='scatter',color='r')"
   ]
  },
  {
   "cell_type": "code",
   "execution_count": 15,
   "id": "938c404f",
   "metadata": {},
   "outputs": [
    {
     "data": {
      "text/html": [
       "<div>\n",
       "<style scoped>\n",
       "    .dataframe tbody tr th:only-of-type {\n",
       "        vertical-align: middle;\n",
       "    }\n",
       "\n",
       "    .dataframe tbody tr th {\n",
       "        vertical-align: top;\n",
       "    }\n",
       "\n",
       "    .dataframe thead th {\n",
       "        text-align: right;\n",
       "    }\n",
       "</style>\n",
       "<table border=\"1\" class=\"dataframe\">\n",
       "  <thead>\n",
       "    <tr style=\"text-align: right;\">\n",
       "      <th></th>\n",
       "      <th>SAL/HR</th>\n",
       "      <th>DRA</th>\n",
       "      <th>ICD9</th>\n",
       "      <th>ETH</th>\n",
       "      <th>MIC</th>\n",
       "      <th>CSE</th>\n",
       "    </tr>\n",
       "  </thead>\n",
       "  <tbody>\n",
       "    <tr>\n",
       "      <th>0</th>\n",
       "      <td>95.9</td>\n",
       "      <td>999.999984</td>\n",
       "      <td>1.0</td>\n",
       "      <td>7.0</td>\n",
       "      <td>0.0</td>\n",
       "      <td>3.0</td>\n",
       "    </tr>\n",
       "    <tr>\n",
       "      <th>1</th>\n",
       "      <td>86.0</td>\n",
       "      <td>1000.000000</td>\n",
       "      <td>1.0</td>\n",
       "      <td>7.0</td>\n",
       "      <td>0.0</td>\n",
       "      <td>3.0</td>\n",
       "    </tr>\n",
       "    <tr>\n",
       "      <th>2</th>\n",
       "      <td>90.0</td>\n",
       "      <td>139.520149</td>\n",
       "      <td>1.0</td>\n",
       "      <td>1.0</td>\n",
       "      <td>0.0</td>\n",
       "      <td>3.0</td>\n",
       "    </tr>\n",
       "    <tr>\n",
       "      <th>3</th>\n",
       "      <td>245.0</td>\n",
       "      <td>104.999996</td>\n",
       "      <td>1784.0</td>\n",
       "      <td>7.0</td>\n",
       "      <td>8.0</td>\n",
       "      <td>3.0</td>\n",
       "    </tr>\n",
       "    <tr>\n",
       "      <th>4</th>\n",
       "      <td>24.6</td>\n",
       "      <td>1.000000</td>\n",
       "      <td>35.0</td>\n",
       "      <td>7.0</td>\n",
       "      <td>4.0</td>\n",
       "      <td>7.0</td>\n",
       "    </tr>\n",
       "    <tr>\n",
       "      <th>5</th>\n",
       "      <td>67.0</td>\n",
       "      <td>987.167024</td>\n",
       "      <td>266.0</td>\n",
       "      <td>7.0</td>\n",
       "      <td>8.0</td>\n",
       "      <td>9.0</td>\n",
       "    </tr>\n",
       "    <tr>\n",
       "      <th>6</th>\n",
       "      <td>0.0</td>\n",
       "      <td>60.000000</td>\n",
       "      <td>4052.0</td>\n",
       "      <td>7.0</td>\n",
       "      <td>8.0</td>\n",
       "      <td>3.0</td>\n",
       "    </tr>\n",
       "    <tr>\n",
       "      <th>7</th>\n",
       "      <td>0.0</td>\n",
       "      <td>400.000000</td>\n",
       "      <td>2801.0</td>\n",
       "      <td>7.0</td>\n",
       "      <td>0.0</td>\n",
       "      <td>3.0</td>\n",
       "    </tr>\n",
       "    <tr>\n",
       "      <th>8</th>\n",
       "      <td>51.0</td>\n",
       "      <td>247.833338</td>\n",
       "      <td>1488.0</td>\n",
       "      <td>7.0</td>\n",
       "      <td>4.0</td>\n",
       "      <td>0.0</td>\n",
       "    </tr>\n",
       "    <tr>\n",
       "      <th>9</th>\n",
       "      <td>76.0</td>\n",
       "      <td>240.000000</td>\n",
       "      <td>4750.0</td>\n",
       "      <td>7.0</td>\n",
       "      <td>1.0</td>\n",
       "      <td>1.0</td>\n",
       "    </tr>\n",
       "    <tr>\n",
       "      <th>10</th>\n",
       "      <td>220.0</td>\n",
       "      <td>20.000001</td>\n",
       "      <td>80.0</td>\n",
       "      <td>7.0</td>\n",
       "      <td>8.0</td>\n",
       "      <td>3.0</td>\n",
       "    </tr>\n",
       "    <tr>\n",
       "      <th>11</th>\n",
       "      <td>94.0</td>\n",
       "      <td>1.000000</td>\n",
       "      <td>1407.0</td>\n",
       "      <td>2.0</td>\n",
       "      <td>8.0</td>\n",
       "      <td>8.0</td>\n",
       "    </tr>\n",
       "    <tr>\n",
       "      <th>12</th>\n",
       "      <td>105.0</td>\n",
       "      <td>500.000000</td>\n",
       "      <td>944.0</td>\n",
       "      <td>7.0</td>\n",
       "      <td>0.0</td>\n",
       "      <td>3.0</td>\n",
       "    </tr>\n",
       "    <tr>\n",
       "      <th>13</th>\n",
       "      <td>15.0</td>\n",
       "      <td>182.333339</td>\n",
       "      <td>2377.0</td>\n",
       "      <td>7.0</td>\n",
       "      <td>0.0</td>\n",
       "      <td>6.0</td>\n",
       "    </tr>\n",
       "    <tr>\n",
       "      <th>14</th>\n",
       "      <td>98.6</td>\n",
       "      <td>80.000006</td>\n",
       "      <td>4061.0</td>\n",
       "      <td>7.0</td>\n",
       "      <td>4.0</td>\n",
       "      <td>3.0</td>\n",
       "    </tr>\n",
       "    <tr>\n",
       "      <th>15</th>\n",
       "      <td>2000.0</td>\n",
       "      <td>1.000000</td>\n",
       "      <td>6538.0</td>\n",
       "      <td>7.0</td>\n",
       "      <td>0.0</td>\n",
       "      <td>3.0</td>\n",
       "    </tr>\n",
       "    <tr>\n",
       "      <th>16</th>\n",
       "      <td>3.0</td>\n",
       "      <td>0.250000</td>\n",
       "      <td>3325.0</td>\n",
       "      <td>3.0</td>\n",
       "      <td>0.0</td>\n",
       "      <td>3.0</td>\n",
       "    </tr>\n",
       "    <tr>\n",
       "      <th>17</th>\n",
       "      <td>2.0</td>\n",
       "      <td>300.000000</td>\n",
       "      <td>1231.0</td>\n",
       "      <td>7.0</td>\n",
       "      <td>8.0</td>\n",
       "      <td>0.0</td>\n",
       "    </tr>\n",
       "    <tr>\n",
       "      <th>18</th>\n",
       "      <td>12.0</td>\n",
       "      <td>306.666682</td>\n",
       "      <td>5776.0</td>\n",
       "      <td>7.0</td>\n",
       "      <td>5.0</td>\n",
       "      <td>9.0</td>\n",
       "    </tr>\n",
       "    <tr>\n",
       "      <th>19</th>\n",
       "      <td>120.0</td>\n",
       "      <td>78.450001</td>\n",
       "      <td>4116.0</td>\n",
       "      <td>5.0</td>\n",
       "      <td>0.0</td>\n",
       "      <td>0.0</td>\n",
       "    </tr>\n",
       "    <tr>\n",
       "      <th>20</th>\n",
       "      <td>97.6</td>\n",
       "      <td>50.000000</td>\n",
       "      <td>1801.0</td>\n",
       "      <td>0.0</td>\n",
       "      <td>0.0</td>\n",
       "      <td>3.0</td>\n",
       "    </tr>\n",
       "    <tr>\n",
       "      <th>21</th>\n",
       "      <td>120.0</td>\n",
       "      <td>2.000000</td>\n",
       "      <td>6669.0</td>\n",
       "      <td>7.0</td>\n",
       "      <td>4.0</td>\n",
       "      <td>6.0</td>\n",
       "    </tr>\n",
       "    <tr>\n",
       "      <th>22</th>\n",
       "      <td>83.0</td>\n",
       "      <td>16.666666</td>\n",
       "      <td>1632.0</td>\n",
       "      <td>7.0</td>\n",
       "      <td>0.0</td>\n",
       "      <td>2.0</td>\n",
       "    </tr>\n",
       "    <tr>\n",
       "      <th>23</th>\n",
       "      <td>71.0</td>\n",
       "      <td>1.000000</td>\n",
       "      <td>1094.0</td>\n",
       "      <td>7.0</td>\n",
       "      <td>6.0</td>\n",
       "      <td>3.0</td>\n",
       "    </tr>\n",
       "    <tr>\n",
       "      <th>24</th>\n",
       "      <td>69.8</td>\n",
       "      <td>4.185022</td>\n",
       "      <td>1163.0</td>\n",
       "      <td>2.0</td>\n",
       "      <td>0.0</td>\n",
       "      <td>3.0</td>\n",
       "    </tr>\n",
       "    <tr>\n",
       "      <th>25</th>\n",
       "      <td>154.0</td>\n",
       "      <td>50.000000</td>\n",
       "      <td>1324.0</td>\n",
       "      <td>7.0</td>\n",
       "      <td>0.0</td>\n",
       "      <td>3.0</td>\n",
       "    </tr>\n",
       "    <tr>\n",
       "      <th>26</th>\n",
       "      <td>95.0</td>\n",
       "      <td>0.500000</td>\n",
       "      <td>1295.0</td>\n",
       "      <td>7.0</td>\n",
       "      <td>8.0</td>\n",
       "      <td>3.0</td>\n",
       "    </tr>\n",
       "    <tr>\n",
       "      <th>27</th>\n",
       "      <td>78.0</td>\n",
       "      <td>5.000000</td>\n",
       "      <td>1.0</td>\n",
       "      <td>4.0</td>\n",
       "      <td>8.0</td>\n",
       "      <td>10.0</td>\n",
       "    </tr>\n",
       "    <tr>\n",
       "      <th>28</th>\n",
       "      <td>84.0</td>\n",
       "      <td>160.000000</td>\n",
       "      <td>1278.0</td>\n",
       "      <td>7.0</td>\n",
       "      <td>0.0</td>\n",
       "      <td>3.0</td>\n",
       "    </tr>\n",
       "    <tr>\n",
       "      <th>29</th>\n",
       "      <td>20.0</td>\n",
       "      <td>60.000000</td>\n",
       "      <td>4520.0</td>\n",
       "      <td>7.0</td>\n",
       "      <td>2.0</td>\n",
       "      <td>5.0</td>\n",
       "    </tr>\n",
       "    <tr>\n",
       "      <th>30</th>\n",
       "      <td>5.0</td>\n",
       "      <td>999.999960</td>\n",
       "      <td>331.0</td>\n",
       "      <td>7.0</td>\n",
       "      <td>8.0</td>\n",
       "      <td>3.0</td>\n",
       "    </tr>\n",
       "    <tr>\n",
       "      <th>31</th>\n",
       "      <td>5.0</td>\n",
       "      <td>240.000000</td>\n",
       "      <td>1059.0</td>\n",
       "      <td>7.0</td>\n",
       "      <td>0.0</td>\n",
       "      <td>3.0</td>\n",
       "    </tr>\n",
       "    <tr>\n",
       "      <th>32</th>\n",
       "      <td>94.0</td>\n",
       "      <td>1.000000</td>\n",
       "      <td>1407.0</td>\n",
       "      <td>7.0</td>\n",
       "      <td>3.0</td>\n",
       "      <td>3.0</td>\n",
       "    </tr>\n",
       "    <tr>\n",
       "      <th>33</th>\n",
       "      <td>143.0</td>\n",
       "      <td>1.000000</td>\n",
       "      <td>1595.0</td>\n",
       "      <td>7.0</td>\n",
       "      <td>8.0</td>\n",
       "      <td>6.0</td>\n",
       "    </tr>\n",
       "    <tr>\n",
       "      <th>34</th>\n",
       "      <td>5.0</td>\n",
       "      <td>12.111206</td>\n",
       "      <td>2940.0</td>\n",
       "      <td>7.0</td>\n",
       "      <td>8.0</td>\n",
       "      <td>3.0</td>\n",
       "    </tr>\n",
       "    <tr>\n",
       "      <th>35</th>\n",
       "      <td>93.0</td>\n",
       "      <td>6.000000</td>\n",
       "      <td>1008.0</td>\n",
       "      <td>7.0</td>\n",
       "      <td>0.0</td>\n",
       "      <td>5.0</td>\n",
       "    </tr>\n",
       "    <tr>\n",
       "      <th>36</th>\n",
       "      <td>95.2</td>\n",
       "      <td>1.000000</td>\n",
       "      <td>6571.0</td>\n",
       "      <td>7.0</td>\n",
       "      <td>4.0</td>\n",
       "      <td>8.0</td>\n",
       "    </tr>\n",
       "    <tr>\n",
       "      <th>37</th>\n",
       "      <td>73.0</td>\n",
       "      <td>200.000000</td>\n",
       "      <td>1890.0</td>\n",
       "      <td>6.0</td>\n",
       "      <td>8.0</td>\n",
       "      <td>3.0</td>\n",
       "    </tr>\n",
       "    <tr>\n",
       "      <th>38</th>\n",
       "      <td>68.0</td>\n",
       "      <td>10078.023120</td>\n",
       "      <td>920.0</td>\n",
       "      <td>7.0</td>\n",
       "      <td>0.0</td>\n",
       "      <td>4.0</td>\n",
       "    </tr>\n",
       "    <tr>\n",
       "      <th>39</th>\n",
       "      <td>103.0</td>\n",
       "      <td>361.000000</td>\n",
       "      <td>1399.0</td>\n",
       "      <td>1.0</td>\n",
       "      <td>4.0</td>\n",
       "      <td>8.0</td>\n",
       "    </tr>\n",
       "    <tr>\n",
       "      <th>40</th>\n",
       "      <td>6.5</td>\n",
       "      <td>1.000000</td>\n",
       "      <td>2624.0</td>\n",
       "      <td>7.0</td>\n",
       "      <td>0.0</td>\n",
       "      <td>3.0</td>\n",
       "    </tr>\n",
       "    <tr>\n",
       "      <th>41</th>\n",
       "      <td>3.5</td>\n",
       "      <td>0.029167</td>\n",
       "      <td>1.0</td>\n",
       "      <td>7.0</td>\n",
       "      <td>0.0</td>\n",
       "      <td>3.0</td>\n",
       "    </tr>\n",
       "    <tr>\n",
       "      <th>42</th>\n",
       "      <td>127.2</td>\n",
       "      <td>7.999999</td>\n",
       "      <td>230.0</td>\n",
       "      <td>7.0</td>\n",
       "      <td>4.0</td>\n",
       "      <td>1.0</td>\n",
       "    </tr>\n",
       "    <tr>\n",
       "      <th>43</th>\n",
       "      <td>82.0</td>\n",
       "      <td>49.999999</td>\n",
       "      <td>50.0</td>\n",
       "      <td>7.0</td>\n",
       "      <td>4.0</td>\n",
       "      <td>9.0</td>\n",
       "    </tr>\n",
       "    <tr>\n",
       "      <th>44</th>\n",
       "      <td>75.0</td>\n",
       "      <td>499.999980</td>\n",
       "      <td>640.0</td>\n",
       "      <td>7.0</td>\n",
       "      <td>0.0</td>\n",
       "      <td>3.0</td>\n",
       "    </tr>\n",
       "    <tr>\n",
       "      <th>45</th>\n",
       "      <td>100.0</td>\n",
       "      <td>9.950000</td>\n",
       "      <td>485.0</td>\n",
       "      <td>1.0</td>\n",
       "      <td>7.0</td>\n",
       "      <td>3.0</td>\n",
       "    </tr>\n",
       "    <tr>\n",
       "      <th>46</th>\n",
       "      <td>32.0</td>\n",
       "      <td>240.000000</td>\n",
       "      <td>1818.0</td>\n",
       "      <td>7.0</td>\n",
       "      <td>4.0</td>\n",
       "      <td>0.0</td>\n",
       "    </tr>\n",
       "    <tr>\n",
       "      <th>47</th>\n",
       "      <td>6.5</td>\n",
       "      <td>60.000000</td>\n",
       "      <td>1.0</td>\n",
       "      <td>7.0</td>\n",
       "      <td>0.0</td>\n",
       "      <td>8.0</td>\n",
       "    </tr>\n",
       "  </tbody>\n",
       "</table>\n",
       "</div>"
      ],
      "text/plain": [
       "    SAL/HR           DRA    ICD9  ETH  MIC   CSE\n",
       "0     95.9    999.999984     1.0  7.0  0.0   3.0\n",
       "1     86.0   1000.000000     1.0  7.0  0.0   3.0\n",
       "2     90.0    139.520149     1.0  1.0  0.0   3.0\n",
       "3    245.0    104.999996  1784.0  7.0  8.0   3.0\n",
       "4     24.6      1.000000    35.0  7.0  4.0   7.0\n",
       "5     67.0    987.167024   266.0  7.0  8.0   9.0\n",
       "6      0.0     60.000000  4052.0  7.0  8.0   3.0\n",
       "7      0.0    400.000000  2801.0  7.0  0.0   3.0\n",
       "8     51.0    247.833338  1488.0  7.0  4.0   0.0\n",
       "9     76.0    240.000000  4750.0  7.0  1.0   1.0\n",
       "10   220.0     20.000001    80.0  7.0  8.0   3.0\n",
       "11    94.0      1.000000  1407.0  2.0  8.0   8.0\n",
       "12   105.0    500.000000   944.0  7.0  0.0   3.0\n",
       "13    15.0    182.333339  2377.0  7.0  0.0   6.0\n",
       "14    98.6     80.000006  4061.0  7.0  4.0   3.0\n",
       "15  2000.0      1.000000  6538.0  7.0  0.0   3.0\n",
       "16     3.0      0.250000  3325.0  3.0  0.0   3.0\n",
       "17     2.0    300.000000  1231.0  7.0  8.0   0.0\n",
       "18    12.0    306.666682  5776.0  7.0  5.0   9.0\n",
       "19   120.0     78.450001  4116.0  5.0  0.0   0.0\n",
       "20    97.6     50.000000  1801.0  0.0  0.0   3.0\n",
       "21   120.0      2.000000  6669.0  7.0  4.0   6.0\n",
       "22    83.0     16.666666  1632.0  7.0  0.0   2.0\n",
       "23    71.0      1.000000  1094.0  7.0  6.0   3.0\n",
       "24    69.8      4.185022  1163.0  2.0  0.0   3.0\n",
       "25   154.0     50.000000  1324.0  7.0  0.0   3.0\n",
       "26    95.0      0.500000  1295.0  7.0  8.0   3.0\n",
       "27    78.0      5.000000     1.0  4.0  8.0  10.0\n",
       "28    84.0    160.000000  1278.0  7.0  0.0   3.0\n",
       "29    20.0     60.000000  4520.0  7.0  2.0   5.0\n",
       "30     5.0    999.999960   331.0  7.0  8.0   3.0\n",
       "31     5.0    240.000000  1059.0  7.0  0.0   3.0\n",
       "32    94.0      1.000000  1407.0  7.0  3.0   3.0\n",
       "33   143.0      1.000000  1595.0  7.0  8.0   6.0\n",
       "34     5.0     12.111206  2940.0  7.0  8.0   3.0\n",
       "35    93.0      6.000000  1008.0  7.0  0.0   5.0\n",
       "36    95.2      1.000000  6571.0  7.0  4.0   8.0\n",
       "37    73.0    200.000000  1890.0  6.0  8.0   3.0\n",
       "38    68.0  10078.023120   920.0  7.0  0.0   4.0\n",
       "39   103.0    361.000000  1399.0  1.0  4.0   8.0\n",
       "40     6.5      1.000000  2624.0  7.0  0.0   3.0\n",
       "41     3.5      0.029167     1.0  7.0  0.0   3.0\n",
       "42   127.2      7.999999   230.0  7.0  4.0   1.0\n",
       "43    82.0     49.999999    50.0  7.0  4.0   9.0\n",
       "44    75.0    499.999980   640.0  7.0  0.0   3.0\n",
       "45   100.0      9.950000   485.0  1.0  7.0   3.0\n",
       "46    32.0    240.000000  1818.0  7.0  4.0   0.0\n",
       "47     6.5     60.000000     1.0  7.0  0.0   8.0"
      ]
     },
     "execution_count": 15,
     "metadata": {},
     "output_type": "execute_result"
    }
   ],
   "source": [
    "df_tr2.iloc[:,1:-1].astype(float)"
   ]
  },
  {
   "cell_type": "code",
   "execution_count": 16,
   "id": "3fc2a8ce",
   "metadata": {},
   "outputs": [
    {
     "data": {
      "text/plain": [
       "0      2.4549\n",
       "1      1.1116\n",
       "2      0.8592\n",
       "3      1.2620\n",
       "4      1.7299\n",
       "5      1.1474\n",
       "6     19.5761\n",
       "7      2.0003\n",
       "8      1.0337\n",
       "9      8.9255\n",
       "10     2.4872\n",
       "11     3.5465\n",
       "12     0.7146\n",
       "13     1.6694\n",
       "14    10.7341\n",
       "15    12.9903\n",
       "16     2.5803\n",
       "17     0.8799\n",
       "18     5.0956\n",
       "19    13.3570\n",
       "20     1.2607\n",
       "21     5.4263\n",
       "22     1.1358\n",
       "23     0.7974\n",
       "24     3.7760\n",
       "25     1.0316\n",
       "26     0.9911\n",
       "27     1.9121\n",
       "28     0.9538\n",
       "29    29.2601\n",
       "30     1.7404\n",
       "31     1.0082\n",
       "32     1.0429\n",
       "33     1.9657\n",
       "34     4.2467\n",
       "35     0.7437\n",
       "36     7.1076\n",
       "37     2.4031\n",
       "38     2.2821\n",
       "39     0.9775\n",
       "40     1.9252\n",
       "41     0.1904\n",
       "42     1.3153\n",
       "43     1.9287\n",
       "44     0.6259\n",
       "45    31.1235\n",
       "46     1.3279\n",
       "47     4.6191\n",
       "Name: LOS, dtype: float64"
      ]
     },
     "execution_count": 16,
     "metadata": {},
     "output_type": "execute_result"
    }
   ],
   "source": [
    "df_tr2.iloc[:,-1]"
   ]
  },
  {
   "cell_type": "code",
   "execution_count": 17,
   "id": "0ce5b084",
   "metadata": {},
   "outputs": [],
   "source": [
    "X,y=df_tr2.iloc[:,1:-1].astype(float),df_tr2.iloc[:,-1]"
   ]
  },
  {
   "cell_type": "code",
   "execution_count": 18,
   "id": "fa4ac55e",
   "metadata": {},
   "outputs": [],
   "source": [
    "# plt.figure(figsize=(10,8))\n",
    "# hist = X.hist(bins=5)\n",
    "# plt.show()"
   ]
  },
  {
   "cell_type": "code",
   "execution_count": 19,
   "id": "85f02bc4",
   "metadata": {},
   "outputs": [
    {
     "data": {
      "text/plain": [
       "['SAL/HR', 'DRA', 'ICD9', 'ETH', 'MIC', 'CSE']"
      ]
     },
     "execution_count": 19,
     "metadata": {},
     "output_type": "execute_result"
    }
   ],
   "source": [
    "import xgboost as xgb\n",
    "data_dmatrix = xgb.DMatrix(data=X,label=y)\n",
    "data_dmatrix.feature_names"
   ]
  },
  {
   "cell_type": "code",
   "execution_count": 20,
   "id": "fa401aee",
   "metadata": {},
   "outputs": [],
   "source": [
    "xg_reg = xgb.XGBRegressor(objective ='reg:tweedie', colsample_bytree = 0.3, learning_rate = 0.1,\n",
    "                max_depth = 5, alpha = 10, n_estimators = 10)"
   ]
  },
  {
   "cell_type": "code",
   "execution_count": 21,
   "id": "9faeaee6",
   "metadata": {},
   "outputs": [],
   "source": [
    "X_train, X_test, y_train, y_test = train_test_split(X, y, test_size=0.2, random_state=123)"
   ]
  },
  {
   "cell_type": "code",
   "execution_count": 22,
   "id": "16c0fa5a",
   "metadata": {},
   "outputs": [
    {
     "name": "stdout",
     "output_type": "stream",
     "text": [
      "RMSE: 1.778857 r2scores: -0.857769\n"
     ]
    }
   ],
   "source": [
    "# for i in range(64,115):\n",
    "xg_reg = xgb.XGBRegressor(objective ='reg:tweedie', colsample_bytree = 0.3,subsample=0.8, learning_rate = 0.1,\n",
    "                max_depth = 5,booster='dart', alpha = 10, n_estimators = 100, random_state=114)\n",
    "xg_reg.fit(X_train,y_train)\n",
    "preds = xg_reg.predict(X_test)\n",
    "rmse = np.sqrt(mean_squared_error(y_test, preds))\n",
    "r2scores=r2_score(y_test, preds)\n",
    "print(\"RMSE: %f\" % (rmse), \"r2scores: %f\" % (r2scores))"
   ]
  },
  {
   "cell_type": "code",
   "execution_count": 23,
   "id": "3459223b",
   "metadata": {},
   "outputs": [
    {
     "data": {
      "text/plain": [
       "10"
      ]
     },
     "execution_count": 23,
     "metadata": {},
     "output_type": "execute_result"
    }
   ],
   "source": [
    "len(y_test)"
   ]
  },
  {
   "cell_type": "code",
   "execution_count": 24,
   "id": "3ae840e2",
   "metadata": {},
   "outputs": [
    {
     "data": {
      "image/png": "[encoded data removed]",
      "text/plain": [
       "<Figure size 432x288 with 1 Axes>"
      ]
     },
     "metadata": {
      "needs_background": "light"
     },
     "output_type": "display_data"
    }
   ],
   "source": [
    "a=np.arange(0,len(y_test))\n",
    "font1 = {'family':'serif','color':'blue','size':15}\n",
    "font2 = {'family':'serif','color':'darkred','size':15}\n",
    "# ens=plt.scatter(a,ens_pred,c='r', s=60)\n",
    "act=plt.scatter(a,y_test, c='b', marker='d', s=60)\n",
    "xgb=plt.scatter(a,preds, c='k', marker='o', s=60)\n",
    "plt.ylabel('Lenth-of-stay (LOS)', fontdict=font1, c='k')\n",
    "plt.xlabel('Patient', fontdict=font1, c='k')\n",
    "plt.ylim(0,12)\n",
    "plt.rcParams['ytick.labelsize']=18\n",
    "plt.rcParams['xtick.labelsize']=18\n",
    "plt.legend((act, xgb),\n",
    "           ('Actual', ' XGBoost'),\n",
    "           scatterpoints=1,\n",
    "           loc='upper right',\n",
    "           ncol=3,\n",
    "           fontsize=15)\n",
    "plt.show()"
   ]
  },
  {
   "cell_type": "code",
   "execution_count": 25,
   "id": "f8d24b3c",
   "metadata": {},
   "outputs": [
    {
     "data": {
      "text/plain": [
       "array([3.4850025, 2.6210184, 3.3264768, 2.6854103, 5.8291755, 2.764685 ,\n",
       "       3.019321 , 2.6288195, 2.92939  , 2.1007729], dtype=float32)"
      ]
     },
     "execution_count": 25,
     "metadata": {},
     "output_type": "execute_result"
    }
   ],
   "source": [
    "## rs=18,64=66.9\n",
    "preds"
   ]
  },
  {
   "cell_type": "code",
   "execution_count": 26,
   "id": "50353f95",
   "metadata": {},
   "outputs": [],
   "source": [
    "## Hyper Parameter Optimization\n",
    "params={\n",
    " \"learning_rate\"    : [0.05, 0.10, 0.15, 0.20, 0.25, 0.30 ] ,\n",
    " \"max_depth\"        : [ 3, 4, 5, 6, 8, 10, 12, 15],\n",
    " \"min_child_weight\" : [ 1, 3, 5, 7,8 ],\n",
    " \"gamma\"            : [ 0.0, 0.1, 0.2 , 0.3, 0.4, 0.5,0.6 ],\n",
    " \"colsample_bytree\" : [ 0.3, 0.4, 0.5 ,0.6, 0.7, 0.8 ],\n",
    "#     \"booster\" :['dart, gbtree'],\n",
    "'objective': ['reg:tweedie']\n",
    "    }"
   ]
  },
  {
   "cell_type": "code",
   "execution_count": 28,
   "id": "e5fb8856",
   "metadata": {},
   "outputs": [],
   "source": [
    "# pred"
   ]
  },
  {
   "cell_type": "code",
   "execution_count": 29,
   "id": "18543daf",
   "metadata": {},
   "outputs": [
    {
     "data": {
      "image/png": "[encoded data removed]",
      "text/plain": [
       "<Figure size 432x288 with 1 Axes>"
      ]
     },
     "metadata": {
      "needs_background": "light"
     },
     "output_type": "display_data"
    }
   ],
   "source": [
    "import xgboost as xgb\n",
    "xgb.plot_importance(xg_reg, xlim=(0,35))\n",
    "plt.rcParams['figure.figsize'] = [12,8 ]\n",
    "plt.rcParams['ytick.labelsize']=18\n",
    "plt.rcParams['xtick.labelsize']=18\n",
    "plt.rcParams.update({'font.size': 22})\n",
    "plt.show()"
   ]
  },
  {
   "cell_type": "code",
   "execution_count": 30,
   "id": "ac1d2db5",
   "metadata": {},
   "outputs": [
    {
     "name": "stdout",
     "output_type": "stream",
     "text": [
      "RMSE: 1.649957 r2scores: -0.598286\n"
     ]
    }
   ],
   "source": [
    "## SVR regression \n",
    "from sklearn.svm import SVR\n",
    "reg_svr = SVR(kernel = 'rbf', C=10)\n",
    "reg_svr.fit(X_train, y_train)\n",
    "svr_pred=reg_svr.predict(X_test)\n",
    "## SVR regression Error\n",
    "rmse = np.sqrt(mean_squared_error(y_test, svr_pred))\n",
    "r2scores=r2_score(y_test, svr_pred)\n",
    "print(\"RMSE: %f\" % (rmse), \"r2scores: %f\" % (r2scores))"
   ]
  },
  {
   "cell_type": "code",
   "execution_count": 31,
   "id": "d99e7fdf",
   "metadata": {},
   "outputs": [
    {
     "data": {
      "text/html": [
       "<style>#sk-container-id-1 {color: black;background-color: white;}#sk-container-id-1 pre{padding: 0;}#sk-container-id-1 div.sk-toggleable {background-color: white;}#sk-container-id-1 label.sk-toggleable__label {cursor: pointer;display: block;width: 100%;margin-bottom: 0;padding: 0.3em;box-sizing: border-box;text-align: center;}#sk-container-id-1 label.sk-toggleable__label-arrow:before {content: \"▸\";float: left;margin-right: 0.25em;color: #696969;}#sk-container-id-1 label.sk-toggleable__label-arrow:hover:before {color: black;}#sk-container-id-1 div.sk-estimator:hover label.sk-toggleable__label-arrow:before {color: black;}#sk-container-id-1 div.sk-toggleable__content {max-height: 0;max-width: 0;overflow: hidden;text-align: left;background-color: #f0f8ff;}#sk-container-id-1 div.sk-toggleable__content pre {margin: 0.2em;color: black;border-radius: 0.25em;background-color: #f0f8ff;}#sk-container-id-1 input.sk-toggleable__control:checked~div.sk-toggleable__content {max-height: 200px;max-width: 100%;overflow: auto;}#sk-container-id-1 input.sk-toggleable__control:checked~label.sk-toggleable__label-arrow:before {content: \"▾\";}#sk-container-id-1 div.sk-estimator input.sk-toggleable__control:checked~label.sk-toggleable__label {background-color: #d4ebff;}#sk-container-id-1 div.sk-label input.sk-toggleable__control:checked~label.sk-toggleable__label {background-color: #d4ebff;}#sk-container-id-1 input.sk-hidden--visually {border: 0;clip: rect(1px 1px 1px 1px);clip: rect(1px, 1px, 1px, 1px);height: 1px;margin: -1px;overflow: hidden;padding: 0;position: absolute;width: 1px;}#sk-container-id-1 div.sk-estimator {font-family: monospace;background-color: #f0f8ff;border: 1px dotted black;border-radius: 0.25em;box-sizing: border-box;margin-bottom: 0.5em;}#sk-container-id-1 div.sk-estimator:hover {background-color: #d4ebff;}#sk-container-id-1 div.sk-parallel-item::after {content: \"\";width: 100%;border-bottom: 1px solid gray;flex-grow: 1;}#sk-container-id-1 div.sk-label:hover label.sk-toggleable__label {background-color: #d4ebff;}#sk-container-id-1 div.sk-serial::before {content: \"\";position: absolute;border-left: 1px solid gray;box-sizing: border-box;top: 0;bottom: 0;left: 50%;z-index: 0;}#sk-container-id-1 div.sk-serial {display: flex;flex-direction: column;align-items: center;background-color: white;padding-right: 0.2em;padding-left: 0.2em;position: relative;}#sk-container-id-1 div.sk-item {position: relative;z-index: 1;}#sk-container-id-1 div.sk-parallel {display: flex;align-items: stretch;justify-content: center;background-color: white;position: relative;}#sk-container-id-1 div.sk-item::before, #sk-container-id-1 div.sk-parallel-item::before {content: \"\";position: absolute;border-left: 1px solid gray;box-sizing: border-box;top: 0;bottom: 0;left: 50%;z-index: -1;}#sk-container-id-1 div.sk-parallel-item {display: flex;flex-direction: column;z-index: 1;position: relative;background-color: white;}#sk-container-id-1 div.sk-parallel-item:first-child::after {align-self: flex-end;width: 50%;}#sk-container-id-1 div.sk-parallel-item:last-child::after {align-self: flex-start;width: 50%;}#sk-container-id-1 div.sk-parallel-item:only-child::after {width: 0;}#sk-container-id-1 div.sk-dashed-wrapped {border: 1px dashed gray;margin: 0 0.4em 0.5em 0.4em;box-sizing: border-box;padding-bottom: 0.4em;background-color: white;}#sk-container-id-1 div.sk-label label {font-family: monospace;font-weight: bold;display: inline-block;line-height: 1.2em;}#sk-container-id-1 div.sk-label-container {text-align: center;}#sk-container-id-1 div.sk-container {/* jupyter's `normalize.less` sets `[hidden] { display: none; }` but bootstrap.min.css set `[hidden] { display: none !important; }` so we also need the `!important` here to be able to override the default hidden behavior on the sphinx rendered scikit-learn.org. See: https://github.com/scikit-learn/scikit-learn/issues/21755 */display: inline-block !important;position: relative;}#sk-container-id-1 div.sk-text-repr-fallback {display: none;}</style><div id=\"sk-container-id-1\" class=\"sk-top-container\"><div class=\"sk-text-repr-fallback\"><pre>RandomForestRegressor(max_depth=2, n_estimators=20, random_state=0)</pre><b>In a Jupyter environment, please rerun this cell to show the HTML representation or trust the notebook. <br />On GitHub, the HTML representation is unable to render, please try loading this page with nbviewer.org.</b></div><div class=\"sk-container\" hidden><div class=\"sk-item\"><div class=\"sk-estimator sk-toggleable\"><input class=\"sk-toggleable__control sk-hidden--visually\" id=\"sk-estimator-id-1\" type=\"checkbox\" checked><label for=\"sk-estimator-id-1\" class=\"sk-toggleable__label sk-toggleable__label-arrow\">RandomForestRegressor</label><div class=\"sk-toggleable__content\"><pre>RandomForestRegressor(max_depth=2, n_estimators=20, random_state=0)</pre></div></div></div></div></div>"
      ],
      "text/plain": [
       "RandomForestRegressor(max_depth=2, n_estimators=20, random_state=0)"
      ]
     },
     "execution_count": 31,
     "metadata": {},
     "output_type": "execute_result"
    }
   ],
   "source": [
    "rf_regr = RandomForestRegressor(n_estimators=20,max_depth=2, random_state=0)\n",
    "rf_regr.fit(X_train,y_train)"
   ]
  },
  {
   "cell_type": "code",
   "execution_count": 33,
   "id": "e543a347",
   "metadata": {},
   "outputs": [],
   "source": [
    "# estimators"
   ]
  },
  {
   "cell_type": "code",
   "execution_count": 34,
   "id": "6fca394e",
   "metadata": {},
   "outputs": [
    {
     "name": "stdout",
     "output_type": "stream",
     "text": [
      "RMSE: 1.649957 SVRr2scores: -0.598286\n",
      "RMSE: 7.134096 RFr2scores: -28.880470\n",
      "RMSE: 1.778857 XGBr2scores: -0.857769\n",
      "RMSE: 7.134096 Voting2scores: -3.416330\n"
     ]
    }
   ],
   "source": [
    "from sklearn.ensemble import VotingRegressor\n",
    "import xgboost as xgb\n",
    "svr_reg=SVR(kernel = 'rbf', C=10)\n",
    "rf_reg=RandomForestRegressor(n_estimators=100,max_depth=5,criterion=\"squared_error\", random_state=14)\n",
    "xgb_reg=xgb.XGBRegressor(objective ='reg:tweedie', colsample_bytree = 0.3,subsample=0.8, learning_rate = 0.1,\n",
    "                max_depth = 5,booster='dart', alpha = 10, n_estimators = 100, random_state=114)\n",
    "vot_reg= VotingRegressor([('svr', svr_reg),('rf',rf_reg),('xgb', xgb_reg)])\n",
    "\n",
    "### Fitting the regressor\n",
    "svr_reg.fit(X_train, y_train)\n",
    "rf_reg.fit(X_train, y_train)\n",
    "xgb_reg.fit(X_train, y_train)\n",
    "vot_reg.fit(X_train, y_train)\n",
    "## Prediction\n",
    "psvr=svr_reg.predict(X_test)\n",
    "prf=rf_reg.predict(X_test)\n",
    "pxgb=xgb_reg.predict(X_test)\n",
    "pvot=vot_reg.predict(X_test)\n",
    "rmse = np.sqrt(mean_squared_error(y_test, pvot))\n",
    "r2scores=r2_score(y_test, pvot)\n",
    "# print(\"RMSE: %f\" % (rmse), \"r2scores: %f\" % (r2scores))\n",
    "\n",
    "## R2 for each regressor\n",
    "# r2scores=r2_score(y_test, pvot)\n",
    "print(\"RMSE: %f\" % (np.sqrt(mean_squared_error(y_test, psvr))), \"SVRr2scores: %f\" % (r2_score(y_test, psvr)))\n",
    "print(\"RMSE: %f\" % (np.sqrt(mean_squared_error(y_test, prf))), \"RFr2scores: %f\" % (r2_score(y_test, prf)))\n",
    "print(\"RMSE: %f\" % (np.sqrt(mean_squared_error(y_test, pxgb))), \"XGBr2scores: %f\" % (r2_score(y_test, pxgb)))\n",
    "print(\"RMSE: %f\" % (np.sqrt(mean_squared_error(y_test, prf))), \"Voting2scores: %f\" % (r2_score(y_test, pvot)))"
   ]
  },
  {
   "cell_type": "code",
   "execution_count": 35,
   "id": "d7fa1c24",
   "metadata": {},
   "outputs": [],
   "source": [
    "# plt.plot(psvr,\"gd\", label=\"GradientBoostingRegressor\")"
   ]
  },
  {
   "cell_type": "code",
   "execution_count": 36,
   "id": "b285d5a1",
   "metadata": {},
   "outputs": [
    {
     "data": {
      "image/png": "[encoded data removed]",
      "text/plain": [
       "<Figure size 864x576 with 1 Axes>"
      ]
     },
     "metadata": {
      "needs_background": "light"
     },
     "output_type": "display_data"
    }
   ],
   "source": [
    "font1 = {'family':'serif','color':'blue','size':20}\n",
    "plt.figure()\n",
    "plt.plot(psvr,\"kd\",ms=14, label=\"SVR\")\n",
    "plt.plot(prf, \"gs\",ms=14, label=\"RF\")\n",
    "plt.plot(pxgb, \"bo\", ms=14,label=\"XGB\")\n",
    "plt.plot(pvot, \"r*\", ms=14, label=\"Voting\")\n",
    "plt.plot(y_test.values,  \"c^\",ms=14, label=\"Actual\")\n",
    "\n",
    "plt.tick_params(axis=\"x\", which=\"both\", bottom=False, top=False, labelbottom=False)\n",
    "plt.ylabel('Lenth-of-stay (LOS)', fontdict=font1, c='k')\n",
    "plt.xlabel('Patient', fontdict=font1, c='k')\n",
    "plt.legend(loc=\"best\")\n",
    "plt.ylim(0,12)\n",
    "# plt.title(\"Regressor predictions and their average\")\n",
    "plt.show()"
   ]
  },
  {
   "cell_type": "code",
   "execution_count": 37,
   "id": "09458390",
   "metadata": {},
   "outputs": [
    {
     "name": "stdout",
     "output_type": "stream",
     "text": [
      "RMSE: 1.649957 SVRr2scores: -0.598286\n",
      "RMSE: 7.134096 RFr2scores: -28.880470\n",
      "RMSE: 1.778857 XGBr2scores: -0.857769\n",
      "RMSE: 7.134096 XGBr2scores: -3.416330\n"
     ]
    }
   ],
   "source": [
    "# r2scores=r2_score(y_test, pvot)\n",
    "print(\"RMSE: %f\" % (np.sqrt(mean_squared_error(y_test, psvr))), \"SVRr2scores: %f\" % (r2_score(y_test, psvr)))\n",
    "print(\"RMSE: %f\" % (np.sqrt(mean_squared_error(y_test, prf))), \"RFr2scores: %f\" % (r2_score(y_test, prf)))\n",
    "print(\"RMSE: %f\" % (np.sqrt(mean_squared_error(y_test, pxgb))), \"XGBr2scores: %f\" % (r2_score(y_test, pxgb)))\n",
    "print(\"RMSE: %f\" % (np.sqrt(mean_squared_error(y_test, prf))), \"XGBr2scores: %f\" % (r2_score(y_test, pvot)))"
   ]
  },
  {
   "cell_type": "code",
   "execution_count": null,
   "id": "d9ea9717",
   "metadata": {},
   "outputs": [],
   "source": []
  },
  {
   "cell_type": "code",
   "execution_count": null,
   "id": "56dba4c5",
   "metadata": {},
   "outputs": [],
   "source": []
  },
  {
   "cell_type": "code",
   "execution_count": 38,
   "id": "31025bcc",
   "metadata": {},
   "outputs": [
    {
     "data": {
      "text/plain": [
       "array([5.0956, 1.6694, 0.9911, 1.0082, 2.4872, 1.9252, 0.9775, 1.0337,\n",
       "       3.5465, 1.1474])"
      ]
     },
     "execution_count": 38,
     "metadata": {},
     "output_type": "execute_result"
    }
   ],
   "source": [
    "y_test.values"
   ]
  },
  {
   "cell_type": "code",
   "execution_count": 39,
   "id": "ccfa7867",
   "metadata": {},
   "outputs": [
    {
     "data": {
      "image/png": "[encoded data removed]",
      "text/plain": [
       "<Figure size 864x576 with 1 Axes>"
      ]
     },
     "metadata": {
      "needs_background": "light"
     },
     "output_type": "display_data"
    }
   ],
   "source": [
    "# a=np.arange(0,len(ens_pred))\n",
    "a=np.arange(0,len(pvot))\n",
    "font1 = {'family':'serif','color':'blue','size':15}\n",
    "font2 = {'family':'serif','color':'darkred','size':15}\n",
    "# ens=plt.scatter(a,ens_pred,c='r', s=60)\n",
    "act=plt.scatter(a,y_test, c='b', marker='d', s=60)\n",
    "xgb=plt.scatter(a,preds, c='k', marker='o', s=60)\n",
    "plt.ylabel('Lenth-of-stay (LOS) in days)', fontdict=font1, c='k')\n",
    "plt.xlabel('Admission', fontdict=font1, c='k')\n",
    "plt.rcParams['ytick.labelsize']=18\n",
    "plt.rcParams['xtick.labelsize']=18\n",
    "plt.legend((act, xgb),\n",
    "           ('Actual', ' XGBoost Predition'),\n",
    "           scatterpoints=1,\n",
    "           loc='upper right',\n",
    "           ncol=3,\n",
    "           fontsize=15)\n",
    "plt.show()"
   ]
  },
  {
   "cell_type": "markdown",
   "id": "f9d13f5e",
   "metadata": {},
   "source": [
    "### [Voting Regressor](https://scikit-learn.org/stable/auto_examples/ensemble/plot_voting_regressor.html#sphx-glr-auto-examples-ensemble-plot-voting-regressor-py)"
   ]
  },
  {
   "cell_type": "code",
   "execution_count": null,
   "id": "15aea24c",
   "metadata": {},
   "outputs": [],
   "source": []
  },
  {
   "cell_type": "code",
   "execution_count": null,
   "id": "ae26a05c",
   "metadata": {},
   "outputs": [],
   "source": []
  },
  {
   "cell_type": "code",
   "execution_count": null,
   "id": "fbbef5fb",
   "metadata": {},
   "outputs": [],
   "source": []
  },
  {
   "cell_type": "markdown",
   "id": "e483238a",
   "metadata": {},
   "source": [
    "### Bar cahrt"
   ]
  },
  {
   "cell_type": "code",
   "execution_count": 40,
   "id": "e815a814",
   "metadata": {},
   "outputs": [
    {
     "name": "stderr",
     "output_type": "stream",
     "text": [
      "No artists with labels found to put in legend.  Note that artists whose label start with an underscore are ignored when legend() is called with no argument.\n"
     ]
    },
    {
     "data": {
      "text/plain": [
       "<Figure size 360x288 with 0 Axes>"
      ]
     },
     "metadata": {},
     "output_type": "display_data"
    },
    {
     "data": {
      "image/png": "[encoded data removed]",
      "text/plain": [
       "<Figure size 864x576 with 1 Axes>"
      ]
     },
     "metadata": {
      "needs_background": "light"
     },
     "output_type": "display_data"
    }
   ],
   "source": [
    "plt.figure(figsize=(5,4))\n",
    "cp_evk=[60,62,86,73,]; #rs=11\n",
    "n_groups = len(cp_evk)\n",
    "# cp_ind=[47.5,55.0,67.5,72.5];# rs=23\n",
    "#Manually data\n",
    "# clear = [61.29,54.84,54.84,51.29]\n",
    "# noise = [59.38,59.38,59.38,53.12]\n",
    "# create plot\n",
    "axis_font = {'fontname':'Arial', 'size':'25'}\n",
    "fig, ax = plt.subplots()\n",
    "index = np.arange(n_groups)\n",
    "bar_width = 0.40\n",
    "opacity = 0.85\n",
    " \n",
    "rects1 = plt.bar(index, cp_evk,\n",
    "                 alpha=opacity,\n",
    "                 color=['k','g','b','r',],width=bar_width\n",
    "                 #label=r'$R^{2}$'\n",
    "                )\n",
    "plt.xlabel('Model name',**axis_font)\n",
    "plt.ylabel('$R^{2}$'  '(%)',**axis_font)\n",
    "# plt.title('Whole-brain',**axis_font)\n",
    "plt.ylim(0,100)\n",
    "#plt.xticks(index + bar_width-0.2, ('Theta','Alpha', 'Beta', 'Gamma'))\n",
    "plt.xticks(index, ('SVR','RF','XGBoost','Voting'),**axis_font)\n",
    "plt.yticks(**axis_font)\n",
    "plt.legend(fontsize=22,#loc='upper center'\n",
    "          )\n",
    "plt.tight_layout()\n",
    "# plt.rcParams['ytick.labelsize']=35\n",
    "# plt.rcParams['xtick.labelsize']=80\n",
    "plt.show()\n",
    "#fig.savefig('LH_band.png')"
   ]
  },
  {
   "cell_type": "markdown",
   "id": "97089907",
   "metadata": {},
   "source": [
    " ** END**"
   ]
  },
  {
   "cell_type": "code",
   "execution_count": 42,
   "id": "018e9c99",
   "metadata": {},
   "outputs": [],
   "source": []
  },
  {
   "cell_type": "code",
   "execution_count": null,
   "id": "86008a21",
   "metadata": {},
   "outputs": [],
   "source": []
  }
 ],
 "metadata": {
  "kernelspec": {
   "display_name": "Python 3 (ipykernel)",
   "language": "python",
   "name": "python3"
  },
  "language_info": {
   "codemirror_mode": {
    "name": "ipython",
    "version": 3
   },
   "file_extension": ".py",
   "mimetype": "text/x-python",
   "name": "python",
   "nbconvert_exporter": "python",
   "pygments_lexer": "ipython3",
   "version": "3.9.7"
  }
 },
 "nbformat": 4,
 "nbformat_minor": 5
}
