{
 "cells": [
  {
   "cell_type": "markdown",
   "id": "cb01114a",
   "metadata": {},
   "source": [
    "### Importing libaries"
   ]
  },
  {
   "cell_type": "code",
   "execution_count": 1,
   "id": "e4960aaf",
   "metadata": {},
   "outputs": [],
   "source": [
    "import os\n",
    "import math\n",
    "import numpy as np\n",
    "import pandas as pd\n",
    "import matplotlib.pyplot as plt\n",
    "import datetime as dt\n",
    "import tensorflow as tf\n",
    "from numpy import newaxis\n",
    "import plotly.express as px\n",
    "# from core.utils import Timer\n",
    "from keras.layers import Dense, Activation, Dropout, LSTM\n",
    "from keras.models import Sequential, load_model\n",
    "from keras.callbacks import EarlyStopping, ModelCheckpoint\n",
    "import scipy.stats\n",
    "import seaborn as sns\n",
    "from sklearn.preprocessing import OneHotEncoder\n",
    "from sklearn.preprocessing import OrdinalEncoder\n",
    "from sklearn.model_selection import train_test_split\n",
    "from sklearn.metrics import mean_squared_error, r2_score\n",
    "from sklearn.model_selection import GridSearchCV\n",
    "from sklearn.model_selection import cross_val_score\n",
    "from sklearn import svm, metrics,preprocessing\n",
    "# from sklearn.metrics import r2_score\n",
    "import xgboost as xgb"
   ]
  },
  {
   "cell_type": "markdown",
   "id": "48849ff0",
   "metadata": {},
   "source": [
    "### Importaing data path"
   ]
  },
  {
   "cell_type": "code",
   "execution_count": 2,
   "id": "b356566e",
   "metadata": {},
   "outputs": [],
   "source": [
    "dpath=\"C:/Users/4338577/OneDrive - MyFedEx/Data/\""
   ]
  },
  {
   "cell_type": "code",
   "execution_count": 3,
   "id": "1787f2aa",
   "metadata": {},
   "outputs": [
    {
     "name": "stderr",
     "output_type": "stream",
     "text": [
      "C:\\Users\\4338577\\Anaconda3\\lib\\site-packages\\IPython\\core\\interactiveshell.py:3165: DtypeWarning: Columns (8,9,10) have mixed types.Specify dtype option on import or set low_memory=False.\n",
      "  has_raised = await self.run_ast_nodes(code_ast.body, cell_name,\n"
     ]
    },
    {
     "name": "stdout",
     "output_type": "stream",
     "text": [
      "shape: (1048575, 17)\n"
     ]
    },
    {
     "data": {
      "text/html": [
       "<div>\n",
       "<style scoped>\n",
       "    .dataframe tbody tr th:only-of-type {\n",
       "        vertical-align: middle;\n",
       "    }\n",
       "\n",
       "    .dataframe tbody tr th {\n",
       "        vertical-align: top;\n",
       "    }\n",
       "\n",
       "    .dataframe thead th {\n",
       "        text-align: right;\n",
       "    }\n",
       "</style>\n",
       "<table border=\"1\" class=\"dataframe\">\n",
       "  <thead>\n",
       "    <tr style=\"text-align: right;\">\n",
       "      <th></th>\n",
       "      <th>globl_enti_nbr</th>\n",
       "      <th>cntry_enti_nbr</th>\n",
       "      <th>fac_enti_nbr</th>\n",
       "      <th>facility_count</th>\n",
       "      <th>acct_cntry_cd</th>\n",
       "      <th>sale_terr_cd</th>\n",
       "      <th>sale_terr_seg_nbr</th>\n",
       "      <th>duns_nbr</th>\n",
       "      <th>EMP_count</th>\n",
       "      <th>sls_vol_us_amt</th>\n",
       "      <th>prim_sic_cd</th>\n",
       "      <th>cust_nm</th>\n",
       "      <th>cntry_hdqtr_flg</th>\n",
       "      <th>L12_REV</th>\n",
       "      <th>P12_REV</th>\n",
       "      <th>L12_shp</th>\n",
       "      <th>P12_shp</th>\n",
       "    </tr>\n",
       "  </thead>\n",
       "  <tbody>\n",
       "    <tr>\n",
       "      <th>0</th>\n",
       "      <td>1000014687</td>\n",
       "      <td>1000014688</td>\n",
       "      <td>1249237451</td>\n",
       "      <td>6</td>\n",
       "      <td>DE</td>\n",
       "      <td>8-9-42-24-4-1-3</td>\n",
       "      <td>4</td>\n",
       "      <td>343223572</td>\n",
       "      <td>28</td>\n",
       "      <td>4445924</td>\n",
       "      <td>36210000</td>\n",
       "      <td>MARELLI ELECTR POWERTRAIN GMBH</td>\n",
       "      <td>N</td>\n",
       "      <td>NaN</td>\n",
       "      <td>599.0</td>\n",
       "      <td>0.0</td>\n",
       "      <td>0.0</td>\n",
       "    </tr>\n",
       "    <tr>\n",
       "      <th>1</th>\n",
       "      <td>1000014718</td>\n",
       "      <td>1000014719</td>\n",
       "      <td>1000014720</td>\n",
       "      <td>1</td>\n",
       "      <td>FR</td>\n",
       "      <td>8-9-42-21-4-1-15</td>\n",
       "      <td>4</td>\n",
       "      <td>502760580</td>\n",
       "      <td>60</td>\n",
       "      <td>7223090</td>\n",
       "      <td>70110000</td>\n",
       "      <td>LA BASTIDE DE GORDES</td>\n",
       "      <td>Y</td>\n",
       "      <td>NaN</td>\n",
       "      <td>NaN</td>\n",
       "      <td>0.0</td>\n",
       "      <td>0.0</td>\n",
       "    </tr>\n",
       "    <tr>\n",
       "      <th>2</th>\n",
       "      <td>1000014937</td>\n",
       "      <td>1000014938</td>\n",
       "      <td>1000014939</td>\n",
       "      <td>1</td>\n",
       "      <td>DE</td>\n",
       "      <td>8-9-45-99-99-6-5</td>\n",
       "      <td>6</td>\n",
       "      <td>313610280</td>\n",
       "      <td>2</td>\n",
       "      <td>45109</td>\n",
       "      <td>51370500</td>\n",
       "      <td>DRACHE HANDELS UG</td>\n",
       "      <td>Y</td>\n",
       "      <td>NaN</td>\n",
       "      <td>NaN</td>\n",
       "      <td>0.0</td>\n",
       "      <td>0.0</td>\n",
       "    </tr>\n",
       "  </tbody>\n",
       "</table>\n",
       "</div>"
      ],
      "text/plain": [
       "   globl_enti_nbr  cntry_enti_nbr  fac_enti_nbr  facility_count acct_cntry_cd  \\\n",
       "0      1000014687      1000014688    1249237451               6            DE   \n",
       "1      1000014718      1000014719    1000014720               1            FR   \n",
       "2      1000014937      1000014938    1000014939               1            DE   \n",
       "\n",
       "       sale_terr_cd  sale_terr_seg_nbr   duns_nbr EMP_count sls_vol_us_amt  \\\n",
       "0   8-9-42-24-4-1-3                  4  343223572        28        4445924   \n",
       "1  8-9-42-21-4-1-15                  4  502760580        60        7223090   \n",
       "2  8-9-45-99-99-6-5                  6  313610280         2          45109   \n",
       "\n",
       "  prim_sic_cd                         cust_nm cntry_hdqtr_flg  L12_REV  \\\n",
       "0    36210000  MARELLI ELECTR POWERTRAIN GMBH               N      NaN   \n",
       "1    70110000            LA BASTIDE DE GORDES               Y      NaN   \n",
       "2    51370500               DRACHE HANDELS UG               Y      NaN   \n",
       "\n",
       "   P12_REV  L12_shp  P12_shp  \n",
       "0    599.0      0.0      0.0  \n",
       "1      NaN      0.0      0.0  \n",
       "2      NaN      0.0      0.0  "
      ]
     },
     "execution_count": 3,
     "metadata": {},
     "output_type": "execute_result"
    }
   ],
   "source": [
    "df = pd.read_csv(dpath+'Prospect_feed.csv')\n",
    "print('shape:',df.shape)\n",
    "df.head(3)"
   ]
  },
  {
   "cell_type": "markdown",
   "id": "90c90caf",
   "metadata": {},
   "source": [
    "### Reading the two digits csv file of Europe countries"
   ]
  },
  {
   "cell_type": "code",
   "execution_count": 4,
   "id": "2bbc3856",
   "metadata": {},
   "outputs": [
    {
     "data": {
      "text/plain": [
       "0    UA\n",
       "1    FR\n",
       "2    ES\n",
       "3    SE\n",
       "4    DE\n",
       "Name: ISO alpha 2, dtype: object"
      ]
     },
     "execution_count": 4,
     "metadata": {},
     "output_type": "execute_result"
    }
   ],
   "source": [
    "df_eucc = pd.read_csv(dpath+'Countries-Europe.csv')\n",
    "df_eu2=df_eucc['ISO alpha 2']\n",
    "df_eu2.head(5)"
   ]
  },
  {
   "cell_type": "markdown",
   "id": "98405457",
   "metadata": {},
   "source": [
    "### Eight digit SIC code"
   ]
  },
  {
   "cell_type": "code",
   "execution_count": 5,
   "id": "65040aba",
   "metadata": {},
   "outputs": [
    {
     "data": {
      "text/html": [
       "<div>\n",
       "<style scoped>\n",
       "    .dataframe tbody tr th:only-of-type {\n",
       "        vertical-align: middle;\n",
       "    }\n",
       "\n",
       "    .dataframe tbody tr th {\n",
       "        vertical-align: top;\n",
       "    }\n",
       "\n",
       "    .dataframe thead th {\n",
       "        text-align: right;\n",
       "    }\n",
       "</style>\n",
       "<table border=\"1\" class=\"dataframe\">\n",
       "  <thead>\n",
       "    <tr style=\"text-align: right;\">\n",
       "      <th></th>\n",
       "      <th>SIC 8-digit</th>\n",
       "      <th>Description</th>\n",
       "    </tr>\n",
       "  </thead>\n",
       "  <tbody>\n",
       "    <tr>\n",
       "      <th>0</th>\n",
       "      <td>1110000</td>\n",
       "      <td>Wheat</td>\n",
       "    </tr>\n",
       "    <tr>\n",
       "      <th>1</th>\n",
       "      <td>1120000</td>\n",
       "      <td>Rice</td>\n",
       "    </tr>\n",
       "    <tr>\n",
       "      <th>2</th>\n",
       "      <td>1150000</td>\n",
       "      <td>Corn</td>\n",
       "    </tr>\n",
       "    <tr>\n",
       "      <th>3</th>\n",
       "      <td>1160000</td>\n",
       "      <td>Soybeans</td>\n",
       "    </tr>\n",
       "    <tr>\n",
       "      <th>4</th>\n",
       "      <td>1190000</td>\n",
       "      <td>Cash grains, nec</td>\n",
       "    </tr>\n",
       "  </tbody>\n",
       "</table>\n",
       "</div>"
      ],
      "text/plain": [
       "   SIC 8-digit       Description\n",
       "0      1110000             Wheat\n",
       "1      1120000              Rice\n",
       "2      1150000              Corn\n",
       "3      1160000          Soybeans\n",
       "4      1190000  Cash grains, nec"
      ]
     },
     "execution_count": 5,
     "metadata": {},
     "output_type": "execute_result"
    }
   ],
   "source": [
    "df_sic8=pd.read_excel(dpath+'sic_8_digit_codes.xls', usecols = ['SIC 8-digit','Description'])\n",
    "df_sic8.head(5)"
   ]
  },
  {
   "cell_type": "code",
   "execution_count": 6,
   "id": "d536f5c9",
   "metadata": {},
   "outputs": [
    {
     "name": "stdout",
     "output_type": "stream",
     "text": [
      "17\n",
      "Index(['globl_enti_nbr', 'cntry_enti_nbr', 'fac_enti_nbr', 'facility_count',\n",
      "       'acct_cntry_cd', 'sale_terr_cd', 'sale_terr_seg_nbr', 'duns_nbr',\n",
      "       'EMP_count', 'sls_vol_us_amt', 'prim_sic_cd', 'cust_nm',\n",
      "       'cntry_hdqtr_flg', 'L12_REV', 'P12_REV', 'L12_shp', 'P12_shp'],\n",
      "      dtype='object')\n"
     ]
    }
   ],
   "source": [
    "print(len(df.columns))\n",
    "print(df.columns)"
   ]
  },
  {
   "cell_type": "code",
   "execution_count": 7,
   "id": "44f57033",
   "metadata": {},
   "outputs": [],
   "source": [
    "# for coll in df.columns:\n",
    "#     dis_acc=df[coll].unique()\n",
    "#     nan_sum=df[coll].isnull().sum()\n",
    "#     zval=(df[coll].values==0).sum()\n",
    "#     print(coll,':',len(dis_acc), 'Nan_sum:',nan_sum,',','zero_count:',zval)\n",
    "#     print(dis_acc)"
   ]
  },
  {
   "cell_type": "markdown",
   "id": "1e0a2fd6",
   "metadata": {},
   "source": [
    "## Sorting top 5"
   ]
  },
  {
   "cell_type": "code",
   "execution_count": 8,
   "id": "c5ebf27d",
   "metadata": {},
   "outputs": [
    {
     "data": {
      "text/plain": [
       "IT    247042\n",
       "DE    139499\n",
       "GB    127431\n",
       "FR     95666\n",
       "PL     52198\n",
       "Name: acct_cntry_cd, dtype: int64"
      ]
     },
     "execution_count": 8,
     "metadata": {},
     "output_type": "execute_result"
    }
   ],
   "source": [
    "acc=df['acct_cntry_cd']\n",
    "acc.value_counts().head(5)"
   ]
  },
  {
   "cell_type": "markdown",
   "id": "d4c887fd",
   "metadata": {},
   "source": [
    "## SIC Frequency"
   ]
  },
  {
   "cell_type": "code",
   "execution_count": 9,
   "id": "32e38437",
   "metadata": {},
   "outputs": [],
   "source": [
    "# acc=df_train['prim_sic_cd'].unique()\n",
    "# acc\n",
    "# # len(acc)\n",
    "# # SIC_freq=acc.value_counts()\n",
    "# # SIC_freq\n",
    "# # type(SIC_freq)\n",
    "# # print(SIC_freq.head(5))\n",
    "# # SIC_freq.to_csv('SIC_frequency.csv')"
   ]
  },
  {
   "cell_type": "code",
   "execution_count": 10,
   "id": "7f40f5d0",
   "metadata": {},
   "outputs": [],
   "source": [
    "# acc=df['acct_cntry_cd']\n",
    "# acc_cntr=pd.DataFrame(acc.unique())\n",
    "# # acc_cntr.to_csv('Cntry_code_name.csv')\n"
   ]
  },
  {
   "cell_type": "markdown",
   "id": "e053d4ef",
   "metadata": {},
   "source": [
    "## Fill_NA by '0' and select maximum between last and previous"
   ]
  },
  {
   "cell_type": "code",
   "execution_count": 11,
   "id": "e20048dd",
   "metadata": {},
   "outputs": [
    {
     "data": {
      "text/html": [
       "<div>\n",
       "<style scoped>\n",
       "    .dataframe tbody tr th:only-of-type {\n",
       "        vertical-align: middle;\n",
       "    }\n",
       "\n",
       "    .dataframe tbody tr th {\n",
       "        vertical-align: top;\n",
       "    }\n",
       "\n",
       "    .dataframe thead th {\n",
       "        text-align: right;\n",
       "    }\n",
       "</style>\n",
       "<table border=\"1\" class=\"dataframe\">\n",
       "  <thead>\n",
       "    <tr style=\"text-align: right;\">\n",
       "      <th></th>\n",
       "      <th>globl_enti_nbr</th>\n",
       "      <th>cntry_enti_nbr</th>\n",
       "      <th>fac_enti_nbr</th>\n",
       "      <th>facility_count</th>\n",
       "      <th>acct_cntry_cd</th>\n",
       "      <th>sale_terr_cd</th>\n",
       "      <th>sale_terr_seg_nbr</th>\n",
       "      <th>duns_nbr</th>\n",
       "      <th>EMP_count</th>\n",
       "      <th>sls_vol_us_amt</th>\n",
       "      <th>prim_sic_cd</th>\n",
       "      <th>cust_nm</th>\n",
       "      <th>cntry_hdqtr_flg</th>\n",
       "      <th>L12_REV</th>\n",
       "      <th>P12_REV</th>\n",
       "      <th>L12_shp</th>\n",
       "      <th>P12_shp</th>\n",
       "      <th>L12_REV_zero</th>\n",
       "      <th>P12_REV_zero</th>\n",
       "      <th>max_Rev_L12RandP12R</th>\n",
       "    </tr>\n",
       "  </thead>\n",
       "  <tbody>\n",
       "    <tr>\n",
       "      <th>0</th>\n",
       "      <td>1000014687</td>\n",
       "      <td>1000014688</td>\n",
       "      <td>1249237451</td>\n",
       "      <td>6</td>\n",
       "      <td>DE</td>\n",
       "      <td>8-9-42-24-4-1-3</td>\n",
       "      <td>4</td>\n",
       "      <td>343223572</td>\n",
       "      <td>28</td>\n",
       "      <td>4445924</td>\n",
       "      <td>36210000</td>\n",
       "      <td>MARELLI ELECTR POWERTRAIN GMBH</td>\n",
       "      <td>N</td>\n",
       "      <td>NaN</td>\n",
       "      <td>599.0</td>\n",
       "      <td>0.0</td>\n",
       "      <td>0.0</td>\n",
       "      <td>0.0</td>\n",
       "      <td>599.0</td>\n",
       "      <td>599.0</td>\n",
       "    </tr>\n",
       "    <tr>\n",
       "      <th>1</th>\n",
       "      <td>1000014718</td>\n",
       "      <td>1000014719</td>\n",
       "      <td>1000014720</td>\n",
       "      <td>1</td>\n",
       "      <td>FR</td>\n",
       "      <td>8-9-42-21-4-1-15</td>\n",
       "      <td>4</td>\n",
       "      <td>502760580</td>\n",
       "      <td>60</td>\n",
       "      <td>7223090</td>\n",
       "      <td>70110000</td>\n",
       "      <td>LA BASTIDE DE GORDES</td>\n",
       "      <td>Y</td>\n",
       "      <td>NaN</td>\n",
       "      <td>NaN</td>\n",
       "      <td>0.0</td>\n",
       "      <td>0.0</td>\n",
       "      <td>0.0</td>\n",
       "      <td>0.0</td>\n",
       "      <td>0.0</td>\n",
       "    </tr>\n",
       "    <tr>\n",
       "      <th>2</th>\n",
       "      <td>1000014937</td>\n",
       "      <td>1000014938</td>\n",
       "      <td>1000014939</td>\n",
       "      <td>1</td>\n",
       "      <td>DE</td>\n",
       "      <td>8-9-45-99-99-6-5</td>\n",
       "      <td>6</td>\n",
       "      <td>313610280</td>\n",
       "      <td>2</td>\n",
       "      <td>45109</td>\n",
       "      <td>51370500</td>\n",
       "      <td>DRACHE HANDELS UG</td>\n",
       "      <td>Y</td>\n",
       "      <td>NaN</td>\n",
       "      <td>NaN</td>\n",
       "      <td>0.0</td>\n",
       "      <td>0.0</td>\n",
       "      <td>0.0</td>\n",
       "      <td>0.0</td>\n",
       "      <td>0.0</td>\n",
       "    </tr>\n",
       "    <tr>\n",
       "      <th>3</th>\n",
       "      <td>1000014989</td>\n",
       "      <td>1000014990</td>\n",
       "      <td>1000014991</td>\n",
       "      <td>1</td>\n",
       "      <td>FR</td>\n",
       "      <td>8-9-45-99-99-50-14</td>\n",
       "      <td>6</td>\n",
       "      <td>266221635</td>\n",
       "      <td>1</td>\n",
       "      <td>33192</td>\n",
       "      <td>59610000</td>\n",
       "      <td>SALVADOR, EMMANUEL</td>\n",
       "      <td>Y</td>\n",
       "      <td>NaN</td>\n",
       "      <td>NaN</td>\n",
       "      <td>0.0</td>\n",
       "      <td>0.0</td>\n",
       "      <td>0.0</td>\n",
       "      <td>0.0</td>\n",
       "      <td>0.0</td>\n",
       "    </tr>\n",
       "  </tbody>\n",
       "</table>\n",
       "</div>"
      ],
      "text/plain": [
       "   globl_enti_nbr  cntry_enti_nbr  fac_enti_nbr  facility_count acct_cntry_cd  \\\n",
       "0      1000014687      1000014688    1249237451               6            DE   \n",
       "1      1000014718      1000014719    1000014720               1            FR   \n",
       "2      1000014937      1000014938    1000014939               1            DE   \n",
       "3      1000014989      1000014990    1000014991               1            FR   \n",
       "\n",
       "         sale_terr_cd  sale_terr_seg_nbr   duns_nbr EMP_count sls_vol_us_amt  \\\n",
       "0     8-9-42-24-4-1-3                  4  343223572        28        4445924   \n",
       "1    8-9-42-21-4-1-15                  4  502760580        60        7223090   \n",
       "2    8-9-45-99-99-6-5                  6  313610280         2          45109   \n",
       "3  8-9-45-99-99-50-14                  6  266221635         1          33192   \n",
       "\n",
       "  prim_sic_cd                         cust_nm cntry_hdqtr_flg  L12_REV  \\\n",
       "0    36210000  MARELLI ELECTR POWERTRAIN GMBH               N      NaN   \n",
       "1    70110000            LA BASTIDE DE GORDES               Y      NaN   \n",
       "2    51370500               DRACHE HANDELS UG               Y      NaN   \n",
       "3    59610000              SALVADOR, EMMANUEL               Y      NaN   \n",
       "\n",
       "   P12_REV  L12_shp  P12_shp  L12_REV_zero  P12_REV_zero  max_Rev_L12RandP12R  \n",
       "0    599.0      0.0      0.0           0.0         599.0                599.0  \n",
       "1      NaN      0.0      0.0           0.0           0.0                  0.0  \n",
       "2      NaN      0.0      0.0           0.0           0.0                  0.0  \n",
       "3      NaN      0.0      0.0           0.0           0.0                  0.0  "
      ]
     },
     "execution_count": 11,
     "metadata": {},
     "output_type": "execute_result"
    }
   ],
   "source": [
    "df['L12_REV_zero']=df['L12_REV'].fillna(0)\n",
    "df['P12_REV_zero']=df['P12_REV'].fillna(0)\n",
    "# df['max_Rev_L12andP12']=df[['L12_REV','P12_REV']].max(axis=1) # Without filling nanby zero\n",
    "df['max_Rev_L12RandP12R']=df[['L12_REV_zero','P12_REV_zero']].max(axis=1)\n",
    "df.head(4)"
   ]
  },
  {
   "cell_type": "code",
   "execution_count": 12,
   "id": "061c7082",
   "metadata": {},
   "outputs": [],
   "source": [
    "# (df['acct_cntry_cd'])"
   ]
  },
  {
   "cell_type": "markdown",
   "id": "5ac12f74",
   "metadata": {},
   "source": [
    "### Selet only EU countries and \"sale_terr_seg_nbr= 1 to 6\" in the data"
   ]
  },
  {
   "cell_type": "code",
   "execution_count": 13,
   "id": "725db67b",
   "metadata": {},
   "outputs": [
    {
     "name": "stdout",
     "output_type": "stream",
     "text": [
      "Unique_terr: 6 Unique_Country: 41\n"
     ]
    }
   ],
   "source": [
    "dfeu=df[(df['acct_cntry_cd'].isin(df_eu2)) & (df['sale_terr_seg_nbr'].isin([1,2,3,4,5,6]))]\n",
    "# len(dfeu['acct_cntry_cd'].unique())\n",
    "print( 'Unique_terr:',len(dfeu['sale_terr_seg_nbr'].unique()),\"Unique_Country:\",len(dfeu['acct_cntry_cd'].unique()))"
   ]
  },
  {
   "cell_type": "code",
   "execution_count": 14,
   "id": "951a6a72",
   "metadata": {},
   "outputs": [
    {
     "data": {
      "text/plain": [
       "(1021429, 20)"
      ]
     },
     "execution_count": 14,
     "metadata": {},
     "output_type": "execute_result"
    }
   ],
   "source": [
    "dfeu.shape"
   ]
  },
  {
   "cell_type": "markdown",
   "id": "7f1c4372",
   "metadata": {},
   "source": [
    "### Check the zero values in each columns of EU all data"
   ]
  },
  {
   "cell_type": "code",
   "execution_count": 15,
   "id": "528571b2",
   "metadata": {},
   "outputs": [],
   "source": [
    "# for coll in dfeu.columns:\n",
    "#     dis_acc=dfeu[coll].unique()\n",
    "#     nan_sum=dfeu[coll].isnull().sum()\n",
    "#     zval=(dfeu[coll].values==0).sum()\n",
    "#     print(coll,':',len(dis_acc), 'Nan_sum:',nan_sum,',','zero_count:',zval)\n",
    "#     print(dis_acc)"
   ]
  },
  {
   "cell_type": "code",
   "execution_count": 16,
   "id": "0485e04c",
   "metadata": {},
   "outputs": [],
   "source": [
    "# dfeu=df[df['acct_cntry_cd'].isin(df_eu2)]\n",
    "# len(dfeu['acct_cntry_cd'].unique())"
   ]
  },
  {
   "cell_type": "markdown",
   "id": "80d773c3",
   "metadata": {},
   "source": [
    "### Filter the loyal customer"
   ]
  },
  {
   "cell_type": "code",
   "execution_count": 17,
   "id": "9b2712ff",
   "metadata": {},
   "outputs": [
    {
     "name": "stdout",
     "output_type": "stream",
     "text": [
      "(24849, 20)\n"
     ]
    },
    {
     "data": {
      "text/html": [
       "<div>\n",
       "<style scoped>\n",
       "    .dataframe tbody tr th:only-of-type {\n",
       "        vertical-align: middle;\n",
       "    }\n",
       "\n",
       "    .dataframe tbody tr th {\n",
       "        vertical-align: top;\n",
       "    }\n",
       "\n",
       "    .dataframe thead th {\n",
       "        text-align: right;\n",
       "    }\n",
       "</style>\n",
       "<table border=\"1\" class=\"dataframe\">\n",
       "  <thead>\n",
       "    <tr style=\"text-align: right;\">\n",
       "      <th></th>\n",
       "      <th>globl_enti_nbr</th>\n",
       "      <th>cntry_enti_nbr</th>\n",
       "      <th>fac_enti_nbr</th>\n",
       "      <th>facility_count</th>\n",
       "      <th>acct_cntry_cd</th>\n",
       "      <th>sale_terr_cd</th>\n",
       "      <th>sale_terr_seg_nbr</th>\n",
       "      <th>duns_nbr</th>\n",
       "      <th>EMP_count</th>\n",
       "      <th>sls_vol_us_amt</th>\n",
       "      <th>prim_sic_cd</th>\n",
       "      <th>cust_nm</th>\n",
       "      <th>cntry_hdqtr_flg</th>\n",
       "      <th>L12_REV</th>\n",
       "      <th>P12_REV</th>\n",
       "      <th>L12_shp</th>\n",
       "      <th>P12_shp</th>\n",
       "      <th>L12_REV_zero</th>\n",
       "      <th>P12_REV_zero</th>\n",
       "      <th>max_Rev_L12RandP12R</th>\n",
       "    </tr>\n",
       "  </thead>\n",
       "  <tbody>\n",
       "    <tr>\n",
       "      <th>207</th>\n",
       "      <td>1004368929</td>\n",
       "      <td>1004368930</td>\n",
       "      <td>1017604863</td>\n",
       "      <td>2</td>\n",
       "      <td>IT</td>\n",
       "      <td>8-9-44-72-1-2-32</td>\n",
       "      <td>3</td>\n",
       "      <td>438637471</td>\n",
       "      <td>0</td>\n",
       "      <td>0</td>\n",
       "      <td>39999900</td>\n",
       "      <td>COLIBRY TRAF USA</td>\n",
       "      <td>N</td>\n",
       "      <td>138127.0</td>\n",
       "      <td>72768.0</td>\n",
       "      <td>12.0</td>\n",
       "      <td>12.0</td>\n",
       "      <td>138127.0</td>\n",
       "      <td>72768.0</td>\n",
       "      <td>138127.0</td>\n",
       "    </tr>\n",
       "    <tr>\n",
       "      <th>247</th>\n",
       "      <td>1004780819</td>\n",
       "      <td>1004780820</td>\n",
       "      <td>1015657507</td>\n",
       "      <td>1</td>\n",
       "      <td>GB</td>\n",
       "      <td>8-9-42-20-4-2-6</td>\n",
       "      <td>4</td>\n",
       "      <td>222878031</td>\n",
       "      <td>4</td>\n",
       "      <td>709059</td>\n",
       "      <td>17960000</td>\n",
       "      <td>INNOPRINTER UK LTD</td>\n",
       "      <td>Y</td>\n",
       "      <td>5147.0</td>\n",
       "      <td>7752.0</td>\n",
       "      <td>12.0</td>\n",
       "      <td>12.0</td>\n",
       "      <td>5147.0</td>\n",
       "      <td>7752.0</td>\n",
       "      <td>7752.0</td>\n",
       "    </tr>\n",
       "    <tr>\n",
       "      <th>321</th>\n",
       "      <td>1005264297</td>\n",
       "      <td>1005264298</td>\n",
       "      <td>1034105135</td>\n",
       "      <td>5</td>\n",
       "      <td>DE</td>\n",
       "      <td>8-9-42-24-4-4-7</td>\n",
       "      <td>4</td>\n",
       "      <td>315208931</td>\n",
       "      <td>75</td>\n",
       "      <td>9981153</td>\n",
       "      <td>36630103</td>\n",
       "      <td>KATHREIN BROADCAST GMBH</td>\n",
       "      <td>N</td>\n",
       "      <td>6821.0</td>\n",
       "      <td>5488.0</td>\n",
       "      <td>12.0</td>\n",
       "      <td>12.0</td>\n",
       "      <td>6821.0</td>\n",
       "      <td>5488.0</td>\n",
       "      <td>6821.0</td>\n",
       "    </tr>\n",
       "    <tr>\n",
       "      <th>346</th>\n",
       "      <td>1005294975</td>\n",
       "      <td>1005294976</td>\n",
       "      <td>1005294977</td>\n",
       "      <td>1</td>\n",
       "      <td>DE</td>\n",
       "      <td>8-9-38-40-1-6-10</td>\n",
       "      <td>3</td>\n",
       "      <td>341048941</td>\n",
       "      <td>37</td>\n",
       "      <td>16080746</td>\n",
       "      <td>83310000</td>\n",
       "      <td>CONCEPT GMBH</td>\n",
       "      <td>Y</td>\n",
       "      <td>38554.0</td>\n",
       "      <td>4486.0</td>\n",
       "      <td>12.0</td>\n",
       "      <td>12.0</td>\n",
       "      <td>38554.0</td>\n",
       "      <td>4486.0</td>\n",
       "      <td>38554.0</td>\n",
       "    </tr>\n",
       "    <tr>\n",
       "      <th>777</th>\n",
       "      <td>1007010137</td>\n",
       "      <td>1007010138</td>\n",
       "      <td>1007010139</td>\n",
       "      <td>2</td>\n",
       "      <td>IT</td>\n",
       "      <td>8-9-44-74-5-1-2</td>\n",
       "      <td>3</td>\n",
       "      <td>440201602</td>\n",
       "      <td>4</td>\n",
       "      <td>227272</td>\n",
       "      <td>42150000</td>\n",
       "      <td>2VM WEB SRLS</td>\n",
       "      <td>Y</td>\n",
       "      <td>30517.0</td>\n",
       "      <td>95629.0</td>\n",
       "      <td>12.0</td>\n",
       "      <td>2.0</td>\n",
       "      <td>30517.0</td>\n",
       "      <td>95629.0</td>\n",
       "      <td>95629.0</td>\n",
       "    </tr>\n",
       "  </tbody>\n",
       "</table>\n",
       "</div>"
      ],
      "text/plain": [
       "     globl_enti_nbr  cntry_enti_nbr  fac_enti_nbr  facility_count  \\\n",
       "207      1004368929      1004368930    1017604863               2   \n",
       "247      1004780819      1004780820    1015657507               1   \n",
       "321      1005264297      1005264298    1034105135               5   \n",
       "346      1005294975      1005294976    1005294977               1   \n",
       "777      1007010137      1007010138    1007010139               2   \n",
       "\n",
       "    acct_cntry_cd      sale_terr_cd  sale_terr_seg_nbr   duns_nbr EMP_count  \\\n",
       "207            IT  8-9-44-72-1-2-32                  3  438637471         0   \n",
       "247            GB   8-9-42-20-4-2-6                  4  222878031         4   \n",
       "321            DE   8-9-42-24-4-4-7                  4  315208931        75   \n",
       "346            DE  8-9-38-40-1-6-10                  3  341048941        37   \n",
       "777            IT   8-9-44-74-5-1-2                  3  440201602         4   \n",
       "\n",
       "    sls_vol_us_amt prim_sic_cd                  cust_nm cntry_hdqtr_flg  \\\n",
       "207              0    39999900         COLIBRY TRAF USA               N   \n",
       "247         709059    17960000       INNOPRINTER UK LTD               Y   \n",
       "321        9981153    36630103  KATHREIN BROADCAST GMBH               N   \n",
       "346       16080746    83310000             CONCEPT GMBH               Y   \n",
       "777         227272    42150000             2VM WEB SRLS               Y   \n",
       "\n",
       "      L12_REV  P12_REV  L12_shp  P12_shp  L12_REV_zero  P12_REV_zero  \\\n",
       "207  138127.0  72768.0     12.0     12.0      138127.0       72768.0   \n",
       "247    5147.0   7752.0     12.0     12.0        5147.0        7752.0   \n",
       "321    6821.0   5488.0     12.0     12.0        6821.0        5488.0   \n",
       "346   38554.0   4486.0     12.0     12.0       38554.0        4486.0   \n",
       "777   30517.0  95629.0     12.0      2.0       30517.0       95629.0   \n",
       "\n",
       "     max_Rev_L12RandP12R  \n",
       "207             138127.0  \n",
       "247               7752.0  \n",
       "321               6821.0  \n",
       "346              38554.0  \n",
       "777              95629.0  "
      ]
     },
     "execution_count": 17,
     "metadata": {},
     "output_type": "execute_result"
    }
   ],
   "source": [
    "df_l12_nonz=dfeu.loc[(dfeu['L12_shp']==12) & (dfeu['max_Rev_L12RandP12R']!=0) ]\n",
    "print(df_l12_nonz.shape)\n",
    "df_l12_nonz.head(5)"
   ]
  },
  {
   "cell_type": "code",
   "execution_count": 18,
   "id": "abef4d0b",
   "metadata": {},
   "outputs": [
    {
     "data": {
      "text/plain": [
       "3    11124\n",
       "4     9854\n",
       "1     2146\n",
       "5      911\n",
       "2      806\n",
       "6        8\n",
       "Name: sale_terr_seg_nbr, dtype: int64"
      ]
     },
     "execution_count": 18,
     "metadata": {},
     "output_type": "execute_result"
    }
   ],
   "source": [
    "ad=df_l12_nonz['sale_terr_seg_nbr']\n",
    "ad.value_counts()"
   ]
  },
  {
   "cell_type": "code",
   "execution_count": 19,
   "id": "aa6ba064",
   "metadata": {},
   "outputs": [
    {
     "name": "stdout",
     "output_type": "stream",
     "text": [
      "globl_enti_nbr : 22647 Nan_sum: 0\n",
      "[1004368929 1004780819 1005264297 ...  916180625  916232126  916234126]\n",
      "cntry_enti_nbr : 24849 Nan_sum: 0\n",
      "[1004368930 1004780820 1005264298 ...  916180626  916232127  916234127]\n",
      "fac_enti_nbr : 24849 Nan_sum: 0\n",
      "[1017604863 1015657507 1034105135 ...  916180627  928426355  928426423]\n",
      "facility_count : 193 Nan_sum: 0\n",
      "[  2   1   5   3  12  15  17   4  22   7   6  28  35   9  11  33 631  19\n",
      "   8  70 110  16  58  10  49 206 346  27  20  21  23  13  94 114  32  39\n",
      "  57  29  77 440  31  68  42  66  40  25  67  44  64  85  46 159  14 165\n",
      "  50  83  75  41 104  37  30  34  87 632 123 147  18  51  47  24  88  59\n",
      " 113 325  38  45  63 158  99 178  61  91  76  71  36  52  26 176  56  93\n",
      " 224 429 324  43  48  78 188 163 140 103 133 156 497 124 372 145 237 217\n",
      " 155 180  92 173 131 117  53 349  54 221 552  55 235  96  72 490 452 218\n",
      "  82 132 111 115  62 216 657 202  80  79  60  65 449 370 164  84 245  74\n",
      " 215 144 169 112 137 191 108 118 257 152 102 203  81 207 230 166 181 105\n",
      " 242  73 135 201 138 100 128 264 109 183 256 211  69 306 189 209 101 122\n",
      "  89 136 489 395 214  86 126 669 417 182 129 120 408]\n",
      "acct_cntry_cd : 33 Nan_sum: 0\n",
      "['IT' 'GB' 'DE' 'PT' 'IE' 'CH' 'BE' 'SE' 'NL' 'FR' 'ES' 'EE' 'PL' 'HU'\n",
      " 'DK' 'LU' 'FI' 'MT' 'GR' 'BG' 'CZ' 'LV' 'SI' 'AT' 'NO' 'LT' 'RO' 'SK'\n",
      " 'RS' 'UA' 'IS' 'CY' 'HR']\n",
      "sale_terr_cd : 1899 Nan_sum: 0\n",
      "['8-9-44-72-1-2-32' '8-9-42-20-4-2-6' '8-9-42-24-4-4-7' ...\n",
      " '8-9-42-26-2-1-27' '8-9-38-52-1-1-5' '8-9-41-43-2-10-2']\n",
      "sale_terr_seg_nbr : 6 Nan_sum: 0\n",
      "[3 4 1 5 2 6]\n",
      "duns_nbr : 24848 Nan_sum: 0\n",
      "[438637471 222878031 315208931 ... 429509748 490830286 271122853]\n",
      "EMP_count : 1646 Nan_sum: 0\n",
      "[0 4 75 ... 5737 2072 2389]\n",
      "sls_vol_us_amt : 20893 Nan_sum: 0\n",
      "[0 709059 9981153 ... 55589381 29886722 61330]\n",
      "prim_sic_cd : 2940 Nan_sum: 0\n",
      "[39999900 17960000 36630103 ... 39490703 50310300 35110202]\n",
      "cust_nm : 23583 Nan_sum: 0\n",
      "['COLIBRY TRAF USA' 'INNOPRINTER UK LTD' 'KATHREIN BROADCAST GMBH' ...\n",
      " 'ANTONIO, STRACUZZI' 'KLUSIT COMPUTERVERHUUR' 'SERVICES VIN']\n",
      "cntry_hdqtr_flg : 2 Nan_sum: 0\n",
      "['N' 'Y']\n",
      "L12_REV : 19930 Nan_sum: 398\n",
      "[138127.   5147.   6821. ...  51862.  12998. 383015.]\n",
      "P12_REV : 20605 Nan_sum: 230\n",
      "[ 72768.   7752.   5488. ...  24015.   5535. 391284.]\n",
      "L12_shp : 1 Nan_sum: 0\n",
      "[12.]\n",
      "P12_shp : 14 Nan_sum: 1\n",
      "[12.  2. 11.  9.  8.  0.  1.  5.  4. 10.  7.  3.  6. nan]\n",
      "L12_REV_zero : 19930 Nan_sum: 0\n",
      "[138127.   5147.   6821. ...  51862.  12998. 383015.]\n",
      "P12_REV_zero : 20604 Nan_sum: 0\n",
      "[ 72768.   7752.   5488. ...  24015.   5535. 391284.]\n",
      "max_Rev_L12RandP12R : 21151 Nan_sum: 0\n",
      "[138127.   7752.   6821. ...  24015.   5535. 391284.]\n"
     ]
    }
   ],
   "source": [
    "for coll in df_l12_nonz.columns:\n",
    "    dis_acc=df_l12_nonz[coll].unique()\n",
    "    nan_sum=df_l12_nonz[coll].isnull().sum()\n",
    "    print(coll,':',len(dis_acc), 'Nan_sum:',nan_sum)\n",
    "    print(dis_acc)"
   ]
  },
  {
   "cell_type": "markdown",
   "id": "fe8289b7",
   "metadata": {},
   "source": [
    "### All countries "
   ]
  },
  {
   "cell_type": "code",
   "execution_count": 20,
   "id": "1f77368c",
   "metadata": {},
   "outputs": [],
   "source": [
    "# df_l12_all_nonz=df.loc[(df['L12_shp']==12) & (df['max_Rev_L12RandP12R']!=0) ]\n",
    "# print(df_l12_all_nonz.shape)\n",
    "# df_l12_all_nonz"
   ]
  },
  {
   "cell_type": "markdown",
   "id": "4f5b78aa",
   "metadata": {},
   "source": [
    "## Training_Dataset"
   ]
  },
  {
   "cell_type": "code",
   "execution_count": 21,
   "id": "33beb507",
   "metadata": {},
   "outputs": [],
   "source": [
    "# df_l12_nonz"
   ]
  },
  {
   "cell_type": "code",
   "execution_count": 22,
   "id": "1e4b4c31",
   "metadata": {},
   "outputs": [
    {
     "data": {
      "text/plain": [
       "(24849, 8)"
      ]
     },
     "execution_count": 22,
     "metadata": {},
     "output_type": "execute_result"
    }
   ],
   "source": [
    "df_train=pd.DataFrame()\n",
    "df_train=df_l12_nonz[['cntry_enti_nbr','sls_vol_us_amt','EMP_count','facility_count','prim_sic_cd',\n",
    "                      'acct_cntry_cd','L12_shp','max_Rev_L12RandP12R']]\n",
    "df_train.shape"
   ]
  },
  {
   "cell_type": "code",
   "execution_count": 23,
   "id": "b7ebabc9",
   "metadata": {},
   "outputs": [
    {
     "data": {
      "text/plain": [
       "cntry_enti_nbr           int64\n",
       "sls_vol_us_amt          object\n",
       "EMP_count               object\n",
       "facility_count           int64\n",
       "prim_sic_cd             object\n",
       "acct_cntry_cd           object\n",
       "L12_shp                float64\n",
       "max_Rev_L12RandP12R    float64\n",
       "dtype: object"
      ]
     },
     "execution_count": 23,
     "metadata": {},
     "output_type": "execute_result"
    }
   ],
   "source": [
    "df_train.dtypes"
   ]
  },
  {
   "cell_type": "code",
   "execution_count": 24,
   "id": "14d1e1b7",
   "metadata": {},
   "outputs": [],
   "source": [
    "# ke=df_train.keys()\n",
    "# ke\n",
    "# # cols=ke"
   ]
  },
  {
   "cell_type": "markdown",
   "id": "25e52adc",
   "metadata": {},
   "source": [
    "### Coverting object to float"
   ]
  },
  {
   "cell_type": "code",
   "execution_count": 25,
   "id": "b644812d",
   "metadata": {},
   "outputs": [
    {
     "name": "stderr",
     "output_type": "stream",
     "text": [
      "C:\\Users\\4338577\\Anaconda3\\lib\\site-packages\\pandas\\core\\frame.py:3191: SettingWithCopyWarning: \n",
      "A value is trying to be set on a copy of a slice from a DataFrame.\n",
      "Try using .loc[row_indexer,col_indexer] = value instead\n",
      "\n",
      "See the caveats in the documentation: https://pandas.pydata.org/pandas-docs/stable/user_guide/indexing.html#returning-a-view-versus-a-copy\n",
      "  self[k1] = value[k2]\n"
     ]
    }
   ],
   "source": [
    "cols=['sls_vol_us_amt', 'EMP_count']\n",
    "df_train[cols] = df_train.loc[:,('sls_vol_us_amt', \n",
    "                                 'EMP_count')].apply(pd.to_numeric, errors='coerce', axis=1)"
   ]
  },
  {
   "cell_type": "code",
   "execution_count": 26,
   "id": "4e4e8ba6",
   "metadata": {},
   "outputs": [
    {
     "data": {
      "text/plain": [
       "cntry_enti_nbr           int64\n",
       "sls_vol_us_amt           int64\n",
       "EMP_count                int64\n",
       "facility_count           int64\n",
       "prim_sic_cd             object\n",
       "acct_cntry_cd           object\n",
       "L12_shp                float64\n",
       "max_Rev_L12RandP12R    float64\n",
       "dtype: object"
      ]
     },
     "execution_count": 26,
     "metadata": {},
     "output_type": "execute_result"
    }
   ],
   "source": [
    "df_train.dtypes"
   ]
  },
  {
   "cell_type": "code",
   "execution_count": 27,
   "id": "653b1607",
   "metadata": {},
   "outputs": [],
   "source": [
    "# cols =['sls_vol_us_amt', 'EMP_count']\n",
    "# df_train[cols] = df_train[cols].apply(pd.to_numeric, errors='coerce', axis=1)"
   ]
  },
  {
   "cell_type": "code",
   "execution_count": null,
   "id": "0ab03c89",
   "metadata": {},
   "outputs": [],
   "source": []
  },
  {
   "cell_type": "code",
   "execution_count": 28,
   "id": "f6eb03b0",
   "metadata": {},
   "outputs": [],
   "source": [
    "# df_train.keys()"
   ]
  },
  {
   "cell_type": "markdown",
   "id": "7127d583",
   "metadata": {},
   "source": [
    "### Check the zero values in the training data"
   ]
  },
  {
   "cell_type": "code",
   "execution_count": 29,
   "id": "50f93d87",
   "metadata": {},
   "outputs": [
    {
     "name": "stdout",
     "output_type": "stream",
     "text": [
      "cntry_enti_nbr : 24849 Nan_sum: 0 , zero_count: 0\n",
      "[1004368930 1004780820 1005264298 ...  916180626  916232127  916234127]\n",
      "sls_vol_us_amt : 20207 Nan_sum: 0 , zero_count: 983\n",
      "[       0   709059  9981153 ... 55589381 29886722    61330]\n",
      "EMP_count : 1140 Nan_sum: 0 , zero_count: 682\n",
      "[   0    4   75 ... 5737 2072 2389]\n",
      "facility_count : 193 Nan_sum: 0 , zero_count: 0\n",
      "[  2   1   5   3  12  15  17   4  22   7   6  28  35   9  11  33 631  19\n",
      "   8  70 110  16  58  10  49 206 346  27  20  21  23  13  94 114  32  39\n",
      "  57  29  77 440  31  68  42  66  40  25  67  44  64  85  46 159  14 165\n",
      "  50  83  75  41 104  37  30  34  87 632 123 147  18  51  47  24  88  59\n",
      " 113 325  38  45  63 158  99 178  61  91  76  71  36  52  26 176  56  93\n",
      " 224 429 324  43  48  78 188 163 140 103 133 156 497 124 372 145 237 217\n",
      " 155 180  92 173 131 117  53 349  54 221 552  55 235  96  72 490 452 218\n",
      "  82 132 111 115  62 216 657 202  80  79  60  65 449 370 164  84 245  74\n",
      " 215 144 169 112 137 191 108 118 257 152 102 203  81 207 230 166 181 105\n",
      " 242  73 135 201 138 100 128 264 109 183 256 211  69 306 189 209 101 122\n",
      "  89 136 489 395 214  86 126 669 417 182 129 120 408]\n",
      "prim_sic_cd : 2940 Nan_sum: 0 , zero_count: 0\n",
      "[39999900 17960000 36630103 ... 39490703 50310300 35110202]\n",
      "acct_cntry_cd : 33 Nan_sum: 0 , zero_count: 0\n",
      "['IT' 'GB' 'DE' 'PT' 'IE' 'CH' 'BE' 'SE' 'NL' 'FR' 'ES' 'EE' 'PL' 'HU'\n",
      " 'DK' 'LU' 'FI' 'MT' 'GR' 'BG' 'CZ' 'LV' 'SI' 'AT' 'NO' 'LT' 'RO' 'SK'\n",
      " 'RS' 'UA' 'IS' 'CY' 'HR']\n",
      "L12_shp : 1 Nan_sum: 0 , zero_count: 0\n",
      "[12.]\n",
      "max_Rev_L12RandP12R : 21151 Nan_sum: 0 , zero_count: 0\n",
      "[138127.   7752.   6821. ...  24015.   5535. 391284.]\n"
     ]
    }
   ],
   "source": [
    "for coll in df_train.columns:\n",
    "    dis_acc=df_train[coll].unique()\n",
    "    nan_sum=df_train[coll].isnull().sum();\n",
    "    zval=(df_train[coll].values==0).sum()\n",
    "    print(coll,':',len(dis_acc), 'Nan_sum:',nan_sum,',','zero_count:',zval)\n",
    "    print(dis_acc)"
   ]
  },
  {
   "cell_type": "markdown",
   "id": "f3e3c0e1",
   "metadata": {},
   "source": [
    "### Counting how many zeros in a df and replace '0' by median values"
   ]
  },
  {
   "cell_type": "code",
   "execution_count": 30,
   "id": "d01df059",
   "metadata": {},
   "outputs": [
    {
     "name": "stderr",
     "output_type": "stream",
     "text": [
      "<ipython-input-30-14c11fe59eba>:2: SettingWithCopyWarning: \n",
      "A value is trying to be set on a copy of a slice from a DataFrame.\n",
      "Try using .loc[row_indexer,col_indexer] = value instead\n",
      "\n",
      "See the caveats in the documentation: https://pandas.pydata.org/pandas-docs/stable/user_guide/indexing.html#returning-a-view-versus-a-copy\n",
      "  df_train['sls_vol_us_amt_new']=df_train['sls_vol_us_amt'].replace(0,df_train['sls_vol_us_amt'].median())\n",
      "<ipython-input-30-14c11fe59eba>:3: SettingWithCopyWarning: \n",
      "A value is trying to be set on a copy of a slice from a DataFrame.\n",
      "Try using .loc[row_indexer,col_indexer] = value instead\n",
      "\n",
      "See the caveats in the documentation: https://pandas.pydata.org/pandas-docs/stable/user_guide/indexing.html#returning-a-view-versus-a-copy\n",
      "  df_train['EMP_count_new']=df_train['EMP_count'].replace(0,df_train['EMP_count'].median())\n",
      "<ipython-input-30-14c11fe59eba>:4: SettingWithCopyWarning: \n",
      "A value is trying to be set on a copy of a slice from a DataFrame.\n",
      "Try using .loc[row_indexer,col_indexer] = value instead\n",
      "\n",
      "See the caveats in the documentation: https://pandas.pydata.org/pandas-docs/stable/user_guide/indexing.html#returning-a-view-versus-a-copy\n",
      "  df_train['TSF']=df_train['max_Rev_L12RandP12R']/df_train['sls_vol_us_amt_new']\n"
     ]
    },
    {
     "data": {
      "text/html": [
       "<div>\n",
       "<style scoped>\n",
       "    .dataframe tbody tr th:only-of-type {\n",
       "        vertical-align: middle;\n",
       "    }\n",
       "\n",
       "    .dataframe tbody tr th {\n",
       "        vertical-align: top;\n",
       "    }\n",
       "\n",
       "    .dataframe thead th {\n",
       "        text-align: right;\n",
       "    }\n",
       "</style>\n",
       "<table border=\"1\" class=\"dataframe\">\n",
       "  <thead>\n",
       "    <tr style=\"text-align: right;\">\n",
       "      <th></th>\n",
       "      <th>cntry_enti_nbr</th>\n",
       "      <th>sls_vol_us_amt</th>\n",
       "      <th>EMP_count</th>\n",
       "      <th>facility_count</th>\n",
       "      <th>prim_sic_cd</th>\n",
       "      <th>acct_cntry_cd</th>\n",
       "      <th>L12_shp</th>\n",
       "      <th>max_Rev_L12RandP12R</th>\n",
       "      <th>sls_vol_us_amt_new</th>\n",
       "      <th>EMP_count_new</th>\n",
       "      <th>TSF</th>\n",
       "    </tr>\n",
       "  </thead>\n",
       "  <tbody>\n",
       "    <tr>\n",
       "      <th>207</th>\n",
       "      <td>1004368930</td>\n",
       "      <td>0</td>\n",
       "      <td>0</td>\n",
       "      <td>2</td>\n",
       "      <td>39999900</td>\n",
       "      <td>IT</td>\n",
       "      <td>12.0</td>\n",
       "      <td>138127.0</td>\n",
       "      <td>4365466</td>\n",
       "      <td>20</td>\n",
       "      <td>0.031641</td>\n",
       "    </tr>\n",
       "    <tr>\n",
       "      <th>247</th>\n",
       "      <td>1004780820</td>\n",
       "      <td>709059</td>\n",
       "      <td>4</td>\n",
       "      <td>1</td>\n",
       "      <td>17960000</td>\n",
       "      <td>GB</td>\n",
       "      <td>12.0</td>\n",
       "      <td>7752.0</td>\n",
       "      <td>709059</td>\n",
       "      <td>4</td>\n",
       "      <td>0.010933</td>\n",
       "    </tr>\n",
       "    <tr>\n",
       "      <th>321</th>\n",
       "      <td>1005264298</td>\n",
       "      <td>9981153</td>\n",
       "      <td>75</td>\n",
       "      <td>5</td>\n",
       "      <td>36630103</td>\n",
       "      <td>DE</td>\n",
       "      <td>12.0</td>\n",
       "      <td>6821.0</td>\n",
       "      <td>9981153</td>\n",
       "      <td>75</td>\n",
       "      <td>0.000683</td>\n",
       "    </tr>\n",
       "    <tr>\n",
       "      <th>346</th>\n",
       "      <td>1005294976</td>\n",
       "      <td>16080746</td>\n",
       "      <td>37</td>\n",
       "      <td>1</td>\n",
       "      <td>83310000</td>\n",
       "      <td>DE</td>\n",
       "      <td>12.0</td>\n",
       "      <td>38554.0</td>\n",
       "      <td>16080746</td>\n",
       "      <td>37</td>\n",
       "      <td>0.002398</td>\n",
       "    </tr>\n",
       "    <tr>\n",
       "      <th>777</th>\n",
       "      <td>1007010138</td>\n",
       "      <td>227272</td>\n",
       "      <td>4</td>\n",
       "      <td>2</td>\n",
       "      <td>42150000</td>\n",
       "      <td>IT</td>\n",
       "      <td>12.0</td>\n",
       "      <td>95629.0</td>\n",
       "      <td>227272</td>\n",
       "      <td>4</td>\n",
       "      <td>0.420769</td>\n",
       "    </tr>\n",
       "  </tbody>\n",
       "</table>\n",
       "</div>"
      ],
      "text/plain": [
       "     cntry_enti_nbr  sls_vol_us_amt  EMP_count  facility_count prim_sic_cd  \\\n",
       "207      1004368930               0          0               2    39999900   \n",
       "247      1004780820          709059          4               1    17960000   \n",
       "321      1005264298         9981153         75               5    36630103   \n",
       "346      1005294976        16080746         37               1    83310000   \n",
       "777      1007010138          227272          4               2    42150000   \n",
       "\n",
       "    acct_cntry_cd  L12_shp  max_Rev_L12RandP12R  sls_vol_us_amt_new  \\\n",
       "207            IT     12.0             138127.0             4365466   \n",
       "247            GB     12.0               7752.0              709059   \n",
       "321            DE     12.0               6821.0             9981153   \n",
       "346            DE     12.0              38554.0            16080746   \n",
       "777            IT     12.0              95629.0              227272   \n",
       "\n",
       "     EMP_count_new       TSF  \n",
       "207             20  0.031641  \n",
       "247              4  0.010933  \n",
       "321             75  0.000683  \n",
       "346             37  0.002398  \n",
       "777              4  0.420769  "
      ]
     },
     "execution_count": 30,
     "metadata": {},
     "output_type": "execute_result"
    }
   ],
   "source": [
    "df_train_zefil=pd.DataFrame()\n",
    "df_train['sls_vol_us_amt_new']=df_train['sls_vol_us_amt'].replace(0,df_train['sls_vol_us_amt'].median())\n",
    "df_train['EMP_count_new']=df_train['EMP_count'].replace(0,df_train['EMP_count'].median())\n",
    "df_train['TSF']=df_train['max_Rev_L12RandP12R']/df_train['sls_vol_us_amt_new']\n",
    "# (dffem['EMP_count_new'].value\n",
    "df_train.head(5)"
   ]
  },
  {
   "cell_type": "markdown",
   "id": "a21afe38",
   "metadata": {},
   "source": [
    "#### Plot target variables('TSF')"
   ]
  },
  {
   "cell_type": "code",
   "execution_count": 31,
   "id": "9bb8f3a3",
   "metadata": {},
   "outputs": [
    {
     "data": {
      "image/png": "[encoded data removed]",
      "text/plain": [
       "<Figure size 432x288 with 1 Axes>"
      ]
     },
     "metadata": {
      "needs_background": "light"
     },
     "output_type": "display_data"
    }
   ],
   "source": [
    "plt.plot(df_train['max_Rev_L12RandP12R'])\n",
    "plt.show()"
   ]
  },
  {
   "cell_type": "code",
   "execution_count": 32,
   "id": "1e1b7429",
   "metadata": {},
   "outputs": [
    {
     "data": {
      "image/png": "[encoded data removed]",
      "text/plain": [
       "<Figure size 432x288 with 1 Axes>"
      ]
     },
     "metadata": {
      "needs_background": "light"
     },
     "output_type": "display_data"
    }
   ],
   "source": [
    "plt.plot(df_train['TSF'])\n",
    "plt.show()"
   ]
  },
  {
   "cell_type": "code",
   "execution_count": 33,
   "id": "f5b27ab8",
   "metadata": {},
   "outputs": [
    {
     "data": {
      "text/plain": [
       "(0.4794064788866883, 0.0016351042303112693, 0.002160474199477554)"
      ]
     },
     "execution_count": 33,
     "metadata": {},
     "output_type": "execute_result"
    }
   ],
   "source": [
    "scipy.stats.t.fit(df_train['TSF'])"
   ]
  },
  {
   "cell_type": "code",
   "execution_count": 34,
   "id": "f8505ee8",
   "metadata": {},
   "outputs": [],
   "source": [
    "# plt.plot(bin_edges, scipy.stats.norm.pdf(bin_edges, loc=df_train['TSF'].mean(), scale=df_train['TSF'].std()))"
   ]
  },
  {
   "cell_type": "markdown",
   "id": "3710fe02",
   "metadata": {},
   "source": [
    "### NA fill by mean"
   ]
  },
  {
   "cell_type": "code",
   "execution_count": 35,
   "id": "e04b2a69",
   "metadata": {},
   "outputs": [],
   "source": [
    "# df_train_zefil=pd.DataFrame()\n",
    "# df_train['sls_vol_us_amt_new']=df_train['sls_vol_us_amt'].replace(0,df_train['sls_vol_us_amt'].mean())\n",
    "# df_train['EMP_count_new']=df_train['EMP_count'].replace(0,df_train['EMP_count'].mean())\n",
    "# # (dffem['EMP_count_new'].value\n",
    "# df_train.head(5)"
   ]
  },
  {
   "cell_type": "code",
   "execution_count": null,
   "id": "2a79b927",
   "metadata": {},
   "outputs": [],
   "source": []
  },
  {
   "cell_type": "code",
   "execution_count": 36,
   "id": "80755d55",
   "metadata": {},
   "outputs": [],
   "source": [
    "# dffem['EMP_count_new'].astype(float).describe()"
   ]
  },
  {
   "cell_type": "code",
   "execution_count": 37,
   "id": "58ef1b13",
   "metadata": {},
   "outputs": [],
   "source": [
    "# df_train['max_Rev_L12RandP12R']"
   ]
  },
  {
   "cell_type": "code",
   "execution_count": 38,
   "id": "07b52405",
   "metadata": {},
   "outputs": [],
   "source": [
    "### Boxplot without replacing zero values"
   ]
  },
  {
   "cell_type": "code",
   "execution_count": 39,
   "id": "57c16d89",
   "metadata": {},
   "outputs": [],
   "source": [
    "# # pd.DataFrame(dffem['EMP_count_new']).boxplot(column=['EMP_count_new'])\n",
    "# plt.figure(figsize=(8,6))\n",
    "# ax = sns.boxplot(x=df_train['sls_vol_us_amt_new'].astype(float))\n",
    "# plt.title('sls_vol_us_amt_new')\n",
    "# plt.show()\n",
    "# # dffem['sls_vol_us_amt_new'].astype(float).describe()"
   ]
  },
  {
   "cell_type": "code",
   "execution_count": 40,
   "id": "d38a5396",
   "metadata": {},
   "outputs": [],
   "source": [
    "# # pd.DataFrame(dffem['EMP_count_new']).boxplot(column=['EMP_count_new'])\n",
    "# plt.figure(figsize=(8,6))\n",
    "# ax = sns.boxplot(x=df_train['EMP_count_new'].astype(float))\n",
    "# plt.title('EMP_count_new')\n",
    "# plt.show()\n",
    "# dffem['EMP_count_new'].astype(float).describe()"
   ]
  },
  {
   "cell_type": "code",
   "execution_count": 41,
   "id": "57e09efb",
   "metadata": {},
   "outputs": [],
   "source": [
    "# ## Data information and describe\n",
    "# print (df_train.info())\n",
    "# print(df_train.describe())"
   ]
  },
  {
   "cell_type": "markdown",
   "id": "39bd8683",
   "metadata": {},
   "source": [
    "### Frequency plot for country "
   ]
  },
  {
   "cell_type": "code",
   "execution_count": 42,
   "id": "78bd77b8",
   "metadata": {},
   "outputs": [
    {
     "data": {
      "image/png": "[encoded data removed]",
      "text/plain": [
       "<Figure size 2520x1080 with 1 Axes>"
      ]
     },
     "metadata": {
      "needs_background": "light"
     },
     "output_type": "display_data"
    }
   ],
   "source": [
    "fz=20;\n",
    "plt.figure(figsize=(35,15))\n",
    "ax=sns.countplot(x='acct_cntry_cd',data=df_train)\n",
    "ax.set_xlabel(xlabel=\"Country\", fontsize=fz )\n",
    "ax.set_ylabel(ylabel=\"Frequency\", fontsize=fz)\n",
    "plt.xticks(fontsize=18)\n",
    "plt.yticks(fontsize=fz)\n",
    "plt.show()"
   ]
  },
  {
   "cell_type": "code",
   "execution_count": 43,
   "id": "ff3fd0b2",
   "metadata": {},
   "outputs": [],
   "source": [
    "# sls_amt=df_train['max_Rev_L12RandP12R']\n",
    "# type(sls_amt)\n",
    "# slsampd=pd.DataFrame(sls_amt.values)\n",
    "# slsampd.boxplot()"
   ]
  },
  {
   "cell_type": "code",
   "execution_count": 44,
   "id": "397b65d5",
   "metadata": {},
   "outputs": [
    {
     "data": {
      "image/png": "[encoded data removed]",
      "text/plain": [
       "<Figure size 576x432 with 1 Axes>"
      ]
     },
     "metadata": {
      "needs_background": "light"
     },
     "output_type": "display_data"
    },
    {
     "data": {
      "text/plain": [
       "count    2.484900e+04\n",
       "mean     1.480888e+05\n",
       "std      7.032680e+05\n",
       "min      1.000000e+01\n",
       "25%      7.199000e+03\n",
       "50%      2.281600e+04\n",
       "75%      7.333900e+04\n",
       "max      3.044115e+07\n",
       "Name: max_Rev_L12RandP12R, dtype: float64"
      ]
     },
     "execution_count": 44,
     "metadata": {},
     "output_type": "execute_result"
    }
   ],
   "source": [
    "plt.figure(figsize=(8,6))\n",
    "ax = sns.boxplot(x=df_train['max_Rev_L12RandP12R'])\n",
    "plt.title('Maximum rev_between_L12_P12')\n",
    "plt.show()\n",
    "df_train['max_Rev_L12RandP12R'].describe()"
   ]
  },
  {
   "cell_type": "code",
   "execution_count": 45,
   "id": "66117436",
   "metadata": {},
   "outputs": [],
   "source": [
    "# np.max(df_train['facility_count'])"
   ]
  },
  {
   "cell_type": "code",
   "execution_count": 46,
   "id": "fa064aaa",
   "metadata": {
    "scrolled": true
   },
   "outputs": [
    {
     "data": {
      "image/png": "[encoded data removed]",
      "text/plain": [
       "<Figure size 576x432 with 1 Axes>"
      ]
     },
     "metadata": {
      "needs_background": "light"
     },
     "output_type": "display_data"
    },
    {
     "data": {
      "text/plain": [
       "count    24849.000000\n",
       "mean         4.821120\n",
       "std         19.092625\n",
       "min          1.000000\n",
       "25%          1.000000\n",
       "50%          2.000000\n",
       "75%          3.000000\n",
       "max        669.000000\n",
       "Name: facility_count, dtype: float64"
      ]
     },
     "execution_count": 46,
     "metadata": {},
     "output_type": "execute_result"
    }
   ],
   "source": [
    "plt.figure(figsize=(8,6))\n",
    "ax = sns.boxplot(x=df_train['facility_count'])\n",
    "plt.title('facility_count')\n",
    "plt.show()\n",
    "df_train['facility_count'].describe()"
   ]
  },
  {
   "cell_type": "code",
   "execution_count": 47,
   "id": "f46d5665",
   "metadata": {},
   "outputs": [
    {
     "data": {
      "text/html": [
       "<div>\n",
       "<style scoped>\n",
       "    .dataframe tbody tr th:only-of-type {\n",
       "        vertical-align: middle;\n",
       "    }\n",
       "\n",
       "    .dataframe tbody tr th {\n",
       "        vertical-align: top;\n",
       "    }\n",
       "\n",
       "    .dataframe thead th {\n",
       "        text-align: right;\n",
       "    }\n",
       "</style>\n",
       "<table border=\"1\" class=\"dataframe\">\n",
       "  <thead>\n",
       "    <tr style=\"text-align: right;\">\n",
       "      <th></th>\n",
       "      <th>cntry_enti_nbr</th>\n",
       "      <th>sls_vol_us_amt</th>\n",
       "      <th>EMP_count</th>\n",
       "      <th>facility_count</th>\n",
       "      <th>prim_sic_cd</th>\n",
       "      <th>acct_cntry_cd</th>\n",
       "      <th>L12_shp</th>\n",
       "      <th>max_Rev_L12RandP12R</th>\n",
       "      <th>sls_vol_us_amt_new</th>\n",
       "      <th>EMP_count_new</th>\n",
       "      <th>TSF</th>\n",
       "    </tr>\n",
       "  </thead>\n",
       "  <tbody>\n",
       "    <tr>\n",
       "      <th>207</th>\n",
       "      <td>1004368930</td>\n",
       "      <td>0</td>\n",
       "      <td>0</td>\n",
       "      <td>2</td>\n",
       "      <td>39999900</td>\n",
       "      <td>IT</td>\n",
       "      <td>12.0</td>\n",
       "      <td>138127.0</td>\n",
       "      <td>4365466</td>\n",
       "      <td>20</td>\n",
       "      <td>0.031641</td>\n",
       "    </tr>\n",
       "    <tr>\n",
       "      <th>247</th>\n",
       "      <td>1004780820</td>\n",
       "      <td>709059</td>\n",
       "      <td>4</td>\n",
       "      <td>1</td>\n",
       "      <td>17960000</td>\n",
       "      <td>GB</td>\n",
       "      <td>12.0</td>\n",
       "      <td>7752.0</td>\n",
       "      <td>709059</td>\n",
       "      <td>4</td>\n",
       "      <td>0.010933</td>\n",
       "    </tr>\n",
       "    <tr>\n",
       "      <th>321</th>\n",
       "      <td>1005264298</td>\n",
       "      <td>9981153</td>\n",
       "      <td>75</td>\n",
       "      <td>5</td>\n",
       "      <td>36630103</td>\n",
       "      <td>DE</td>\n",
       "      <td>12.0</td>\n",
       "      <td>6821.0</td>\n",
       "      <td>9981153</td>\n",
       "      <td>75</td>\n",
       "      <td>0.000683</td>\n",
       "    </tr>\n",
       "  </tbody>\n",
       "</table>\n",
       "</div>"
      ],
      "text/plain": [
       "     cntry_enti_nbr  sls_vol_us_amt  EMP_count  facility_count prim_sic_cd  \\\n",
       "207      1004368930               0          0               2    39999900   \n",
       "247      1004780820          709059          4               1    17960000   \n",
       "321      1005264298         9981153         75               5    36630103   \n",
       "\n",
       "    acct_cntry_cd  L12_shp  max_Rev_L12RandP12R  sls_vol_us_amt_new  \\\n",
       "207            IT     12.0             138127.0             4365466   \n",
       "247            GB     12.0               7752.0              709059   \n",
       "321            DE     12.0               6821.0             9981153   \n",
       "\n",
       "     EMP_count_new       TSF  \n",
       "207             20  0.031641  \n",
       "247              4  0.010933  \n",
       "321             75  0.000683  "
      ]
     },
     "execution_count": 47,
     "metadata": {},
     "output_type": "execute_result"
    }
   ],
   "source": [
    "df_train.head(3)\n",
    "# df_train['sls_vol_us_amt']"
   ]
  },
  {
   "cell_type": "code",
   "execution_count": 48,
   "id": "b1a86674",
   "metadata": {},
   "outputs": [],
   "source": [
    "# boxplot=df_train.boxplot(column=['max_Rev_L12RandP12R','facility_count'])"
   ]
  },
  {
   "cell_type": "markdown",
   "id": "3eaa49b9",
   "metadata": {},
   "source": [
    "### Scatter plot independant variable vs. Dependant Variables(Maximum rev)"
   ]
  },
  {
   "cell_type": "code",
   "execution_count": 49,
   "id": "15b1a32b",
   "metadata": {},
   "outputs": [
    {
     "data": {
      "image/png": "[encoded data removed]",
      "text/plain": [
       "<Figure size 576x432 with 1 Axes>"
      ]
     },
     "metadata": {
      "needs_background": "light"
     },
     "output_type": "display_data"
    },
    {
     "name": "stdout",
     "output_type": "stream",
     "text": [
      "max: 89140 min: 0 mean: 137.07102901525212\n"
     ]
    }
   ],
   "source": [
    "plt.figure(figsize=(8,6))\n",
    "sns.scatterplot(data=df_train, x=\"EMP_count_new\", y=\"max_Rev_L12RandP12R\")\n",
    "plt.show()\n",
    "emp=np.array(df_train[\"EMP_count\"])\n",
    "print('max:', emp.astype(int).max(), 'min:', emp.astype(int).min(),'mean:',emp.astype(int).mean())"
   ]
  },
  {
   "cell_type": "code",
   "execution_count": null,
   "id": "bebd0f84",
   "metadata": {},
   "outputs": [],
   "source": []
  },
  {
   "cell_type": "code",
   "execution_count": 50,
   "id": "30c36a57",
   "metadata": {},
   "outputs": [
    {
     "data": {
      "image/png": "[encoded data removed]",
      "text/plain": [
       "<Figure size 576x432 with 1 Axes>"
      ]
     },
     "metadata": {
      "needs_background": "light"
     },
     "output_type": "display_data"
    },
    {
     "name": "stdout",
     "output_type": "stream",
     "text": [
      "max: 69439566443 min: 0 mean: 57695131.82184394\n"
     ]
    }
   ],
   "source": [
    "plt.figure(figsize=(8,6))\n",
    "sns.scatterplot(data=df_train, x=\"sls_vol_us_amt_new\", y=\"max_Rev_L12RandP12R\")\n",
    "plt.show()\n",
    "emp=np.array(df_train[\"sls_vol_us_amt\"])\n",
    "print('max:', emp.max(), 'min:', emp.min(),'mean:',emp.mean())"
   ]
  },
  {
   "cell_type": "code",
   "execution_count": 51,
   "id": "439afe92",
   "metadata": {},
   "outputs": [],
   "source": [
    "# result = pd.concat([dfsic_web, df2],axis=1,join=\"inner\",sort=True,copy=True, ignore_index=False)\n",
    "# result"
   ]
  },
  {
   "cell_type": "markdown",
   "id": "9891579d",
   "metadata": {},
   "source": [
    "## Facility count number frequency"
   ]
  },
  {
   "cell_type": "code",
   "execution_count": 52,
   "id": "8b794012",
   "metadata": {},
   "outputs": [],
   "source": [
    "# df1=pd.DataFrame(df_train['facility_count'])\n",
    "# plt.figure(figsize=(70,60))\n",
    "# ax=sns.countplot(x='facility_count',data= df1)\n",
    "# ax.set_xlabel(xlabel=\"Country\", fontsize=fz )\n",
    "# ax.set_ylabel(ylabel=\"Frequency\", fontsize=fz)\n",
    "# plt.xticks(fontsize=18)\n",
    "# plt.yticks(fontsize=fz)\n",
    "# plt.show()"
   ]
  },
  {
   "cell_type": "code",
   "execution_count": 53,
   "id": "3690ca1a",
   "metadata": {},
   "outputs": [
    {
     "data": {
      "text/html": [
       "<div>\n",
       "<style scoped>\n",
       "    .dataframe tbody tr th:only-of-type {\n",
       "        vertical-align: middle;\n",
       "    }\n",
       "\n",
       "    .dataframe tbody tr th {\n",
       "        vertical-align: top;\n",
       "    }\n",
       "\n",
       "    .dataframe thead th {\n",
       "        text-align: right;\n",
       "    }\n",
       "</style>\n",
       "<table border=\"1\" class=\"dataframe\">\n",
       "  <thead>\n",
       "    <tr style=\"text-align: right;\">\n",
       "      <th></th>\n",
       "      <th>cntry_enti_nbr</th>\n",
       "      <th>sls_vol_us_amt</th>\n",
       "      <th>EMP_count</th>\n",
       "      <th>facility_count</th>\n",
       "      <th>prim_sic_cd</th>\n",
       "      <th>acct_cntry_cd</th>\n",
       "      <th>L12_shp</th>\n",
       "      <th>max_Rev_L12RandP12R</th>\n",
       "      <th>sls_vol_us_amt_new</th>\n",
       "      <th>EMP_count_new</th>\n",
       "      <th>TSF</th>\n",
       "    </tr>\n",
       "  </thead>\n",
       "  <tbody>\n",
       "    <tr>\n",
       "      <th>207</th>\n",
       "      <td>1004368930</td>\n",
       "      <td>0</td>\n",
       "      <td>0</td>\n",
       "      <td>2</td>\n",
       "      <td>39999900</td>\n",
       "      <td>IT</td>\n",
       "      <td>12.0</td>\n",
       "      <td>138127.0</td>\n",
       "      <td>4365466</td>\n",
       "      <td>20</td>\n",
       "      <td>0.031641</td>\n",
       "    </tr>\n",
       "    <tr>\n",
       "      <th>247</th>\n",
       "      <td>1004780820</td>\n",
       "      <td>709059</td>\n",
       "      <td>4</td>\n",
       "      <td>1</td>\n",
       "      <td>17960000</td>\n",
       "      <td>GB</td>\n",
       "      <td>12.0</td>\n",
       "      <td>7752.0</td>\n",
       "      <td>709059</td>\n",
       "      <td>4</td>\n",
       "      <td>0.010933</td>\n",
       "    </tr>\n",
       "    <tr>\n",
       "      <th>321</th>\n",
       "      <td>1005264298</td>\n",
       "      <td>9981153</td>\n",
       "      <td>75</td>\n",
       "      <td>5</td>\n",
       "      <td>36630103</td>\n",
       "      <td>DE</td>\n",
       "      <td>12.0</td>\n",
       "      <td>6821.0</td>\n",
       "      <td>9981153</td>\n",
       "      <td>75</td>\n",
       "      <td>0.000683</td>\n",
       "    </tr>\n",
       "    <tr>\n",
       "      <th>346</th>\n",
       "      <td>1005294976</td>\n",
       "      <td>16080746</td>\n",
       "      <td>37</td>\n",
       "      <td>1</td>\n",
       "      <td>83310000</td>\n",
       "      <td>DE</td>\n",
       "      <td>12.0</td>\n",
       "      <td>38554.0</td>\n",
       "      <td>16080746</td>\n",
       "      <td>37</td>\n",
       "      <td>0.002398</td>\n",
       "    </tr>\n",
       "    <tr>\n",
       "      <th>777</th>\n",
       "      <td>1007010138</td>\n",
       "      <td>227272</td>\n",
       "      <td>4</td>\n",
       "      <td>2</td>\n",
       "      <td>42150000</td>\n",
       "      <td>IT</td>\n",
       "      <td>12.0</td>\n",
       "      <td>95629.0</td>\n",
       "      <td>227272</td>\n",
       "      <td>4</td>\n",
       "      <td>0.420769</td>\n",
       "    </tr>\n",
       "    <tr>\n",
       "      <th>...</th>\n",
       "      <td>...</td>\n",
       "      <td>...</td>\n",
       "      <td>...</td>\n",
       "      <td>...</td>\n",
       "      <td>...</td>\n",
       "      <td>...</td>\n",
       "      <td>...</td>\n",
       "      <td>...</td>\n",
       "      <td>...</td>\n",
       "      <td>...</td>\n",
       "      <td>...</td>\n",
       "    </tr>\n",
       "    <tr>\n",
       "      <th>1047185</th>\n",
       "      <td>916140180</td>\n",
       "      <td>483182</td>\n",
       "      <td>1</td>\n",
       "      <td>2</td>\n",
       "      <td>20470000</td>\n",
       "      <td>BE</td>\n",
       "      <td>12.0</td>\n",
       "      <td>12059.0</td>\n",
       "      <td>483182</td>\n",
       "      <td>1</td>\n",
       "      <td>0.024957</td>\n",
       "    </tr>\n",
       "    <tr>\n",
       "      <th>1047252</th>\n",
       "      <td>916141451</td>\n",
       "      <td>55589381</td>\n",
       "      <td>198</td>\n",
       "      <td>2</td>\n",
       "      <td>35110202</td>\n",
       "      <td>BE</td>\n",
       "      <td>12.0</td>\n",
       "      <td>53315.0</td>\n",
       "      <td>55589381</td>\n",
       "      <td>198</td>\n",
       "      <td>0.000959</td>\n",
       "    </tr>\n",
       "    <tr>\n",
       "      <th>1048012</th>\n",
       "      <td>916180626</td>\n",
       "      <td>29886722</td>\n",
       "      <td>58</td>\n",
       "      <td>1</td>\n",
       "      <td>28990105</td>\n",
       "      <td>IT</td>\n",
       "      <td>12.0</td>\n",
       "      <td>24015.0</td>\n",
       "      <td>29886722</td>\n",
       "      <td>58</td>\n",
       "      <td>0.000804</td>\n",
       "    </tr>\n",
       "    <tr>\n",
       "      <th>1048545</th>\n",
       "      <td>916232127</td>\n",
       "      <td>61330</td>\n",
       "      <td>1</td>\n",
       "      <td>1</td>\n",
       "      <td>73590500</td>\n",
       "      <td>NL</td>\n",
       "      <td>12.0</td>\n",
       "      <td>5535.0</td>\n",
       "      <td>61330</td>\n",
       "      <td>1</td>\n",
       "      <td>0.090249</td>\n",
       "    </tr>\n",
       "    <tr>\n",
       "      <th>1048570</th>\n",
       "      <td>916234127</td>\n",
       "      <td>200000</td>\n",
       "      <td>3</td>\n",
       "      <td>2</td>\n",
       "      <td>73899900</td>\n",
       "      <td>FR</td>\n",
       "      <td>12.0</td>\n",
       "      <td>391284.0</td>\n",
       "      <td>200000</td>\n",
       "      <td>3</td>\n",
       "      <td>1.956420</td>\n",
       "    </tr>\n",
       "  </tbody>\n",
       "</table>\n",
       "<p>24849 rows × 11 columns</p>\n",
       "</div>"
      ],
      "text/plain": [
       "         cntry_enti_nbr  sls_vol_us_amt  EMP_count  facility_count  \\\n",
       "207          1004368930               0          0               2   \n",
       "247          1004780820          709059          4               1   \n",
       "321          1005264298         9981153         75               5   \n",
       "346          1005294976        16080746         37               1   \n",
       "777          1007010138          227272          4               2   \n",
       "...                 ...             ...        ...             ...   \n",
       "1047185       916140180          483182          1               2   \n",
       "1047252       916141451        55589381        198               2   \n",
       "1048012       916180626        29886722         58               1   \n",
       "1048545       916232127           61330          1               1   \n",
       "1048570       916234127          200000          3               2   \n",
       "\n",
       "        prim_sic_cd acct_cntry_cd  L12_shp  max_Rev_L12RandP12R  \\\n",
       "207        39999900            IT     12.0             138127.0   \n",
       "247        17960000            GB     12.0               7752.0   \n",
       "321        36630103            DE     12.0               6821.0   \n",
       "346        83310000            DE     12.0              38554.0   \n",
       "777        42150000            IT     12.0              95629.0   \n",
       "...             ...           ...      ...                  ...   \n",
       "1047185    20470000            BE     12.0              12059.0   \n",
       "1047252    35110202            BE     12.0              53315.0   \n",
       "1048012    28990105            IT     12.0              24015.0   \n",
       "1048545    73590500            NL     12.0               5535.0   \n",
       "1048570    73899900            FR     12.0             391284.0   \n",
       "\n",
       "         sls_vol_us_amt_new  EMP_count_new       TSF  \n",
       "207                 4365466             20  0.031641  \n",
       "247                  709059              4  0.010933  \n",
       "321                 9981153             75  0.000683  \n",
       "346                16080746             37  0.002398  \n",
       "777                  227272              4  0.420769  \n",
       "...                     ...            ...       ...  \n",
       "1047185              483182              1  0.024957  \n",
       "1047252            55589381            198  0.000959  \n",
       "1048012            29886722             58  0.000804  \n",
       "1048545               61330              1  0.090249  \n",
       "1048570              200000              3  1.956420  \n",
       "\n",
       "[24849 rows x 11 columns]"
      ]
     },
     "execution_count": 53,
     "metadata": {},
     "output_type": "execute_result"
    }
   ],
   "source": [
    "df_train"
   ]
  },
  {
   "cell_type": "markdown",
   "id": "93c95cbd",
   "metadata": {},
   "source": [
    "## Ordinal encoding"
   ]
  },
  {
   "cell_type": "code",
   "execution_count": 54,
   "id": "072e34ab",
   "metadata": {},
   "outputs": [],
   "source": [
    "###### define data\n",
    "encoder = OrdinalEncoder()"
   ]
  },
  {
   "cell_type": "code",
   "execution_count": 55,
   "id": "a46592d6",
   "metadata": {},
   "outputs": [
    {
     "data": {
      "text/plain": [
       "'39999900'"
      ]
     },
     "execution_count": 55,
     "metadata": {},
     "output_type": "execute_result"
    }
   ],
   "source": [
    "picstr=(df_train['prim_sic_cd'].values).astype(str)\n",
    "picstr[0]"
   ]
  },
  {
   "cell_type": "code",
   "execution_count": 56,
   "id": "405340e7",
   "metadata": {},
   "outputs": [
    {
     "data": {
      "text/plain": [
       "array([['39999900'],\n",
       "       ['17960000'],\n",
       "       ['36630103'],\n",
       "       ...,\n",
       "       ['28990105'],\n",
       "       ['73590500'],\n",
       "       ['73899900']], dtype='<U8')"
      ]
     },
     "execution_count": 56,
     "metadata": {},
     "output_type": "execute_result"
    }
   ],
   "source": [
    "(df_train['prim_sic_cd'].values).astype(str).reshape(-1,1)"
   ]
  },
  {
   "cell_type": "code",
   "execution_count": 57,
   "id": "7193b4a9",
   "metadata": {},
   "outputs": [
    {
     "data": {
      "text/plain": [
       "array([['IT'],\n",
       "       ['GB'],\n",
       "       ['DE'],\n",
       "       ...,\n",
       "       ['IT'],\n",
       "       ['NL'],\n",
       "       ['FR']], dtype=object)"
      ]
     },
     "execution_count": 57,
     "metadata": {},
     "output_type": "execute_result"
    }
   ],
   "source": [
    "df_train['acct_cntry_cd'].values.reshape(-1,1)"
   ]
  },
  {
   "cell_type": "code",
   "execution_count": 58,
   "id": "fa47a1dd",
   "metadata": {},
   "outputs": [
    {
     "name": "stdout",
     "output_type": "stream",
     "text": [
      "(24849, 13)\n"
     ]
    },
    {
     "name": "stderr",
     "output_type": "stream",
     "text": [
      "<ipython-input-58-3bb00c4e8279>:1: SettingWithCopyWarning: \n",
      "A value is trying to be set on a copy of a slice from a DataFrame.\n",
      "Try using .loc[row_indexer,col_indexer] = value instead\n",
      "\n",
      "See the caveats in the documentation: https://pandas.pydata.org/pandas-docs/stable/user_guide/indexing.html#returning-a-view-versus-a-copy\n",
      "  df_train['acct_cntry_cd_endc']=encoder.fit_transform(df_train['acct_cntry_cd'].values.reshape(-1,1))\n",
      "<ipython-input-58-3bb00c4e8279>:2: SettingWithCopyWarning: \n",
      "A value is trying to be set on a copy of a slice from a DataFrame.\n",
      "Try using .loc[row_indexer,col_indexer] = value instead\n",
      "\n",
      "See the caveats in the documentation: https://pandas.pydata.org/pandas-docs/stable/user_guide/indexing.html#returning-a-view-versus-a-copy\n",
      "  df_train['prim_sic_cd_endc']=encoder.fit_transform((df_train['prim_sic_cd'].values).astype(str).reshape(-1,1))\n"
     ]
    },
    {
     "data": {
      "text/html": [
       "<div>\n",
       "<style scoped>\n",
       "    .dataframe tbody tr th:only-of-type {\n",
       "        vertical-align: middle;\n",
       "    }\n",
       "\n",
       "    .dataframe tbody tr th {\n",
       "        vertical-align: top;\n",
       "    }\n",
       "\n",
       "    .dataframe thead th {\n",
       "        text-align: right;\n",
       "    }\n",
       "</style>\n",
       "<table border=\"1\" class=\"dataframe\">\n",
       "  <thead>\n",
       "    <tr style=\"text-align: right;\">\n",
       "      <th></th>\n",
       "      <th>cntry_enti_nbr</th>\n",
       "      <th>sls_vol_us_amt</th>\n",
       "      <th>EMP_count</th>\n",
       "      <th>facility_count</th>\n",
       "      <th>prim_sic_cd</th>\n",
       "      <th>acct_cntry_cd</th>\n",
       "      <th>L12_shp</th>\n",
       "      <th>max_Rev_L12RandP12R</th>\n",
       "      <th>sls_vol_us_amt_new</th>\n",
       "      <th>EMP_count_new</th>\n",
       "      <th>TSF</th>\n",
       "      <th>acct_cntry_cd_endc</th>\n",
       "      <th>prim_sic_cd_endc</th>\n",
       "    </tr>\n",
       "  </thead>\n",
       "  <tbody>\n",
       "    <tr>\n",
       "      <th>207</th>\n",
       "      <td>1004368930</td>\n",
       "      <td>0</td>\n",
       "      <td>0</td>\n",
       "      <td>2</td>\n",
       "      <td>39999900</td>\n",
       "      <td>IT</td>\n",
       "      <td>12.0</td>\n",
       "      <td>138127.0</td>\n",
       "      <td>4365466</td>\n",
       "      <td>20</td>\n",
       "      <td>0.031641</td>\n",
       "      <td>18.0</td>\n",
       "      <td>937.0</td>\n",
       "    </tr>\n",
       "    <tr>\n",
       "      <th>247</th>\n",
       "      <td>1004780820</td>\n",
       "      <td>709059</td>\n",
       "      <td>4</td>\n",
       "      <td>1</td>\n",
       "      <td>17960000</td>\n",
       "      <td>GB</td>\n",
       "      <td>12.0</td>\n",
       "      <td>7752.0</td>\n",
       "      <td>709059</td>\n",
       "      <td>4</td>\n",
       "      <td>0.010933</td>\n",
       "      <td>12.0</td>\n",
       "      <td>49.0</td>\n",
       "    </tr>\n",
       "    <tr>\n",
       "      <th>321</th>\n",
       "      <td>1005264298</td>\n",
       "      <td>9981153</td>\n",
       "      <td>75</td>\n",
       "      <td>5</td>\n",
       "      <td>36630103</td>\n",
       "      <td>DE</td>\n",
       "      <td>12.0</td>\n",
       "      <td>6821.0</td>\n",
       "      <td>9981153</td>\n",
       "      <td>75</td>\n",
       "      <td>0.000683</td>\n",
       "      <td>6.0</td>\n",
       "      <td>736.0</td>\n",
       "    </tr>\n",
       "    <tr>\n",
       "      <th>346</th>\n",
       "      <td>1005294976</td>\n",
       "      <td>16080746</td>\n",
       "      <td>37</td>\n",
       "      <td>1</td>\n",
       "      <td>83310000</td>\n",
       "      <td>DE</td>\n",
       "      <td>12.0</td>\n",
       "      <td>38554.0</td>\n",
       "      <td>16080746</td>\n",
       "      <td>37</td>\n",
       "      <td>0.002398</td>\n",
       "      <td>6.0</td>\n",
       "      <td>1908.0</td>\n",
       "    </tr>\n",
       "    <tr>\n",
       "      <th>777</th>\n",
       "      <td>1007010138</td>\n",
       "      <td>227272</td>\n",
       "      <td>4</td>\n",
       "      <td>2</td>\n",
       "      <td>42150000</td>\n",
       "      <td>IT</td>\n",
       "      <td>12.0</td>\n",
       "      <td>95629.0</td>\n",
       "      <td>227272</td>\n",
       "      <td>4</td>\n",
       "      <td>0.420769</td>\n",
       "      <td>18.0</td>\n",
       "      <td>952.0</td>\n",
       "    </tr>\n",
       "  </tbody>\n",
       "</table>\n",
       "</div>"
      ],
      "text/plain": [
       "     cntry_enti_nbr  sls_vol_us_amt  EMP_count  facility_count prim_sic_cd  \\\n",
       "207      1004368930               0          0               2    39999900   \n",
       "247      1004780820          709059          4               1    17960000   \n",
       "321      1005264298         9981153         75               5    36630103   \n",
       "346      1005294976        16080746         37               1    83310000   \n",
       "777      1007010138          227272          4               2    42150000   \n",
       "\n",
       "    acct_cntry_cd  L12_shp  max_Rev_L12RandP12R  sls_vol_us_amt_new  \\\n",
       "207            IT     12.0             138127.0             4365466   \n",
       "247            GB     12.0               7752.0              709059   \n",
       "321            DE     12.0               6821.0             9981153   \n",
       "346            DE     12.0              38554.0            16080746   \n",
       "777            IT     12.0              95629.0              227272   \n",
       "\n",
       "     EMP_count_new       TSF  acct_cntry_cd_endc  prim_sic_cd_endc  \n",
       "207             20  0.031641                18.0             937.0  \n",
       "247              4  0.010933                12.0              49.0  \n",
       "321             75  0.000683                 6.0             736.0  \n",
       "346             37  0.002398                 6.0            1908.0  \n",
       "777              4  0.420769                18.0             952.0  "
      ]
     },
     "execution_count": 58,
     "metadata": {},
     "output_type": "execute_result"
    }
   ],
   "source": [
    "df_train['acct_cntry_cd_endc']=encoder.fit_transform(df_train['acct_cntry_cd'].values.reshape(-1,1))\n",
    "df_train['prim_sic_cd_endc']=encoder.fit_transform((df_train['prim_sic_cd'].values).astype(str).reshape(-1,1))\n",
    "# df_train['facility_count_endc']=encoder.fit_transform(df_train['facility_count'].values.reshape(-1,1))\n",
    "print(df_train.shape)\n",
    "df_train.head(5)"
   ]
  },
  {
   "cell_type": "code",
   "execution_count": 59,
   "id": "4782fce2",
   "metadata": {},
   "outputs": [],
   "source": [
    "# check"
   ]
  },
  {
   "cell_type": "code",
   "execution_count": 60,
   "id": "d6684e6e",
   "metadata": {},
   "outputs": [],
   "source": [
    "# from numpy import asarray\n",
    "# t=asarray([['red'], ['green'], ['blue']])\n",
    "# t.shape"
   ]
  },
  {
   "cell_type": "code",
   "execution_count": 61,
   "id": "8fff9e2c",
   "metadata": {},
   "outputs": [],
   "source": [
    "# tt=df_train['acct_cntry_cd'].values.reshape(-1,1)\n",
    "# tt"
   ]
  },
  {
   "cell_type": "code",
   "execution_count": 62,
   "id": "baf9e997",
   "metadata": {},
   "outputs": [
    {
     "data": {
      "text/plain": [
       "Index(['cntry_enti_nbr', 'sls_vol_us_amt', 'EMP_count', 'facility_count',\n",
       "       'prim_sic_cd', 'acct_cntry_cd', 'L12_shp', 'max_Rev_L12RandP12R',\n",
       "       'sls_vol_us_amt_new', 'EMP_count_new', 'TSF', 'acct_cntry_cd_endc',\n",
       "       'prim_sic_cd_endc'],\n",
       "      dtype='object')"
      ]
     },
     "execution_count": 62,
     "metadata": {},
     "output_type": "execute_result"
    }
   ],
   "source": [
    "df_train.keys()"
   ]
  },
  {
   "cell_type": "code",
   "execution_count": 63,
   "id": "1dc988aa",
   "metadata": {
    "scrolled": true
   },
   "outputs": [
    {
     "name": "stdout",
     "output_type": "stream",
     "text": [
      "sls_vol_us_amt_new       int64\n",
      "EMP_count_new            int64\n",
      "acct_cntry_cd_endc     float64\n",
      "facility_count           int64\n",
      "prim_sic_cd_endc       float64\n",
      "max_Rev_L12RandP12R    float64\n",
      "dtype: object \n",
      "\n"
     ]
    },
    {
     "data": {
      "text/html": [
       "<div>\n",
       "<style scoped>\n",
       "    .dataframe tbody tr th:only-of-type {\n",
       "        vertical-align: middle;\n",
       "    }\n",
       "\n",
       "    .dataframe tbody tr th {\n",
       "        vertical-align: top;\n",
       "    }\n",
       "\n",
       "    .dataframe thead th {\n",
       "        text-align: right;\n",
       "    }\n",
       "</style>\n",
       "<table border=\"1\" class=\"dataframe\">\n",
       "  <thead>\n",
       "    <tr style=\"text-align: right;\">\n",
       "      <th></th>\n",
       "      <th>sls_vol_us_amt_new</th>\n",
       "      <th>EMP_count_new</th>\n",
       "      <th>acct_cntry_cd_endc</th>\n",
       "      <th>facility_count</th>\n",
       "      <th>prim_sic_cd_endc</th>\n",
       "      <th>max_Rev_L12RandP12R</th>\n",
       "    </tr>\n",
       "  </thead>\n",
       "  <tbody>\n",
       "    <tr>\n",
       "      <th>207</th>\n",
       "      <td>4365466</td>\n",
       "      <td>20</td>\n",
       "      <td>18.0</td>\n",
       "      <td>2</td>\n",
       "      <td>937.0</td>\n",
       "      <td>138127.0</td>\n",
       "    </tr>\n",
       "    <tr>\n",
       "      <th>247</th>\n",
       "      <td>709059</td>\n",
       "      <td>4</td>\n",
       "      <td>12.0</td>\n",
       "      <td>1</td>\n",
       "      <td>49.0</td>\n",
       "      <td>7752.0</td>\n",
       "    </tr>\n",
       "    <tr>\n",
       "      <th>321</th>\n",
       "      <td>9981153</td>\n",
       "      <td>75</td>\n",
       "      <td>6.0</td>\n",
       "      <td>5</td>\n",
       "      <td>736.0</td>\n",
       "      <td>6821.0</td>\n",
       "    </tr>\n",
       "  </tbody>\n",
       "</table>\n",
       "</div>"
      ],
      "text/plain": [
       "     sls_vol_us_amt_new  EMP_count_new  acct_cntry_cd_endc  facility_count  \\\n",
       "207             4365466             20                18.0               2   \n",
       "247              709059              4                12.0               1   \n",
       "321             9981153             75                 6.0               5   \n",
       "\n",
       "     prim_sic_cd_endc  max_Rev_L12RandP12R  \n",
       "207             937.0             138127.0  \n",
       "247              49.0               7752.0  \n",
       "321             736.0               6821.0  "
      ]
     },
     "metadata": {},
     "output_type": "display_data"
    },
    {
     "data": {
      "text/html": [
       "<div>\n",
       "<style scoped>\n",
       "    .dataframe tbody tr th:only-of-type {\n",
       "        vertical-align: middle;\n",
       "    }\n",
       "\n",
       "    .dataframe tbody tr th {\n",
       "        vertical-align: top;\n",
       "    }\n",
       "\n",
       "    .dataframe thead th {\n",
       "        text-align: right;\n",
       "    }\n",
       "</style>\n",
       "<table border=\"1\" class=\"dataframe\">\n",
       "  <thead>\n",
       "    <tr style=\"text-align: right;\">\n",
       "      <th></th>\n",
       "      <th>sls_vol_us_amt_new</th>\n",
       "      <th>EMP_count_new</th>\n",
       "      <th>acct_cntry_cd_endc</th>\n",
       "      <th>facility_count</th>\n",
       "      <th>prim_sic_cd_endc</th>\n",
       "      <th>max_Rev_L12RandP12R</th>\n",
       "    </tr>\n",
       "  </thead>\n",
       "  <tbody>\n",
       "    <tr>\n",
       "      <th>count</th>\n",
       "      <td>2.484900e+04</td>\n",
       "      <td>24849.000000</td>\n",
       "      <td>24849.000000</td>\n",
       "      <td>24849.000000</td>\n",
       "      <td>24849.000000</td>\n",
       "      <td>2.484900e+04</td>\n",
       "    </tr>\n",
       "    <tr>\n",
       "      <th>mean</th>\n",
       "      <td>5.786783e+07</td>\n",
       "      <td>137.619944</td>\n",
       "      <td>11.648799</td>\n",
       "      <td>4.821120</td>\n",
       "      <td>1032.868445</td>\n",
       "      <td>1.480888e+05</td>\n",
       "    </tr>\n",
       "    <tr>\n",
       "      <th>std</th>\n",
       "      <td>8.683480e+08</td>\n",
       "      <td>1006.693017</td>\n",
       "      <td>6.743943</td>\n",
       "      <td>19.092625</td>\n",
       "      <td>548.314018</td>\n",
       "      <td>7.032680e+05</td>\n",
       "    </tr>\n",
       "    <tr>\n",
       "      <th>min</th>\n",
       "      <td>3.000000e+00</td>\n",
       "      <td>1.000000</td>\n",
       "      <td>0.000000</td>\n",
       "      <td>1.000000</td>\n",
       "      <td>0.000000</td>\n",
       "      <td>1.000000e+01</td>\n",
       "    </tr>\n",
       "    <tr>\n",
       "      <th>25%</th>\n",
       "      <td>9.850350e+05</td>\n",
       "      <td>6.000000</td>\n",
       "      <td>6.000000</td>\n",
       "      <td>1.000000</td>\n",
       "      <td>604.000000</td>\n",
       "      <td>7.199000e+03</td>\n",
       "    </tr>\n",
       "    <tr>\n",
       "      <th>50%</th>\n",
       "      <td>4.365466e+06</td>\n",
       "      <td>20.000000</td>\n",
       "      <td>12.000000</td>\n",
       "      <td>2.000000</td>\n",
       "      <td>998.000000</td>\n",
       "      <td>2.281600e+04</td>\n",
       "    </tr>\n",
       "    <tr>\n",
       "      <th>75%</th>\n",
       "      <td>1.723770e+07</td>\n",
       "      <td>68.000000</td>\n",
       "      <td>16.000000</td>\n",
       "      <td>3.000000</td>\n",
       "      <td>1509.000000</td>\n",
       "      <td>7.333900e+04</td>\n",
       "    </tr>\n",
       "    <tr>\n",
       "      <th>max</th>\n",
       "      <td>6.943957e+10</td>\n",
       "      <td>89140.000000</td>\n",
       "      <td>32.000000</td>\n",
       "      <td>669.000000</td>\n",
       "      <td>2017.000000</td>\n",
       "      <td>3.044115e+07</td>\n",
       "    </tr>\n",
       "  </tbody>\n",
       "</table>\n",
       "</div>"
      ],
      "text/plain": [
       "       sls_vol_us_amt_new  EMP_count_new  acct_cntry_cd_endc  facility_count  \\\n",
       "count        2.484900e+04   24849.000000        24849.000000    24849.000000   \n",
       "mean         5.786783e+07     137.619944           11.648799        4.821120   \n",
       "std          8.683480e+08    1006.693017            6.743943       19.092625   \n",
       "min          3.000000e+00       1.000000            0.000000        1.000000   \n",
       "25%          9.850350e+05       6.000000            6.000000        1.000000   \n",
       "50%          4.365466e+06      20.000000           12.000000        2.000000   \n",
       "75%          1.723770e+07      68.000000           16.000000        3.000000   \n",
       "max          6.943957e+10   89140.000000           32.000000      669.000000   \n",
       "\n",
       "       prim_sic_cd_endc  max_Rev_L12RandP12R  \n",
       "count      24849.000000         2.484900e+04  \n",
       "mean        1032.868445         1.480888e+05  \n",
       "std          548.314018         7.032680e+05  \n",
       "min            0.000000         1.000000e+01  \n",
       "25%          604.000000         7.199000e+03  \n",
       "50%          998.000000         2.281600e+04  \n",
       "75%         1509.000000         7.333900e+04  \n",
       "max         2017.000000         3.044115e+07  "
      ]
     },
     "metadata": {},
     "output_type": "display_data"
    }
   ],
   "source": [
    "df_train_semif1=df_train[['sls_vol_us_amt_new','EMP_count_new','acct_cntry_cd_endc','facility_count','prim_sic_cd_endc'\n",
    "                            ,'max_Rev_L12RandP12R']]\n",
    "print(df_train_semif1.dtypes,'\\n')\n",
    "display(df_train_semif1.head(3))\n",
    "display(df_train_semif1.describe())"
   ]
  },
  {
   "cell_type": "code",
   "execution_count": 64,
   "id": "81cdcf0e",
   "metadata": {},
   "outputs": [],
   "source": [
    "# dffem['EMP_count_new'].astype(float).describe()"
   ]
  },
  {
   "cell_type": "code",
   "execution_count": 65,
   "id": "338d9281",
   "metadata": {},
   "outputs": [
    {
     "data": {
      "text/plain": [
       "sls_vol_us_amt_new       int64\n",
       "EMP_count_new            int64\n",
       "acct_cntry_cd_endc     float64\n",
       "facility_count           int64\n",
       "prim_sic_cd_endc       float64\n",
       "max_Rev_L12RandP12R    float64\n",
       "dtype: object"
      ]
     },
     "execution_count": 65,
     "metadata": {},
     "output_type": "execute_result"
    }
   ],
   "source": [
    "df_train_semif1.dtypes"
   ]
  },
  {
   "cell_type": "code",
   "execution_count": 66,
   "id": "5a3e7337",
   "metadata": {},
   "outputs": [
    {
     "data": {
      "text/html": [
       "<div>\n",
       "<style scoped>\n",
       "    .dataframe tbody tr th:only-of-type {\n",
       "        vertical-align: middle;\n",
       "    }\n",
       "\n",
       "    .dataframe tbody tr th {\n",
       "        vertical-align: top;\n",
       "    }\n",
       "\n",
       "    .dataframe thead th {\n",
       "        text-align: right;\n",
       "    }\n",
       "</style>\n",
       "<table border=\"1\" class=\"dataframe\">\n",
       "  <thead>\n",
       "    <tr style=\"text-align: right;\">\n",
       "      <th></th>\n",
       "      <th>sls_vol_us_amt_new</th>\n",
       "      <th>EMP_count_new</th>\n",
       "      <th>acct_cntry_cd_endc</th>\n",
       "      <th>facility_count</th>\n",
       "      <th>prim_sic_cd_endc</th>\n",
       "      <th>max_Rev_L12RandP12R</th>\n",
       "    </tr>\n",
       "  </thead>\n",
       "  <tbody>\n",
       "    <tr>\n",
       "      <th>count</th>\n",
       "      <td>2.484900e+04</td>\n",
       "      <td>24849.000000</td>\n",
       "      <td>24849.000000</td>\n",
       "      <td>24849.000000</td>\n",
       "      <td>24849.000000</td>\n",
       "      <td>2.484900e+04</td>\n",
       "    </tr>\n",
       "    <tr>\n",
       "      <th>mean</th>\n",
       "      <td>5.786783e+07</td>\n",
       "      <td>137.619944</td>\n",
       "      <td>11.648799</td>\n",
       "      <td>4.821120</td>\n",
       "      <td>1032.868445</td>\n",
       "      <td>1.480888e+05</td>\n",
       "    </tr>\n",
       "    <tr>\n",
       "      <th>std</th>\n",
       "      <td>8.683480e+08</td>\n",
       "      <td>1006.693017</td>\n",
       "      <td>6.743943</td>\n",
       "      <td>19.092625</td>\n",
       "      <td>548.314018</td>\n",
       "      <td>7.032680e+05</td>\n",
       "    </tr>\n",
       "    <tr>\n",
       "      <th>min</th>\n",
       "      <td>3.000000e+00</td>\n",
       "      <td>1.000000</td>\n",
       "      <td>0.000000</td>\n",
       "      <td>1.000000</td>\n",
       "      <td>0.000000</td>\n",
       "      <td>1.000000e+01</td>\n",
       "    </tr>\n",
       "    <tr>\n",
       "      <th>25%</th>\n",
       "      <td>9.850350e+05</td>\n",
       "      <td>6.000000</td>\n",
       "      <td>6.000000</td>\n",
       "      <td>1.000000</td>\n",
       "      <td>604.000000</td>\n",
       "      <td>7.199000e+03</td>\n",
       "    </tr>\n",
       "    <tr>\n",
       "      <th>50%</th>\n",
       "      <td>4.365466e+06</td>\n",
       "      <td>20.000000</td>\n",
       "      <td>12.000000</td>\n",
       "      <td>2.000000</td>\n",
       "      <td>998.000000</td>\n",
       "      <td>2.281600e+04</td>\n",
       "    </tr>\n",
       "    <tr>\n",
       "      <th>75%</th>\n",
       "      <td>1.723770e+07</td>\n",
       "      <td>68.000000</td>\n",
       "      <td>16.000000</td>\n",
       "      <td>3.000000</td>\n",
       "      <td>1509.000000</td>\n",
       "      <td>7.333900e+04</td>\n",
       "    </tr>\n",
       "    <tr>\n",
       "      <th>max</th>\n",
       "      <td>6.943957e+10</td>\n",
       "      <td>89140.000000</td>\n",
       "      <td>32.000000</td>\n",
       "      <td>669.000000</td>\n",
       "      <td>2017.000000</td>\n",
       "      <td>3.044115e+07</td>\n",
       "    </tr>\n",
       "  </tbody>\n",
       "</table>\n",
       "</div>"
      ],
      "text/plain": [
       "       sls_vol_us_amt_new  EMP_count_new  acct_cntry_cd_endc  facility_count  \\\n",
       "count        2.484900e+04   24849.000000        24849.000000    24849.000000   \n",
       "mean         5.786783e+07     137.619944           11.648799        4.821120   \n",
       "std          8.683480e+08    1006.693017            6.743943       19.092625   \n",
       "min          3.000000e+00       1.000000            0.000000        1.000000   \n",
       "25%          9.850350e+05       6.000000            6.000000        1.000000   \n",
       "50%          4.365466e+06      20.000000           12.000000        2.000000   \n",
       "75%          1.723770e+07      68.000000           16.000000        3.000000   \n",
       "max          6.943957e+10   89140.000000           32.000000      669.000000   \n",
       "\n",
       "       prim_sic_cd_endc  max_Rev_L12RandP12R  \n",
       "count      24849.000000         2.484900e+04  \n",
       "mean        1032.868445         1.480888e+05  \n",
       "std          548.314018         7.032680e+05  \n",
       "min            0.000000         1.000000e+01  \n",
       "25%          604.000000         7.199000e+03  \n",
       "50%          998.000000         2.281600e+04  \n",
       "75%         1509.000000         7.333900e+04  \n",
       "max         2017.000000         3.044115e+07  "
      ]
     },
     "execution_count": 66,
     "metadata": {},
     "output_type": "execute_result"
    }
   ],
   "source": [
    "df_tr=df_train_semif1.astype(float)\n",
    "df_tr.describe()"
   ]
  },
  {
   "cell_type": "code",
   "execution_count": null,
   "id": "f24bd187",
   "metadata": {},
   "outputs": [],
   "source": []
  },
  {
   "cell_type": "markdown",
   "id": "ef445ed8",
   "metadata": {},
   "source": [
    "### One-hot dummy encoding"
   ]
  },
  {
   "cell_type": "code",
   "execution_count": 67,
   "id": "06e5d015",
   "metadata": {},
   "outputs": [],
   "source": [
    "# # creating instance of one-hot-encoder\n",
    "# enc = OneHotEncoder(handle_unknown='ignore')\n",
    "# enc_df_terr = pd.DataFrame(enc.fit_transform(df_train[['acct_cntry_cd']]).toarray())\n",
    "# display(enc_df_terr.head(3))\n",
    "# enc_df_terr.isnull().sum().sum()"
   ]
  },
  {
   "cell_type": "markdown",
   "id": "86caeea1",
   "metadata": {},
   "source": [
    "### New dataframe after one-hot dummy encoding"
   ]
  },
  {
   "cell_type": "code",
   "execution_count": 68,
   "id": "3b274e46",
   "metadata": {},
   "outputs": [],
   "source": [
    "# df_train_dumy_enc=df_tr[['sls_vol_us_amt_new','EMP_count_new','acct_cntry_cd_endc','facility_count','prim_sic_cd_endc'\n",
    "#                             ,'max_Rev_L12RandP12R']]\n",
    "# df_train_dumy_enc.reset_index(drop=True, inplace=True)\n",
    "# enc_df_terr.reset_index(drop=True, inplace=True)\n",
    "# # df_train_dumy_enc.isnull().sum().sum()\n",
    "# # display(df_train_dumy_enc)\n",
    "# df_tr_dum=pd.concat([df_train_dumy_enc,enc_df_terr], axis=1)\n",
    "# y=df_tr_dum['max_Rev_L12RandP12R']; #### y is the target variable\n",
    "# df_tr_drop=df_tr_dum.drop(columns=['acct_cntry_cd_endc','max_Rev_L12RandP12R'], axis=1)\n",
    "# df_tr_drop\n",
    "# # y"
   ]
  },
  {
   "cell_type": "code",
   "execution_count": 69,
   "id": "e35cf7e7",
   "metadata": {},
   "outputs": [],
   "source": [
    "# enc_df_cntry = pd.DataFrame(enc.fit_transform(df_train[['acct_cntry_cd']]).toarray())\n",
    "# enc_df_cntry.head(3)"
   ]
  },
  {
   "cell_type": "code",
   "execution_count": 70,
   "id": "f2b062ae",
   "metadata": {},
   "outputs": [],
   "source": [
    "# # df_train_final=df_train[['sls_vol_us_amt','EMP_count','facility_count','prim_sic_cd',\n",
    "# #                       'acct_cntry_cd','sale_terr_seg_nbr','L12_shp','max_Rev_L12RandP12R']]\n",
    "# df_train_semif=df_train[['sls_vol_us_amt','EMP_count',\n",
    "#                       'acct_cntry_cd','max_Rev_L12RandP12R']]\n",
    "# df_train_semif"
   ]
  },
  {
   "cell_type": "code",
   "execution_count": 71,
   "id": "dfe9c245",
   "metadata": {},
   "outputs": [],
   "source": [
    "# df_train_semif['sls_vol_us_amt_new']=df_train_semif['sls_vol_us_amt'].replace(0,df_train_semif['sls_vol_us_amt'].median())\n",
    "# df_train_semif['EMP_count_new']=df_train_semif['EMP_count'].replace(0,df_train_semif['EMP_count'].median())\n",
    "# df_train_semif"
   ]
  },
  {
   "cell_type": "code",
   "execution_count": 72,
   "id": "5cfebfc6",
   "metadata": {},
   "outputs": [],
   "source": [
    "# df_train_semif1=df_train_semif[['sls_vol_us_amt_new','EMP_count_new','acct_cntry_cd',\n",
    "#                                 'sale_terr_seg_nbr','max_Rev_L12RandP12R' ]]\n",
    "# df_train_semif1"
   ]
  },
  {
   "cell_type": "code",
   "execution_count": 73,
   "id": "640035c0",
   "metadata": {},
   "outputs": [],
   "source": [
    "# enc_df_terr = pd.DataFrame(enc.fit_transform(df_train_semif1[['sale_terr_seg_nbr']]).toarray())\n",
    "# enc_df_cntry = pd.DataFrame(enc.fit_transform(df_train_semif1[['acct_cntry_cd']]).toarray())\n",
    "# enc_df_cntry"
   ]
  },
  {
   "cell_type": "code",
   "execution_count": 74,
   "id": "ef5df02d",
   "metadata": {},
   "outputs": [],
   "source": [
    "# df_final=pd.concat([enc_df_cntry,enc_df_terr], axis=1)\n",
    "# # df_final=pd.concat([df_train_semif1,df_final],axis=1)\n",
    "# df_final"
   ]
  },
  {
   "cell_type": "code",
   "execution_count": 75,
   "id": "3611ed15",
   "metadata": {},
   "outputs": [],
   "source": [
    "# dfte=pd.merge(df_train_semif1,df_final, left_index=True, right_index=True)\n",
    "# dfte"
   ]
  },
  {
   "cell_type": "code",
   "execution_count": 76,
   "id": "bb13f9ff",
   "metadata": {},
   "outputs": [],
   "source": [
    "# import xgboost as xgb"
   ]
  },
  {
   "cell_type": "markdown",
   "id": "ed2b3b9a",
   "metadata": {},
   "source": [
    "### This is for dummy one-hot encoding"
   ]
  },
  {
   "cell_type": "code",
   "execution_count": 77,
   "id": "8986b701",
   "metadata": {},
   "outputs": [],
   "source": [
    "# X,y=df_tr_drop.astype(float),y"
   ]
  },
  {
   "cell_type": "markdown",
   "id": "b39b3996",
   "metadata": {},
   "source": [
    "### This is ordinal encoding"
   ]
  },
  {
   "cell_type": "code",
   "execution_count": 78,
   "id": "85d4b243",
   "metadata": {},
   "outputs": [],
   "source": [
    "X,y=df_tr.iloc[:,:-1].astype(float),df_tr.iloc[:,-1]"
   ]
  },
  {
   "cell_type": "code",
   "execution_count": 79,
   "id": "cccc70cf",
   "metadata": {},
   "outputs": [
    {
     "data": {
      "text/plain": [
       "(sls_vol_us_amt_new    float64\n",
       " EMP_count_new         float64\n",
       " acct_cntry_cd_endc    float64\n",
       " facility_count        float64\n",
       " prim_sic_cd_endc      float64\n",
       " dtype: object,\n",
       " dtype('float64'))"
      ]
     },
     "execution_count": 79,
     "metadata": {},
     "output_type": "execute_result"
    }
   ],
   "source": [
    "X.dtypes,y.dtypes"
   ]
  },
  {
   "cell_type": "code",
   "execution_count": 80,
   "id": "3e5e7b46",
   "metadata": {},
   "outputs": [],
   "source": [
    "# y=pd.DataFrame(y)\n",
    "# yy=scaler.fit_transform(y.values)\n",
    "# yy"
   ]
  },
  {
   "cell_type": "code",
   "execution_count": 81,
   "id": "3a0ef6f1",
   "metadata": {},
   "outputs": [
    {
     "data": {
      "text/plain": [
       "<Figure size 720x576 with 0 Axes>"
      ]
     },
     "metadata": {},
     "output_type": "display_data"
    },
    {
     "data": {
      "image/png": "[encoded data removed]",
      "text/plain": [
       "<Figure size 432x288 with 6 Axes>"
      ]
     },
     "metadata": {
      "needs_background": "light"
     },
     "output_type": "display_data"
    }
   ],
   "source": [
    "plt.figure(figsize=(10,8))\n",
    "hist = X.hist(bins=5)\n",
    "plt.show()"
   ]
  },
  {
   "cell_type": "markdown",
   "id": "253b0146",
   "metadata": {},
   "source": [
    "### Normalizing Preprocessing"
   ]
  },
  {
   "cell_type": "code",
   "execution_count": 82,
   "id": "ec340efa",
   "metadata": {},
   "outputs": [],
   "source": [
    "# ### Sandardization of data ###\n",
    "# from sklearn.preprocessing import StandardScaler\n",
    "# scaler = preprocessing.StandardScaler()\n",
    "# X=scaler.fit_transform(X)\n",
    "# # y=scaler.fit_transform(pd.DataFrame(y).values);### y normalize creates a problem for XGBoost"
   ]
  },
  {
   "cell_type": "code",
   "execution_count": 83,
   "id": "a7702ce3",
   "metadata": {},
   "outputs": [],
   "source": [
    "#### For checking the duistribution\n",
    "# X.shape[1]\n",
    "# for i in range(0, X.shape[1]):\n",
    "#     plt.hist(X[i])\n",
    "#     plt.show()"
   ]
  },
  {
   "cell_type": "markdown",
   "id": "18c40ef5",
   "metadata": {},
   "source": [
    "## XGBoost"
   ]
  },
  {
   "cell_type": "code",
   "execution_count": 84,
   "id": "d57b6d70",
   "metadata": {},
   "outputs": [],
   "source": [
    "xg_reg = xgb.XGBRegressor(objective ='reg:tweedie', colsample_bytree = 0.3, learning_rate = 0.1,\n",
    "                max_depth = 5, alpha = 10, n_estimators = 10)"
   ]
  },
  {
   "cell_type": "code",
   "execution_count": 85,
   "id": "41797928",
   "metadata": {},
   "outputs": [],
   "source": [
    "data_dmatrix = xgb.DMatrix(data=X,label=y)"
   ]
  },
  {
   "cell_type": "code",
   "execution_count": 86,
   "id": "d33798c7",
   "metadata": {},
   "outputs": [
    {
     "data": {
      "text/plain": [
       "['sls_vol_us_amt_new',\n",
       " 'EMP_count_new',\n",
       " 'acct_cntry_cd_endc',\n",
       " 'facility_count',\n",
       " 'prim_sic_cd_endc']"
      ]
     },
     "execution_count": 86,
     "metadata": {},
     "output_type": "execute_result"
    }
   ],
   "source": [
    "data_dmatrix.feature_names"
   ]
  },
  {
   "cell_type": "code",
   "execution_count": 87,
   "id": "118474df",
   "metadata": {},
   "outputs": [],
   "source": [
    "X_train, X_test, y_train, y_test = train_test_split(X, y, test_size=0.2, random_state=123)"
   ]
  },
  {
   "cell_type": "code",
   "execution_count": 88,
   "id": "82d1e56a",
   "metadata": {},
   "outputs": [],
   "source": [
    "# xg_reg = xgb.XGBRegressor(objective ='reg:linear', colsample_bytree = 0.3, learning_rate = 0.1,\n",
    "#                 max_depth = 5, alpha = 10, n_estimators = 10)"
   ]
  },
  {
   "cell_type": "code",
   "execution_count": 89,
   "id": "a3b1dbfe",
   "metadata": {},
   "outputs": [
    {
     "name": "stdout",
     "output_type": "stream",
     "text": [
      "RMSE: 670887.958290 r2scores: 0.142921\n"
     ]
    }
   ],
   "source": [
    "xg_reg = xgb.XGBRegressor(objective ='reg:tweedie', colsample_bytree = 0.3,subsample=0.8, learning_rate = 0.1,\n",
    "                max_depth = 5,booster='dart', alpha = 10, n_estimators = 100, random_state=13)\n",
    "xg_reg.fit(X_train,y_train)\n",
    "preds = xg_reg.predict(X_test)\n",
    "rmse = np.sqrt(mean_squared_error(y_test, preds))\n",
    "r2scores=r2_score(y_test, preds)\n",
    "print(\"RMSE: %f\" % (rmse), \"r2scores: %f\" % (r2scores))"
   ]
  },
  {
   "cell_type": "code",
   "execution_count": 90,
   "id": "29de91a9",
   "metadata": {},
   "outputs": [],
   "source": [
    "# rmse = np.sqrt(mean_squared_error(y_test, preds))\n",
    "# r2scores=r2_score(y_test, preds)\n",
    "# print(\"RMSE: %f\" % (rmse), \"r2scores: %f\" % (r2scores))"
   ]
  },
  {
   "cell_type": "code",
   "execution_count": 91,
   "id": "8288ddb8",
   "metadata": {},
   "outputs": [],
   "source": [
    "# X_test,y_test"
   ]
  },
  {
   "cell_type": "markdown",
   "id": "6f296861",
   "metadata": {},
   "source": [
    "## [Grid search approach](https://github.com/krishnaik06/Hyperparameter-Optimization/blob/master/Hyperparameter%20Optimization%20For%20Xgboost.ipynb) , [to see the $R^{2}$](https://stackoverflow.com/questions/51904422/how-can-i-use-r2-as-an-evaluation-metric-when-modeling)"
   ]
  },
  {
   "cell_type": "code",
   "execution_count": 92,
   "id": "2ef54556",
   "metadata": {},
   "outputs": [],
   "source": [
    "## Hyper Parameter Optimization\n",
    "params={\n",
    " \"learning_rate\"    : [0.05, 0.10, 0.15, 0.20, 0.25, 0.30 ] ,\n",
    " \"max_depth\"        : [ 3, 4, 5, 6, 8, 10, 12, 15],\n",
    " \"min_child_weight\" : [ 1, 3, 5, 7,8 ],\n",
    " \"gamma\"            : [ 0.0, 0.1, 0.2 , 0.3, 0.4, 0.5,0.6 ],\n",
    " \"colsample_bytree\" : [ 0.3, 0.4, 0.5 ,0.6, 0.7, 0.8 ],\n",
    "#     \"booster\" :['dart, gbtree'],\n",
    "'objective': ['reg:tweedie']\n",
    "    }"
   ]
  },
  {
   "cell_type": "code",
   "execution_count": 93,
   "id": "e4e74376",
   "metadata": {},
   "outputs": [],
   "source": [
    "####"
   ]
  },
  {
   "cell_type": "code",
   "execution_count": 94,
   "id": "58652cb2",
   "metadata": {},
   "outputs": [
    {
     "name": "stdout",
     "output_type": "stream",
     "text": [
      "Fitting 5 folds for each of 5 candidates, totalling 25 fits\n"
     ]
    },
    {
     "name": "stderr",
     "output_type": "stream",
     "text": [
      "C:\\Users\\4338577\\Anaconda3\\lib\\site-packages\\sklearn\\model_selection\\_search.py:918: UserWarning: One or more of the test scores are non-finite: [nan nan nan nan nan]\n",
      "  warnings.warn(\n"
     ]
    },
    {
     "name": "stdout",
     "output_type": "stream",
     "text": [
      "RMSE: 662941.557161 r2scores_val: 0.163104 r2scores_train: 0.366742\n"
     ]
    }
   ],
   "source": [
    "from sklearn.model_selection import RandomizedSearchCV, GridSearchCV\n",
    "### GridSearchCV\n",
    "# random_search=GridSearchCV(xg_reg,param_grid=params,\n",
    "#                                 scoring='roc_auc',n_jobs=-1,cv=10,verbose=3)\n",
    "#### RandomizedSearchCV\n",
    "random_search=RandomizedSearchCV(xg_reg,param_distributions=params,\n",
    "                                 n_iter=5,scoring='roc_auc',n_jobs=-1,cv=5,verbose=3, random_state=13)\n",
    "### Fit the model\n",
    "xgbreg=random_search.fit(X_train,y_train)\n",
    "pred=xgbreg.best_estimator_.predict(X_test)\n",
    "pred_tr=xgbreg.best_estimator_.predict(X_train)\n",
    "r2scores_train=r2_score(y_train,pred_tr)\n",
    "### Error calculation\n",
    "rmse = np.sqrt(mean_squared_error(y_test, pred))\n",
    "r2scores=r2_score(y_test, pred)\n",
    "print(\"RMSE: %f\" % (rmse), \"r2scores_val: %f\" % (r2scores), \"r2scores_train: %f\" %(r2scores_train))"
   ]
  },
  {
   "cell_type": "code",
   "execution_count": 95,
   "id": "e356c39a",
   "metadata": {},
   "outputs": [],
   "source": [
    "# xgbreg=random_search.fit(X_train,y_train)\n",
    "# pred=xgbreg.best_estimator_.predict(X_test)"
   ]
  },
  {
   "cell_type": "code",
   "execution_count": 96,
   "id": "0649542a",
   "metadata": {},
   "outputs": [
    {
     "data": {
      "text/plain": [
       "array([475818.62 ,  38365.414,  59891.1  , ...,  27865.445,  49419.33 ,\n",
       "        94012.17 ], dtype=float32)"
      ]
     },
     "execution_count": 96,
     "metadata": {},
     "output_type": "execute_result"
    }
   ],
   "source": [
    "pred"
   ]
  },
  {
   "cell_type": "code",
   "execution_count": 97,
   "id": "31c992f3",
   "metadata": {},
   "outputs": [],
   "source": [
    "# rmse = np.sqrt(mean_squared_error(y_test, pred))\n",
    "# r2scores=r2_score(y_test, pred)\n",
    "# print(\"RMSE: %f\" % (rmse), \"r2scores: %f\" % (r2scores))"
   ]
  },
  {
   "cell_type": "code",
   "execution_count": 98,
   "id": "0554897e",
   "metadata": {},
   "outputs": [],
   "source": [
    "# xgb.plot_importance(xg_reg)\n",
    "# plt.rcParams['figure.figsize'] = [8, 5]\n",
    "# plt.show()"
   ]
  },
  {
   "cell_type": "code",
   "execution_count": null,
   "id": "be0a7842",
   "metadata": {},
   "outputs": [],
   "source": []
  },
  {
   "cell_type": "code",
   "execution_count": 99,
   "id": "11d52068",
   "metadata": {},
   "outputs": [],
   "source": [
    "params = {\"objective\":\"reg:tweedie\",'colsample_bytree': 0.3,'learning_rate': 0.1,\n",
    "                'max_depth': 5, 'alpha': 10}\n",
    "cv_results = xgb.cv(dtrain=data_dmatrix, params=params, nfold=5,\n",
    "                    num_boost_round=50,early_stopping_rounds=10,metrics=\"rmse\", as_pandas=True, seed=123)"
   ]
  },
  {
   "cell_type": "code",
   "execution_count": 100,
   "id": "6bb79bb0",
   "metadata": {},
   "outputs": [],
   "source": [
    "# cv_results.head()"
   ]
  },
  {
   "cell_type": "code",
   "execution_count": 101,
   "id": "dfeaf908",
   "metadata": {},
   "outputs": [
    {
     "name": "stdout",
     "output_type": "stream",
     "text": [
      "49    702552.59375\n",
      "Name: test-rmse-mean, dtype: float64\n"
     ]
    }
   ],
   "source": [
    "print((cv_results[\"test-rmse-mean\"]).tail(1))"
   ]
  },
  {
   "cell_type": "code",
   "execution_count": 102,
   "id": "7a74a17c",
   "metadata": {},
   "outputs": [
    {
     "name": "stdout",
     "output_type": "stream",
     "text": [
      "<class 'pandas.core.frame.DataFrame'>\n",
      "RangeIndex: 50 entries, 0 to 49\n",
      "Data columns (total 4 columns):\n",
      " #   Column           Non-Null Count  Dtype  \n",
      "---  ------           --------------  -----  \n",
      " 0   train-rmse-mean  50 non-null     float64\n",
      " 1   train-rmse-std   50 non-null     float64\n",
      " 2   test-rmse-mean   50 non-null     float64\n",
      " 3   test-rmse-std    50 non-null     float64\n",
      "dtypes: float64(4)\n",
      "memory usage: 1.7 KB\n"
     ]
    }
   ],
   "source": [
    "# print((cv_results[\"test-rmse-mean\"]).tail(1))\n",
    "cv_results.info()"
   ]
  },
  {
   "cell_type": "code",
   "execution_count": 103,
   "id": "ef21dd9b",
   "metadata": {},
   "outputs": [],
   "source": [
    "xg_reg = xgb.train(params=params, dtrain=data_dmatrix, num_boost_round=10)"
   ]
  },
  {
   "cell_type": "code",
   "execution_count": 104,
   "id": "b7df6907",
   "metadata": {},
   "outputs": [
    {
     "data": {
      "image/png": "[encoded data removed]",
      "text/plain": [
       "<Figure size 432x288 with 1 Axes>"
      ]
     },
     "metadata": {
      "needs_background": "light"
     },
     "output_type": "display_data"
    }
   ],
   "source": [
    "xgb.plot_importance(xg_reg)\n",
    "plt.rcParams['figure.figsize'] = [8, 5]\n",
    "plt.show()"
   ]
  },
  {
   "cell_type": "code",
   "execution_count": 105,
   "id": "e954a803",
   "metadata": {},
   "outputs": [],
   "source": [
    "# xgb.plot_importance(xgbreg)\n",
    "# plt.rcParams['figure.figsize'] = [8, 5]\n",
    "# plt.show()"
   ]
  },
  {
   "cell_type": "markdown",
   "id": "b552c597",
   "metadata": {},
   "source": [
    "## Decision Tree"
   ]
  },
  {
   "cell_type": "code",
   "execution_count": 106,
   "id": "15fcaed9",
   "metadata": {},
   "outputs": [
    {
     "name": "stdout",
     "output_type": "stream",
     "text": [
      "-0.17675886257627285\n"
     ]
    }
   ],
   "source": [
    "from sklearn.ensemble import BaggingRegressor\n",
    "from sklearn.tree import DecisionTreeRegressor\n",
    "from sklearn import model_selection\n",
    "seed =13\n",
    "# kfold = model_selection.KFold(n_splits=10, random_state=seed)\n",
    "cart = DecisionTreeRegressor()\n",
    "num_trees =5\n",
    "model = BaggingRegressor(base_estimator=cart, n_estimators=num_trees, random_state=seed)\n",
    "results = model_selection.cross_val_score(model, X_train, y_train, cv=5)\n",
    "print(results.mean())"
   ]
  },
  {
   "cell_type": "code",
   "execution_count": null,
   "id": "18032fe6",
   "metadata": {},
   "outputs": [],
   "source": []
  },
  {
   "cell_type": "code",
   "execution_count": null,
   "id": "ef24a093",
   "metadata": {},
   "outputs": [],
   "source": []
  },
  {
   "cell_type": "markdown",
   "id": "7f2ef853",
   "metadata": {},
   "source": [
    "### Random Forest"
   ]
  },
  {
   "cell_type": "code",
   "execution_count": 107,
   "id": "0089a394",
   "metadata": {},
   "outputs": [
    {
     "data": {
      "text/plain": [
       "RandomForestRegressor(max_depth=2, n_estimators=20, random_state=0)"
      ]
     },
     "execution_count": 107,
     "metadata": {},
     "output_type": "execute_result"
    }
   ],
   "source": [
    "from sklearn.ensemble import RandomForestRegressor\n",
    "from sklearn.datasets import make_regression\n",
    "rf_regr = RandomForestRegressor(n_estimators=20,max_depth=2, random_state=0)\n",
    "rf_regr.fit(X_train,y_train)"
   ]
  },
  {
   "cell_type": "markdown",
   "id": "09b84370",
   "metadata": {},
   "source": [
    "### Decision Tree"
   ]
  },
  {
   "cell_type": "code",
   "execution_count": 108,
   "id": "2e0d5b6c",
   "metadata": {},
   "outputs": [],
   "source": [
    "# from sklearn.tree import DecisionTreeRegressor\n",
    "# # Build decision tree\n",
    "# tree=DecisionTreeRegressor(max_depth=3)\n",
    "# tree.fit(X_train,y_train)"
   ]
  },
  {
   "cell_type": "code",
   "execution_count": 109,
   "id": "cb75be58",
   "metadata": {},
   "outputs": [],
   "source": [
    "# import graphviz \n",
    "# from sklearn.tree import export_graphviz\n",
    "\n",
    "# dot_data = export_graphviz(tree, out_file=None) \n",
    "# graph = graphviz.Source(dot_data)"
   ]
  },
  {
   "cell_type": "code",
   "execution_count": null,
   "id": "2505e201",
   "metadata": {},
   "outputs": [],
   "source": []
  },
  {
   "cell_type": "markdown",
   "id": "ef414171",
   "metadata": {},
   "source": [
    "### Lasso Regression"
   ]
  },
  {
   "cell_type": "code",
   "execution_count": 110,
   "id": "de546424",
   "metadata": {},
   "outputs": [],
   "source": [
    "# from sklearn.model_selection import RepeatedKFold\n",
    "# from sklearn.linear_model import Lasso\n",
    "# # define model\n",
    "# model = Lasso()\n",
    "# # define model evaluation method\n",
    "# cv = RepeatedKFold(n_splits=10, n_repeats=3, random_state=1)\n",
    "# # define grid\n",
    "# grid = dict()\n",
    "# grid['alpha'] = np.arange(0, 1, 0.01)\n",
    "# # define search\n",
    "# search = GridSearchCV(model, grid, scoring='neg_mean_absolute_error', cv=cv, n_jobs=-1)\n",
    "# # perform the search\n",
    "# results = search.fit(X, y)\n",
    "# # summarize\n",
    "# print('MAE: %.3f' % results.best_score_)\n",
    "# print('Config: %s' % results.best_params_)"
   ]
  },
  {
   "cell_type": "markdown",
   "id": "f37c42ee",
   "metadata": {},
   "source": [
    "### SVR"
   ]
  },
  {
   "cell_type": "code",
   "execution_count": 111,
   "id": "4793154b",
   "metadata": {},
   "outputs": [
    {
     "name": "stdout",
     "output_type": "stream",
     "text": [
      "RMSE: 737176.346885 r2scores: -0.034817\n"
     ]
    }
   ],
   "source": [
    "## SVR regression \n",
    "from sklearn.svm import SVR\n",
    "reg_svr = SVR(kernel = 'rbf', C=10)\n",
    "reg_svr.fit(X_train, y_train)\n",
    "svr_pred=reg_svr.predict(X_test)\n",
    "## SVR regression Error\n",
    "rmse = np.sqrt(mean_squared_error(y_test, svr_pred))\n",
    "r2scores=r2_score(y_test, svr_pred)\n",
    "print(\"RMSE: %f\" % (rmse), \"r2scores: %f\" % (r2scores))"
   ]
  },
  {
   "cell_type": "code",
   "execution_count": 112,
   "id": "95e18ef6",
   "metadata": {},
   "outputs": [
    {
     "name": "stdout",
     "output_type": "stream",
     "text": [
      "RMSE: 737176.346885 r2scores: -0.034817\n"
     ]
    }
   ],
   "source": [
    "rmse = np.sqrt(mean_squared_error(y_test, svr_pred))\n",
    "r2scores=r2_score(y_test, svr_pred)\n",
    "print(\"RMSE: %f\" % (rmse), \"r2scores: %f\" % (r2scores))"
   ]
  },
  {
   "cell_type": "markdown",
   "id": "99db7292",
   "metadata": {},
   "source": [
    "### [Voting Ensemble](https://machinelearningmastery.com/ensemble-machine-learning-algorithms-python-scikit-learn/)"
   ]
  },
  {
   "cell_type": "code",
   "execution_count": 113,
   "id": "bfce201e",
   "metadata": {},
   "outputs": [
    {
     "name": "stdout",
     "output_type": "stream",
     "text": [
      "RMSE: 681469.361218 r2scores: 0.115672\n"
     ]
    }
   ],
   "source": [
    "from sklearn.ensemble import VotingRegressor\n",
    "estimators = []\n",
    "model_svr = SVR(kernel = 'rbf', C=10)\n",
    "estimators.append(('svr', model_svr))\n",
    "model_rf_regr = RandomForestRegressor(n_estimators=20,max_depth=2, random_state=0)\n",
    "estimators.append(('rf_reg', model_rf_regr))\n",
    "model_xg_reg = xgb.XGBRegressor(objective ='reg:tweedie', colsample_bytree = 0.3,subsample=0.8, learning_rate = 0.1,\n",
    "                max_depth = 5,booster='dart', alpha = 10, n_estimators = 100, random_state=13)\n",
    "estimators.append(('xg_reg', model_xg_reg))\n",
    "estimators\n",
    "# create the ensemble model\n",
    "ensemble = VotingRegressor(estimators)\n",
    "ensemble.fit(X_train, y_train)\n",
    "# ens_results = model_selection.cross_val_score(ensemble,X_train, y_train, cv=5)\n",
    "# print(ens_results.mean())\n",
    "## Ensmble prediction\n",
    "ens_pred=ensemble.predict(X_test)\n",
    "## Ensmble regression Error\n",
    "rmse_ens = np.sqrt(mean_squared_error(y_test, ens_pred))\n",
    "r2scores=r2_score(y_test, ens_pred)\n",
    "print(\"RMSE: %f\" % (rmse_ens), \"r2scores: %f\" % (r2scores))"
   ]
  },
  {
   "cell_type": "code",
   "execution_count": 114,
   "id": "4cdf44fe",
   "metadata": {},
   "outputs": [],
   "source": [
    "# ens_pred"
   ]
  },
  {
   "cell_type": "code",
   "execution_count": 115,
   "id": "9a93a3f1",
   "metadata": {},
   "outputs": [
    {
     "name": "stdout",
     "output_type": "stream",
     "text": [
      "RMSE: 681469.361218 r2scores: 0.115672\n"
     ]
    }
   ],
   "source": [
    "rmse_ens = np.sqrt(mean_squared_error(y_test, ens_pred))\n",
    "r2scores=r2_score(y_test, ens_pred)\n",
    "print(\"RMSE: %f\" % (rmse_ens), \"r2scores: %f\" % (r2scores))"
   ]
  },
  {
   "cell_type": "code",
   "execution_count": null,
   "id": "6e062735",
   "metadata": {},
   "outputs": [],
   "source": []
  },
  {
   "cell_type": "markdown",
   "id": "c306b8b0",
   "metadata": {},
   "source": [
    "## Artifical Neural network"
   ]
  },
  {
   "cell_type": "code",
   "execution_count": 116,
   "id": "50db2807",
   "metadata": {},
   "outputs": [
    {
     "name": "stdout",
     "output_type": "stream",
     "text": [
      "X_train: (19879, 5) y_train: (19879,)\n"
     ]
    }
   ],
   "source": [
    "# X,y=df_tr.iloc[:,:-1].astype(float),df_tr.iloc[:,-1].astype(float)\n",
    "# X_train, X_test, y_train, y_test = train_test_split(X, y.values, test_size=0.2, random_state=123)\n",
    "X_train, X_test, y_train, y_test = train_test_split(X, y.values, test_size=0.2, random_state=123)\n",
    "print(\"X_train:\",X_train.shape, \"y_train:\", y_train.shape)"
   ]
  },
  {
   "cell_type": "code",
   "execution_count": 117,
   "id": "0c428668",
   "metadata": {},
   "outputs": [
    {
     "name": "stdout",
     "output_type": "stream",
     "text": [
      "1 Parameters: batch_size: 100 - epochs: 5 - R^2: -0.04570571639945853\n",
      "2 Parameters: batch_size: 100 - epochs: 10 - R^2: -0.042601583610978544\n",
      "3 Parameters: batch_size: 100 - epochs: 50 - R^2: -0.042580334663807395\n",
      "4 Parameters: batch_size: 100 - epochs: 100 - R^2: -0.042475627255847304\n",
      "5 Parameters: batch_size: 500 - epochs: 5 - R^2: -0.048936558887304304\n",
      "6 Parameters: batch_size: 500 - epochs: 10 - R^2: -0.04250066616535397\n",
      "7 Parameters: batch_size: 500 - epochs: 50 - R^2: -0.04261637662122797\n",
      "8 Parameters: batch_size: 500 - epochs: 100 - R^2: -0.04245737644233594\n",
      "9 Parameters: batch_size: 1000 - epochs: 5 - R^2: -0.04589223477805615\n",
      "10 Parameters: batch_size: 1000 - epochs: 10 - R^2: -0.04293023043375266\n",
      "11 Parameters: batch_size: 1000 - epochs: 50 - R^2: -0.042544741764270144\n",
      "12 Parameters: batch_size: 1000 - epochs: 100 - R^2: -0.04248651659938041\n"
     ]
    },
    {
     "data": {
      "text/plain": [
       "<AxesSubplot:xlabel='Parameters'>"
      ]
     },
     "execution_count": 117,
     "metadata": {},
     "output_type": "execute_result"
    },
    {
     "data": {
      "image/png": "[encoded data removed]",
      "text/plain": [
       "<Figure size 1080x288 with 1 Axes>"
      ]
     },
     "metadata": {
      "needs_background": "light"
     },
     "output_type": "display_data"
    }
   ],
   "source": [
    "# Defining a function to find the best parameters for ANN\n",
    "from numpy.random import seed\n",
    "seed(1)\n",
    "# from tensorflow import set_random_seed\n",
    "# set_random_seed(2)\n",
    "def FunctionFindBestParams(X_train, y_train, X_test, y_test):   \n",
    "    # Defining the list of hyper parameters to try\n",
    "    batch_size_list=[100, 500, 1000]\n",
    "    epoch_list  =   [5, 10, 50, 100]\n",
    "#     batch_size_list=[2000,2500]\n",
    "#     epoch_list  =   [5, 10]\n",
    "    SearchResultsData=pd.DataFrame(columns=['TrialNumber', 'Parameters', 'Accuracy'])\n",
    "    \n",
    "    # initializing the trials\n",
    "    TrialNumber=0\n",
    "    for batch_size_trial in batch_size_list:\n",
    "        for epochs_trial in epoch_list:\n",
    "            TrialNumber+=1\n",
    "            # create ANN model\n",
    "            model = Sequential()\n",
    "            # Defining the first layer of the model\n",
    "            model.add(Dense(units=5, input_dim=X_train.shape[1], kernel_initializer='normal', activation='relu'))\n",
    " \n",
    "            # Defining the Second layer of the model\n",
    "            model.add(Dense(units=5, kernel_initializer='normal', activation='relu'))\n",
    " \n",
    "            # The output neuron is a single fully connected node \n",
    "            # Since we will be predicting a single number\n",
    "            model.add(Dense(1, kernel_initializer='normal'))\n",
    " \n",
    "            # Compiling the model\n",
    "            model.compile(loss='mean_squared_error', optimizer='adam')\n",
    " \n",
    "            # Fitting the ANN to the Training set\n",
    "            model.fit(X_train, y_train ,batch_size = batch_size_trial, epochs = epochs_trial, verbose=0)\n",
    " \n",
    "            MAPE = np.mean(100 * (np.abs(y_test-model.predict(X_test))/y_test))\n",
    "            r2scores=r2_score(y_test, model.predict(X_test))\n",
    "            # printing the results of the current iteration\n",
    "#             print(TrialNumber, 'Parameters:','batch_size:', batch_size_trial,'-', 'epochs:',epochs_trial, 'Accuracy:', 100-MAPE,'-',\"R^2:\",r2scores)\n",
    "            print(TrialNumber, 'Parameters:','batch_size:', batch_size_trial,'-', 'epochs:',epochs_trial, '-',\"R^2:\",r2scores)\n",
    "            \n",
    "            SearchResultsData=SearchResultsData.append(pd.DataFrame(data=[[TrialNumber, str(batch_size_trial)+'-'+str(epochs_trial), 100-MAPE,r2scores]],\n",
    "                                                                    columns=['TrialNumber', 'Parameters', 'Accuracy', 'R2'] ))\n",
    "    return(SearchResultsData)\n",
    "# Calling the function\n",
    "ResultsData=FunctionFindBestParams(X_train, y_train, X_test, y_test)\n",
    "#### Plotuing \n",
    "%matplotlib inline\n",
    "ResultsData.plot(x='Parameters', y='R2', figsize=(15,4), kind='line')"
   ]
  },
  {
   "cell_type": "markdown",
   "id": "96094372",
   "metadata": {},
   "source": [
    "### ANN performance "
   ]
  },
  {
   "cell_type": "code",
   "execution_count": 118,
   "id": "8f9f60cc",
   "metadata": {},
   "outputs": [],
   "source": [
    "# ResultsData.plot(x='Parameters', y='Accuracy', figsize=(15,4), kind='line')"
   ]
  },
  {
   "cell_type": "code",
   "execution_count": 119,
   "id": "7160ef6c",
   "metadata": {},
   "outputs": [],
   "source": [
    "# ### # create ANN model\n",
    "# model = Sequential()\n",
    " \n",
    "# # Defining the Input layer and FIRST hidden layer, both are same!\n",
    "# model.add(Dense(units=5, input_dim=X_train.shape[1], kernel_initializer='normal', activation='relu'))\n",
    " \n",
    "# # Defining the Second layer of the model\n",
    "# # after the first layer we don't have to specify input_dim as keras configure it automatically\n",
    "# model.add(Dense(units=5, kernel_initializer='normal', activation='tanh'))\n",
    " \n",
    "# # The output neuron is a single fully connected node \n",
    "# # Since we will be predicting a single number\n",
    "# model.add(Dense(1, kernel_initializer='normal'))\n",
    " \n",
    "# # Compiling the model\n",
    "# model.compile(loss='mean_squared_error', optimizer='adam', metrics=['accuracy'])\n",
    " \n",
    "# # Fitting the ANN to the Training set\n",
    "# # history=model.fit(X_train, y_train ,batch_size = 100, epochs = 100, verbose=0)\n",
    "# history=model.fit(X_train, y_train ,batch_size = 100, epochs = 100,validation_data=(X_test, y_test), shuffle=True, verbose=0)\n",
    "# plt.plot(history.history['loss'])\n",
    "# plt.plot(history.history['val_loss'])\n",
    "# plt.title('model loss')\n",
    "# plt.ylabel('accuracy')\n",
    "# plt.xlabel('epoch')\n",
    "# plt.legend(['train', 'val'], loc='upper left')\n",
    "# ### Accuracy\n",
    "# plt.plot(history.history['accuracy'])\n",
    "# plt.plot(history.history['val_accuracy'])\n",
    "# plt.title('model accuracy')\n",
    "# plt.ylabel('accuracy')\n",
    "# plt.xlabel('epoch')\n",
    "# plt.legend(['train', 'val'], loc='upper left')\n",
    "# plt.show()"
   ]
  },
  {
   "cell_type": "code",
   "execution_count": 120,
   "id": "b844569f",
   "metadata": {},
   "outputs": [],
   "source": [
    "# history.history['val_loss']"
   ]
  },
  {
   "cell_type": "code",
   "execution_count": 121,
   "id": "fbd2c9a7",
   "metadata": {},
   "outputs": [],
   "source": [
    "# print(history.history.keys())"
   ]
  },
  {
   "cell_type": "markdown",
   "id": "ec7e2ed6",
   "metadata": {},
   "source": [
    "### Testing_Dataset"
   ]
  },
  {
   "cell_type": "code",
   "execution_count": 122,
   "id": "c4563d0c",
   "metadata": {},
   "outputs": [
    {
     "name": "stdout",
     "output_type": "stream",
     "text": [
      "(642884, 20)\n"
     ]
    },
    {
     "data": {
      "text/html": [
       "<div>\n",
       "<style scoped>\n",
       "    .dataframe tbody tr th:only-of-type {\n",
       "        vertical-align: middle;\n",
       "    }\n",
       "\n",
       "    .dataframe tbody tr th {\n",
       "        vertical-align: top;\n",
       "    }\n",
       "\n",
       "    .dataframe thead th {\n",
       "        text-align: right;\n",
       "    }\n",
       "</style>\n",
       "<table border=\"1\" class=\"dataframe\">\n",
       "  <thead>\n",
       "    <tr style=\"text-align: right;\">\n",
       "      <th></th>\n",
       "      <th>globl_enti_nbr</th>\n",
       "      <th>cntry_enti_nbr</th>\n",
       "      <th>fac_enti_nbr</th>\n",
       "      <th>facility_count</th>\n",
       "      <th>acct_cntry_cd</th>\n",
       "      <th>sale_terr_cd</th>\n",
       "      <th>sale_terr_seg_nbr</th>\n",
       "      <th>duns_nbr</th>\n",
       "      <th>EMP_count</th>\n",
       "      <th>sls_vol_us_amt</th>\n",
       "      <th>prim_sic_cd</th>\n",
       "      <th>cust_nm</th>\n",
       "      <th>cntry_hdqtr_flg</th>\n",
       "      <th>L12_REV</th>\n",
       "      <th>P12_REV</th>\n",
       "      <th>L12_shp</th>\n",
       "      <th>P12_shp</th>\n",
       "      <th>L12_REV_zero</th>\n",
       "      <th>P12_REV_zero</th>\n",
       "      <th>max_Rev_L12RandP12R</th>\n",
       "    </tr>\n",
       "  </thead>\n",
       "  <tbody>\n",
       "    <tr>\n",
       "      <th>1</th>\n",
       "      <td>1000014718</td>\n",
       "      <td>1000014719</td>\n",
       "      <td>1000014720</td>\n",
       "      <td>1</td>\n",
       "      <td>FR</td>\n",
       "      <td>8-9-42-21-4-1-15</td>\n",
       "      <td>4</td>\n",
       "      <td>502760580</td>\n",
       "      <td>60</td>\n",
       "      <td>7223090</td>\n",
       "      <td>70110000</td>\n",
       "      <td>LA BASTIDE DE GORDES</td>\n",
       "      <td>Y</td>\n",
       "      <td>NaN</td>\n",
       "      <td>NaN</td>\n",
       "      <td>0.0</td>\n",
       "      <td>0.0</td>\n",
       "      <td>0.0</td>\n",
       "      <td>0.0</td>\n",
       "      <td>0.0</td>\n",
       "    </tr>\n",
       "    <tr>\n",
       "      <th>2</th>\n",
       "      <td>1000014937</td>\n",
       "      <td>1000014938</td>\n",
       "      <td>1000014939</td>\n",
       "      <td>1</td>\n",
       "      <td>DE</td>\n",
       "      <td>8-9-45-99-99-6-5</td>\n",
       "      <td>6</td>\n",
       "      <td>313610280</td>\n",
       "      <td>2</td>\n",
       "      <td>45109</td>\n",
       "      <td>51370500</td>\n",
       "      <td>DRACHE HANDELS UG</td>\n",
       "      <td>Y</td>\n",
       "      <td>NaN</td>\n",
       "      <td>NaN</td>\n",
       "      <td>0.0</td>\n",
       "      <td>0.0</td>\n",
       "      <td>0.0</td>\n",
       "      <td>0.0</td>\n",
       "      <td>0.0</td>\n",
       "    </tr>\n",
       "    <tr>\n",
       "      <th>3</th>\n",
       "      <td>1000014989</td>\n",
       "      <td>1000014990</td>\n",
       "      <td>1000014991</td>\n",
       "      <td>1</td>\n",
       "      <td>FR</td>\n",
       "      <td>8-9-45-99-99-50-14</td>\n",
       "      <td>6</td>\n",
       "      <td>266221635</td>\n",
       "      <td>1</td>\n",
       "      <td>33192</td>\n",
       "      <td>59610000</td>\n",
       "      <td>SALVADOR, EMMANUEL</td>\n",
       "      <td>Y</td>\n",
       "      <td>NaN</td>\n",
       "      <td>NaN</td>\n",
       "      <td>0.0</td>\n",
       "      <td>0.0</td>\n",
       "      <td>0.0</td>\n",
       "      <td>0.0</td>\n",
       "      <td>0.0</td>\n",
       "    </tr>\n",
       "    <tr>\n",
       "      <th>4</th>\n",
       "      <td>1000014998</td>\n",
       "      <td>1000014999</td>\n",
       "      <td>1000015000</td>\n",
       "      <td>1</td>\n",
       "      <td>FR</td>\n",
       "      <td>8-9-45-99-99-50-14</td>\n",
       "      <td>6</td>\n",
       "      <td>270947788</td>\n",
       "      <td>1</td>\n",
       "      <td>35479</td>\n",
       "      <td>59990000</td>\n",
       "      <td>LES VAPOTERIES</td>\n",
       "      <td>Y</td>\n",
       "      <td>NaN</td>\n",
       "      <td>NaN</td>\n",
       "      <td>0.0</td>\n",
       "      <td>0.0</td>\n",
       "      <td>0.0</td>\n",
       "      <td>0.0</td>\n",
       "      <td>0.0</td>\n",
       "    </tr>\n",
       "    <tr>\n",
       "      <th>5</th>\n",
       "      <td>1000015007</td>\n",
       "      <td>1000015008</td>\n",
       "      <td>1000015009</td>\n",
       "      <td>1</td>\n",
       "      <td>DE</td>\n",
       "      <td>8-9-45-99-99-5-5</td>\n",
       "      <td>5</td>\n",
       "      <td>341847372</td>\n",
       "      <td>3</td>\n",
       "      <td>579000</td>\n",
       "      <td>50630402</td>\n",
       "      <td>BELUXX GMBH</td>\n",
       "      <td>Y</td>\n",
       "      <td>NaN</td>\n",
       "      <td>NaN</td>\n",
       "      <td>0.0</td>\n",
       "      <td>0.0</td>\n",
       "      <td>0.0</td>\n",
       "      <td>0.0</td>\n",
       "      <td>0.0</td>\n",
       "    </tr>\n",
       "  </tbody>\n",
       "</table>\n",
       "</div>"
      ],
      "text/plain": [
       "   globl_enti_nbr  cntry_enti_nbr  fac_enti_nbr  facility_count acct_cntry_cd  \\\n",
       "1      1000014718      1000014719    1000014720               1            FR   \n",
       "2      1000014937      1000014938    1000014939               1            DE   \n",
       "3      1000014989      1000014990    1000014991               1            FR   \n",
       "4      1000014998      1000014999    1000015000               1            FR   \n",
       "5      1000015007      1000015008    1000015009               1            DE   \n",
       "\n",
       "         sale_terr_cd  sale_terr_seg_nbr   duns_nbr EMP_count sls_vol_us_amt  \\\n",
       "1    8-9-42-21-4-1-15                  4  502760580        60        7223090   \n",
       "2    8-9-45-99-99-6-5                  6  313610280         2          45109   \n",
       "3  8-9-45-99-99-50-14                  6  266221635         1          33192   \n",
       "4  8-9-45-99-99-50-14                  6  270947788         1          35479   \n",
       "5    8-9-45-99-99-5-5                  5  341847372         3         579000   \n",
       "\n",
       "  prim_sic_cd               cust_nm cntry_hdqtr_flg  L12_REV  P12_REV  \\\n",
       "1    70110000  LA BASTIDE DE GORDES               Y      NaN      NaN   \n",
       "2    51370500     DRACHE HANDELS UG               Y      NaN      NaN   \n",
       "3    59610000    SALVADOR, EMMANUEL               Y      NaN      NaN   \n",
       "4    59990000        LES VAPOTERIES               Y      NaN      NaN   \n",
       "5    50630402           BELUXX GMBH               Y      NaN      NaN   \n",
       "\n",
       "   L12_shp  P12_shp  L12_REV_zero  P12_REV_zero  max_Rev_L12RandP12R  \n",
       "1      0.0      0.0           0.0           0.0                  0.0  \n",
       "2      0.0      0.0           0.0           0.0                  0.0  \n",
       "3      0.0      0.0           0.0           0.0                  0.0  \n",
       "4      0.0      0.0           0.0           0.0                  0.0  \n",
       "5      0.0      0.0           0.0           0.0                  0.0  "
      ]
     },
     "execution_count": 122,
     "metadata": {},
     "output_type": "execute_result"
    }
   ],
   "source": [
    "df_l12_zero_mr=dfeu.loc[(dfeu['L12_shp']==0) & (dfeu['max_Rev_L12RandP12R']==0) ]\n",
    "print(df_l12_zero_mr.shape)\n",
    "df_l12_zero_mr.head(5)"
   ]
  },
  {
   "cell_type": "code",
   "execution_count": 123,
   "id": "a4038a3a",
   "metadata": {},
   "outputs": [
    {
     "name": "stderr",
     "output_type": "stream",
     "text": [
      "C:\\Users\\4338577\\Anaconda3\\lib\\site-packages\\pandas\\core\\frame.py:3191: SettingWithCopyWarning: \n",
      "A value is trying to be set on a copy of a slice from a DataFrame.\n",
      "Try using .loc[row_indexer,col_indexer] = value instead\n",
      "\n",
      "See the caveats in the documentation: https://pandas.pydata.org/pandas-docs/stable/user_guide/indexing.html#returning-a-view-versus-a-copy\n",
      "  self[k1] = value[k2]\n"
     ]
    },
    {
     "data": {
      "text/html": [
       "<div>\n",
       "<style scoped>\n",
       "    .dataframe tbody tr th:only-of-type {\n",
       "        vertical-align: middle;\n",
       "    }\n",
       "\n",
       "    .dataframe tbody tr th {\n",
       "        vertical-align: top;\n",
       "    }\n",
       "\n",
       "    .dataframe thead th {\n",
       "        text-align: right;\n",
       "    }\n",
       "</style>\n",
       "<table border=\"1\" class=\"dataframe\">\n",
       "  <thead>\n",
       "    <tr style=\"text-align: right;\">\n",
       "      <th></th>\n",
       "      <th>globl_enti_nbr</th>\n",
       "      <th>cntry_enti_nbr</th>\n",
       "      <th>fac_enti_nbr</th>\n",
       "      <th>facility_count</th>\n",
       "      <th>acct_cntry_cd</th>\n",
       "      <th>sale_terr_cd</th>\n",
       "      <th>sale_terr_seg_nbr</th>\n",
       "      <th>duns_nbr</th>\n",
       "      <th>EMP_count</th>\n",
       "      <th>sls_vol_us_amt</th>\n",
       "      <th>prim_sic_cd</th>\n",
       "      <th>cust_nm</th>\n",
       "      <th>cntry_hdqtr_flg</th>\n",
       "      <th>L12_REV</th>\n",
       "      <th>P12_REV</th>\n",
       "      <th>L12_shp</th>\n",
       "      <th>P12_shp</th>\n",
       "      <th>L12_REV_zero</th>\n",
       "      <th>P12_REV_zero</th>\n",
       "      <th>max_Rev_L12RandP12R</th>\n",
       "    </tr>\n",
       "  </thead>\n",
       "  <tbody>\n",
       "    <tr>\n",
       "      <th>1</th>\n",
       "      <td>1000014718</td>\n",
       "      <td>1000014719</td>\n",
       "      <td>1000014720</td>\n",
       "      <td>1</td>\n",
       "      <td>FR</td>\n",
       "      <td>8-9-42-21-4-1-15</td>\n",
       "      <td>4</td>\n",
       "      <td>502760580</td>\n",
       "      <td>60.0</td>\n",
       "      <td>7223090.0</td>\n",
       "      <td>70110000</td>\n",
       "      <td>LA BASTIDE DE GORDES</td>\n",
       "      <td>Y</td>\n",
       "      <td>NaN</td>\n",
       "      <td>NaN</td>\n",
       "      <td>0.0</td>\n",
       "      <td>0.0</td>\n",
       "      <td>0.0</td>\n",
       "      <td>0.0</td>\n",
       "      <td>0.0</td>\n",
       "    </tr>\n",
       "    <tr>\n",
       "      <th>2</th>\n",
       "      <td>1000014937</td>\n",
       "      <td>1000014938</td>\n",
       "      <td>1000014939</td>\n",
       "      <td>1</td>\n",
       "      <td>DE</td>\n",
       "      <td>8-9-45-99-99-6-5</td>\n",
       "      <td>6</td>\n",
       "      <td>313610280</td>\n",
       "      <td>2.0</td>\n",
       "      <td>45109.0</td>\n",
       "      <td>51370500</td>\n",
       "      <td>DRACHE HANDELS UG</td>\n",
       "      <td>Y</td>\n",
       "      <td>NaN</td>\n",
       "      <td>NaN</td>\n",
       "      <td>0.0</td>\n",
       "      <td>0.0</td>\n",
       "      <td>0.0</td>\n",
       "      <td>0.0</td>\n",
       "      <td>0.0</td>\n",
       "    </tr>\n",
       "    <tr>\n",
       "      <th>3</th>\n",
       "      <td>1000014989</td>\n",
       "      <td>1000014990</td>\n",
       "      <td>1000014991</td>\n",
       "      <td>1</td>\n",
       "      <td>FR</td>\n",
       "      <td>8-9-45-99-99-50-14</td>\n",
       "      <td>6</td>\n",
       "      <td>266221635</td>\n",
       "      <td>1.0</td>\n",
       "      <td>33192.0</td>\n",
       "      <td>59610000</td>\n",
       "      <td>SALVADOR, EMMANUEL</td>\n",
       "      <td>Y</td>\n",
       "      <td>NaN</td>\n",
       "      <td>NaN</td>\n",
       "      <td>0.0</td>\n",
       "      <td>0.0</td>\n",
       "      <td>0.0</td>\n",
       "      <td>0.0</td>\n",
       "      <td>0.0</td>\n",
       "    </tr>\n",
       "    <tr>\n",
       "      <th>4</th>\n",
       "      <td>1000014998</td>\n",
       "      <td>1000014999</td>\n",
       "      <td>1000015000</td>\n",
       "      <td>1</td>\n",
       "      <td>FR</td>\n",
       "      <td>8-9-45-99-99-50-14</td>\n",
       "      <td>6</td>\n",
       "      <td>270947788</td>\n",
       "      <td>1.0</td>\n",
       "      <td>35479.0</td>\n",
       "      <td>59990000</td>\n",
       "      <td>LES VAPOTERIES</td>\n",
       "      <td>Y</td>\n",
       "      <td>NaN</td>\n",
       "      <td>NaN</td>\n",
       "      <td>0.0</td>\n",
       "      <td>0.0</td>\n",
       "      <td>0.0</td>\n",
       "      <td>0.0</td>\n",
       "      <td>0.0</td>\n",
       "    </tr>\n",
       "    <tr>\n",
       "      <th>5</th>\n",
       "      <td>1000015007</td>\n",
       "      <td>1000015008</td>\n",
       "      <td>1000015009</td>\n",
       "      <td>1</td>\n",
       "      <td>DE</td>\n",
       "      <td>8-9-45-99-99-5-5</td>\n",
       "      <td>5</td>\n",
       "      <td>341847372</td>\n",
       "      <td>3.0</td>\n",
       "      <td>579000.0</td>\n",
       "      <td>50630402</td>\n",
       "      <td>BELUXX GMBH</td>\n",
       "      <td>Y</td>\n",
       "      <td>NaN</td>\n",
       "      <td>NaN</td>\n",
       "      <td>0.0</td>\n",
       "      <td>0.0</td>\n",
       "      <td>0.0</td>\n",
       "      <td>0.0</td>\n",
       "      <td>0.0</td>\n",
       "    </tr>\n",
       "    <tr>\n",
       "      <th>...</th>\n",
       "      <td>...</td>\n",
       "      <td>...</td>\n",
       "      <td>...</td>\n",
       "      <td>...</td>\n",
       "      <td>...</td>\n",
       "      <td>...</td>\n",
       "      <td>...</td>\n",
       "      <td>...</td>\n",
       "      <td>...</td>\n",
       "      <td>...</td>\n",
       "      <td>...</td>\n",
       "      <td>...</td>\n",
       "      <td>...</td>\n",
       "      <td>...</td>\n",
       "      <td>...</td>\n",
       "      <td>...</td>\n",
       "      <td>...</td>\n",
       "      <td>...</td>\n",
       "      <td>...</td>\n",
       "      <td>...</td>\n",
       "    </tr>\n",
       "    <tr>\n",
       "      <th>1048568</th>\n",
       "      <td>916233964</td>\n",
       "      <td>916233965</td>\n",
       "      <td>928426373</td>\n",
       "      <td>2</td>\n",
       "      <td>FR</td>\n",
       "      <td>8-9-45-99-99-50-14</td>\n",
       "      <td>6</td>\n",
       "      <td>767179559</td>\n",
       "      <td>3.0</td>\n",
       "      <td>1174462.0</td>\n",
       "      <td>20410000</td>\n",
       "      <td>MOULIN D'HEUCHELOUP</td>\n",
       "      <td>Y</td>\n",
       "      <td>NaN</td>\n",
       "      <td>NaN</td>\n",
       "      <td>0.0</td>\n",
       "      <td>0.0</td>\n",
       "      <td>0.0</td>\n",
       "      <td>0.0</td>\n",
       "      <td>0.0</td>\n",
       "    </tr>\n",
       "    <tr>\n",
       "      <th>1048569</th>\n",
       "      <td>916234111</td>\n",
       "      <td>916234112</td>\n",
       "      <td>916234113</td>\n",
       "      <td>1</td>\n",
       "      <td>FR</td>\n",
       "      <td>8-9-45-99-99-50-14</td>\n",
       "      <td>6</td>\n",
       "      <td>263683556</td>\n",
       "      <td>14.0</td>\n",
       "      <td>4063517.0</td>\n",
       "      <td>87110000</td>\n",
       "      <td>BM ENGINEERING</td>\n",
       "      <td>Y</td>\n",
       "      <td>NaN</td>\n",
       "      <td>NaN</td>\n",
       "      <td>0.0</td>\n",
       "      <td>0.0</td>\n",
       "      <td>0.0</td>\n",
       "      <td>0.0</td>\n",
       "      <td>0.0</td>\n",
       "    </tr>\n",
       "    <tr>\n",
       "      <th>1048571</th>\n",
       "      <td>916234151</td>\n",
       "      <td>916234152</td>\n",
       "      <td>916234153</td>\n",
       "      <td>1</td>\n",
       "      <td>NL</td>\n",
       "      <td>8-9-45-99-99-6-18</td>\n",
       "      <td>6</td>\n",
       "      <td>489748654</td>\n",
       "      <td>1.0</td>\n",
       "      <td>70847.0</td>\n",
       "      <td>87420500</td>\n",
       "      <td>BMK INKOOP EN SUPPLY CHAIN</td>\n",
       "      <td>Y</td>\n",
       "      <td>NaN</td>\n",
       "      <td>NaN</td>\n",
       "      <td>0.0</td>\n",
       "      <td>0.0</td>\n",
       "      <td>0.0</td>\n",
       "      <td>0.0</td>\n",
       "      <td>0.0</td>\n",
       "    </tr>\n",
       "    <tr>\n",
       "      <th>1048572</th>\n",
       "      <td>916234154</td>\n",
       "      <td>916234155</td>\n",
       "      <td>916234156</td>\n",
       "      <td>1</td>\n",
       "      <td>IT</td>\n",
       "      <td>8-9-45-99-99-6-71</td>\n",
       "      <td>6</td>\n",
       "      <td>441727854</td>\n",
       "      <td>1.0</td>\n",
       "      <td>66000.0</td>\n",
       "      <td>87429900</td>\n",
       "      <td>CARLO, IZZO</td>\n",
       "      <td>Y</td>\n",
       "      <td>NaN</td>\n",
       "      <td>NaN</td>\n",
       "      <td>0.0</td>\n",
       "      <td>0.0</td>\n",
       "      <td>0.0</td>\n",
       "      <td>0.0</td>\n",
       "      <td>0.0</td>\n",
       "    </tr>\n",
       "    <tr>\n",
       "      <th>1048574</th>\n",
       "      <td>916234169</td>\n",
       "      <td>916234170</td>\n",
       "      <td>1134779140</td>\n",
       "      <td>1</td>\n",
       "      <td>NL</td>\n",
       "      <td>8-9-45-99-99-6-18</td>\n",
       "      <td>6</td>\n",
       "      <td>409269953</td>\n",
       "      <td>10.0</td>\n",
       "      <td>470000.0</td>\n",
       "      <td>58120000</td>\n",
       "      <td>KARANTZAS, ADRIANOS</td>\n",
       "      <td>Y</td>\n",
       "      <td>NaN</td>\n",
       "      <td>NaN</td>\n",
       "      <td>0.0</td>\n",
       "      <td>0.0</td>\n",
       "      <td>0.0</td>\n",
       "      <td>0.0</td>\n",
       "      <td>0.0</td>\n",
       "    </tr>\n",
       "  </tbody>\n",
       "</table>\n",
       "<p>642884 rows × 20 columns</p>\n",
       "</div>"
      ],
      "text/plain": [
       "         globl_enti_nbr  cntry_enti_nbr  fac_enti_nbr  facility_count  \\\n",
       "1            1000014718      1000014719    1000014720               1   \n",
       "2            1000014937      1000014938    1000014939               1   \n",
       "3            1000014989      1000014990    1000014991               1   \n",
       "4            1000014998      1000014999    1000015000               1   \n",
       "5            1000015007      1000015008    1000015009               1   \n",
       "...                 ...             ...           ...             ...   \n",
       "1048568       916233964       916233965     928426373               2   \n",
       "1048569       916234111       916234112     916234113               1   \n",
       "1048571       916234151       916234152     916234153               1   \n",
       "1048572       916234154       916234155     916234156               1   \n",
       "1048574       916234169       916234170    1134779140               1   \n",
       "\n",
       "        acct_cntry_cd        sale_terr_cd  sale_terr_seg_nbr   duns_nbr  \\\n",
       "1                  FR    8-9-42-21-4-1-15                  4  502760580   \n",
       "2                  DE    8-9-45-99-99-6-5                  6  313610280   \n",
       "3                  FR  8-9-45-99-99-50-14                  6  266221635   \n",
       "4                  FR  8-9-45-99-99-50-14                  6  270947788   \n",
       "5                  DE    8-9-45-99-99-5-5                  5  341847372   \n",
       "...               ...                 ...                ...        ...   \n",
       "1048568            FR  8-9-45-99-99-50-14                  6  767179559   \n",
       "1048569            FR  8-9-45-99-99-50-14                  6  263683556   \n",
       "1048571            NL   8-9-45-99-99-6-18                  6  489748654   \n",
       "1048572            IT   8-9-45-99-99-6-71                  6  441727854   \n",
       "1048574            NL   8-9-45-99-99-6-18                  6  409269953   \n",
       "\n",
       "         EMP_count  sls_vol_us_amt prim_sic_cd                     cust_nm  \\\n",
       "1             60.0       7223090.0    70110000        LA BASTIDE DE GORDES   \n",
       "2              2.0         45109.0    51370500           DRACHE HANDELS UG   \n",
       "3              1.0         33192.0    59610000          SALVADOR, EMMANUEL   \n",
       "4              1.0         35479.0    59990000              LES VAPOTERIES   \n",
       "5              3.0        579000.0    50630402                 BELUXX GMBH   \n",
       "...            ...             ...         ...                         ...   \n",
       "1048568        3.0       1174462.0    20410000         MOULIN D'HEUCHELOUP   \n",
       "1048569       14.0       4063517.0    87110000              BM ENGINEERING   \n",
       "1048571        1.0         70847.0    87420500  BMK INKOOP EN SUPPLY CHAIN   \n",
       "1048572        1.0         66000.0    87429900                 CARLO, IZZO   \n",
       "1048574       10.0        470000.0    58120000         KARANTZAS, ADRIANOS   \n",
       "\n",
       "        cntry_hdqtr_flg  L12_REV  P12_REV  L12_shp  P12_shp  L12_REV_zero  \\\n",
       "1                     Y      NaN      NaN      0.0      0.0           0.0   \n",
       "2                     Y      NaN      NaN      0.0      0.0           0.0   \n",
       "3                     Y      NaN      NaN      0.0      0.0           0.0   \n",
       "4                     Y      NaN      NaN      0.0      0.0           0.0   \n",
       "5                     Y      NaN      NaN      0.0      0.0           0.0   \n",
       "...                 ...      ...      ...      ...      ...           ...   \n",
       "1048568               Y      NaN      NaN      0.0      0.0           0.0   \n",
       "1048569               Y      NaN      NaN      0.0      0.0           0.0   \n",
       "1048571               Y      NaN      NaN      0.0      0.0           0.0   \n",
       "1048572               Y      NaN      NaN      0.0      0.0           0.0   \n",
       "1048574               Y      NaN      NaN      0.0      0.0           0.0   \n",
       "\n",
       "         P12_REV_zero  max_Rev_L12RandP12R  \n",
       "1                 0.0                  0.0  \n",
       "2                 0.0                  0.0  \n",
       "3                 0.0                  0.0  \n",
       "4                 0.0                  0.0  \n",
       "5                 0.0                  0.0  \n",
       "...               ...                  ...  \n",
       "1048568           0.0                  0.0  \n",
       "1048569           0.0                  0.0  \n",
       "1048571           0.0                  0.0  \n",
       "1048572           0.0                  0.0  \n",
       "1048574           0.0                  0.0  \n",
       "\n",
       "[642884 rows x 20 columns]"
      ]
     },
     "execution_count": 123,
     "metadata": {},
     "output_type": "execute_result"
    }
   ],
   "source": [
    "cols=['sls_vol_us_amt', 'EMP_count']\n",
    "df_l12_zero_mr[cols] = df_l12_zero_mr.loc[:,('sls_vol_us_amt', \n",
    "                                 'EMP_count')].apply(pd.to_numeric, errors='coerce', axis=1)\n",
    "df_l12_zero_mr"
   ]
  },
  {
   "cell_type": "code",
   "execution_count": 124,
   "id": "cbda2c26",
   "metadata": {},
   "outputs": [
    {
     "name": "stdout",
     "output_type": "stream",
     "text": [
      "globl_enti_nbr : 638191 Nan_sum: 0 , zero_count: 0\n",
      "[1000014718 1000014937 1000014989 ...  916234151  916234154  916234169]\n",
      "cntry_enti_nbr : 642884 Nan_sum: 0 , zero_count: 0\n",
      "[1000014719 1000014938 1000014990 ...  916234152  916234155  916234170]\n",
      "fac_enti_nbr : 642884 Nan_sum: 0 , zero_count: 0\n",
      "[1000014720 1000014939 1000014991 ...  916234153  916234156 1134779140]\n",
      "facility_count : 60 Nan_sum: 0 , zero_count: 0\n",
      "[  1   2   3   5   4   6  51  11  13   8  18  14  12  15  10  19  32  20\n",
      "  22   7  26  50  31   9  34  23  33  30  16  27  40  42  52  17  28  41\n",
      "  25  58  35  21  24  43  89  49  60  37  39  55  29  62  36  45  44  57\n",
      "  48  59  46  74  77 122]\n",
      "acct_cntry_cd : 41 Nan_sum: 0 , zero_count: 0\n",
      "['FR' 'DE' 'BE' 'GB' 'SE' 'NO' 'ES' 'FI' 'IT' 'CH' 'NL' 'IE' 'HU' 'AT'\n",
      " 'PL' 'DK' 'LU' 'PT' 'CZ' 'EE' 'GR' 'LT' 'RO' 'SI' 'BG' 'SK' 'UA' 'LV'\n",
      " 'MD' 'CY' 'HR' 'IS' 'RS' 'BY' 'LI' 'MT' 'BA' 'GI' 'MK' 'AL' 'ME']\n",
      "sale_terr_cd : 1649 Nan_sum: 0 , zero_count: 0\n",
      "['8-9-42-21-4-1-15' '8-9-45-99-99-6-5' '8-9-45-99-99-50-14' ...\n",
      " '8-9-42-26-2-1-25' '8-9-42-26-2-1-21' '8-9-43-64-1-1-1']\n",
      "sale_terr_seg_nbr : 6 Nan_sum: 0 , zero_count: 0\n",
      "[4 6 5 3 1 2]\n",
      "duns_nbr : 642857 Nan_sum: 0 , zero_count: 0\n",
      "[502760580 313610280 266221635 ... 489748654 441727854 409269953]\n",
      "EMP_count : 1759 Nan_sum: 2 , zero_count: 28578\n",
      "[6.000e+01 2.000e+00 1.000e+00 ... 8.800e+02 1.227e+03 2.434e+03]\n",
      "sls_vol_us_amt : 260551 Nan_sum: 2 , zero_count: 42648\n",
      "[ 7223090.    45109.    33192. ... 22058012. 26315920.  4063517.]\n",
      "prim_sic_cd : 8990 Nan_sum: 0 , zero_count: 0\n",
      "[70110000 51370500 59610000 ... 50460103 73610201 50120300]\n",
      "cust_nm : 633125 Nan_sum: 0 , zero_count: 0\n",
      "['LA BASTIDE DE GORDES' 'DRACHE HANDELS UG' 'SALVADOR, EMMANUEL' ...\n",
      " 'BMK INKOOP EN SUPPLY CHAIN' 'CARLO, IZZO' 'KARANTZAS, ADRIANOS']\n",
      "cntry_hdqtr_flg : 2 Nan_sum: 0 , zero_count: 0\n",
      "['Y' 'N']\n",
      "L12_REV : 8 Nan_sum: 642821 , zero_count: 57\n",
      "[    nan   -400.      0.   -318.   -635.    -44.   -309. -26129.]\n",
      "P12_REV : 2 Nan_sum: 642838 , zero_count: 46\n",
      "[nan  0.]\n",
      "L12_shp : 1 Nan_sum: 0 , zero_count: 642884\n",
      "[0.]\n",
      "P12_shp : 14 Nan_sum: 99 , zero_count: 640898\n",
      "[ 0.  2.  1. nan  6. 10.  3.  4.  9.  7.  5. 11.  8. 12.]\n",
      "L12_REV_zero : 7 Nan_sum: 0 , zero_count: 642878\n",
      "[     0.   -400.   -318.   -635.    -44.   -309. -26129.]\n",
      "P12_REV_zero : 1 Nan_sum: 0 , zero_count: 642884\n",
      "[0.]\n",
      "max_Rev_L12RandP12R : 1 Nan_sum: 0 , zero_count: 642884\n",
      "[0.]\n"
     ]
    }
   ],
   "source": [
    "for coll in df_l12_zero_mr.columns:\n",
    "    dis_acc=df_l12_zero_mr[coll].unique()\n",
    "    nan_sum=df_l12_zero_mr[coll].isnull().sum();\n",
    "    zval=(df_l12_zero_mr[coll].values==0).sum()\n",
    "    print(coll,':',len(dis_acc), 'Nan_sum:',nan_sum,',','zero_count:',zval)\n",
    "    print(dis_acc)"
   ]
  },
  {
   "cell_type": "code",
   "execution_count": 125,
   "id": "e5e4a370",
   "metadata": {},
   "outputs": [
    {
     "name": "stderr",
     "output_type": "stream",
     "text": [
      "<ipython-input-125-f56f10d063b5>:1: SettingWithCopyWarning: \n",
      "A value is trying to be set on a copy of a slice from a DataFrame.\n",
      "Try using .loc[row_indexer,col_indexer] = value instead\n",
      "\n",
      "See the caveats in the documentation: https://pandas.pydata.org/pandas-docs/stable/user_guide/indexing.html#returning-a-view-versus-a-copy\n",
      "  df_l12_zero_mr['sls_vol_us_amt_new']=df_l12_zero_mr['sls_vol_us_amt'].replace(0,df_l12_zero_mr['sls_vol_us_amt'].median())\n",
      "<ipython-input-125-f56f10d063b5>:2: SettingWithCopyWarning: \n",
      "A value is trying to be set on a copy of a slice from a DataFrame.\n",
      "Try using .loc[row_indexer,col_indexer] = value instead\n",
      "\n",
      "See the caveats in the documentation: https://pandas.pydata.org/pandas-docs/stable/user_guide/indexing.html#returning-a-view-versus-a-copy\n",
      "  df_l12_zero_mr['EMP_count_new']=df_l12_zero_mr['EMP_count'].replace(0,df_l12_zero_mr['EMP_count'].median())\n"
     ]
    },
    {
     "data": {
      "text/html": [
       "<div>\n",
       "<style scoped>\n",
       "    .dataframe tbody tr th:only-of-type {\n",
       "        vertical-align: middle;\n",
       "    }\n",
       "\n",
       "    .dataframe tbody tr th {\n",
       "        vertical-align: top;\n",
       "    }\n",
       "\n",
       "    .dataframe thead th {\n",
       "        text-align: right;\n",
       "    }\n",
       "</style>\n",
       "<table border=\"1\" class=\"dataframe\">\n",
       "  <thead>\n",
       "    <tr style=\"text-align: right;\">\n",
       "      <th></th>\n",
       "      <th>globl_enti_nbr</th>\n",
       "      <th>cntry_enti_nbr</th>\n",
       "      <th>fac_enti_nbr</th>\n",
       "      <th>facility_count</th>\n",
       "      <th>acct_cntry_cd</th>\n",
       "      <th>sale_terr_cd</th>\n",
       "      <th>sale_terr_seg_nbr</th>\n",
       "      <th>duns_nbr</th>\n",
       "      <th>EMP_count</th>\n",
       "      <th>sls_vol_us_amt</th>\n",
       "      <th>...</th>\n",
       "      <th>cntry_hdqtr_flg</th>\n",
       "      <th>L12_REV</th>\n",
       "      <th>P12_REV</th>\n",
       "      <th>L12_shp</th>\n",
       "      <th>P12_shp</th>\n",
       "      <th>L12_REV_zero</th>\n",
       "      <th>P12_REV_zero</th>\n",
       "      <th>max_Rev_L12RandP12R</th>\n",
       "      <th>sls_vol_us_amt_new</th>\n",
       "      <th>EMP_count_new</th>\n",
       "    </tr>\n",
       "  </thead>\n",
       "  <tbody>\n",
       "    <tr>\n",
       "      <th>1</th>\n",
       "      <td>1000014718</td>\n",
       "      <td>1000014719</td>\n",
       "      <td>1000014720</td>\n",
       "      <td>1</td>\n",
       "      <td>FR</td>\n",
       "      <td>8-9-42-21-4-1-15</td>\n",
       "      <td>4</td>\n",
       "      <td>502760580</td>\n",
       "      <td>60.0</td>\n",
       "      <td>7223090.0</td>\n",
       "      <td>...</td>\n",
       "      <td>Y</td>\n",
       "      <td>NaN</td>\n",
       "      <td>NaN</td>\n",
       "      <td>0.0</td>\n",
       "      <td>0.0</td>\n",
       "      <td>0.0</td>\n",
       "      <td>0.0</td>\n",
       "      <td>0.0</td>\n",
       "      <td>7223090.0</td>\n",
       "      <td>60.0</td>\n",
       "    </tr>\n",
       "    <tr>\n",
       "      <th>2</th>\n",
       "      <td>1000014937</td>\n",
       "      <td>1000014938</td>\n",
       "      <td>1000014939</td>\n",
       "      <td>1</td>\n",
       "      <td>DE</td>\n",
       "      <td>8-9-45-99-99-6-5</td>\n",
       "      <td>6</td>\n",
       "      <td>313610280</td>\n",
       "      <td>2.0</td>\n",
       "      <td>45109.0</td>\n",
       "      <td>...</td>\n",
       "      <td>Y</td>\n",
       "      <td>NaN</td>\n",
       "      <td>NaN</td>\n",
       "      <td>0.0</td>\n",
       "      <td>0.0</td>\n",
       "      <td>0.0</td>\n",
       "      <td>0.0</td>\n",
       "      <td>0.0</td>\n",
       "      <td>45109.0</td>\n",
       "      <td>2.0</td>\n",
       "    </tr>\n",
       "    <tr>\n",
       "      <th>3</th>\n",
       "      <td>1000014989</td>\n",
       "      <td>1000014990</td>\n",
       "      <td>1000014991</td>\n",
       "      <td>1</td>\n",
       "      <td>FR</td>\n",
       "      <td>8-9-45-99-99-50-14</td>\n",
       "      <td>6</td>\n",
       "      <td>266221635</td>\n",
       "      <td>1.0</td>\n",
       "      <td>33192.0</td>\n",
       "      <td>...</td>\n",
       "      <td>Y</td>\n",
       "      <td>NaN</td>\n",
       "      <td>NaN</td>\n",
       "      <td>0.0</td>\n",
       "      <td>0.0</td>\n",
       "      <td>0.0</td>\n",
       "      <td>0.0</td>\n",
       "      <td>0.0</td>\n",
       "      <td>33192.0</td>\n",
       "      <td>1.0</td>\n",
       "    </tr>\n",
       "  </tbody>\n",
       "</table>\n",
       "<p>3 rows × 22 columns</p>\n",
       "</div>"
      ],
      "text/plain": [
       "   globl_enti_nbr  cntry_enti_nbr  fac_enti_nbr  facility_count acct_cntry_cd  \\\n",
       "1      1000014718      1000014719    1000014720               1            FR   \n",
       "2      1000014937      1000014938    1000014939               1            DE   \n",
       "3      1000014989      1000014990    1000014991               1            FR   \n",
       "\n",
       "         sale_terr_cd  sale_terr_seg_nbr   duns_nbr  EMP_count  \\\n",
       "1    8-9-42-21-4-1-15                  4  502760580       60.0   \n",
       "2    8-9-45-99-99-6-5                  6  313610280        2.0   \n",
       "3  8-9-45-99-99-50-14                  6  266221635        1.0   \n",
       "\n",
       "   sls_vol_us_amt  ... cntry_hdqtr_flg L12_REV P12_REV  L12_shp  P12_shp  \\\n",
       "1       7223090.0  ...               Y     NaN     NaN      0.0      0.0   \n",
       "2         45109.0  ...               Y     NaN     NaN      0.0      0.0   \n",
       "3         33192.0  ...               Y     NaN     NaN      0.0      0.0   \n",
       "\n",
       "   L12_REV_zero  P12_REV_zero  max_Rev_L12RandP12R  sls_vol_us_amt_new  \\\n",
       "1           0.0           0.0                  0.0           7223090.0   \n",
       "2           0.0           0.0                  0.0             45109.0   \n",
       "3           0.0           0.0                  0.0             33192.0   \n",
       "\n",
       "   EMP_count_new  \n",
       "1           60.0  \n",
       "2            2.0  \n",
       "3            1.0  \n",
       "\n",
       "[3 rows x 22 columns]"
      ]
     },
     "execution_count": 125,
     "metadata": {},
     "output_type": "execute_result"
    }
   ],
   "source": [
    "df_l12_zero_mr['sls_vol_us_amt_new']=df_l12_zero_mr['sls_vol_us_amt'].replace(0,df_l12_zero_mr['sls_vol_us_amt'].median())\n",
    "df_l12_zero_mr['EMP_count_new']=df_l12_zero_mr['EMP_count'].replace(0,df_l12_zero_mr['EMP_count'].median())\n",
    "df_l12_zero_mr.head(3)"
   ]
  },
  {
   "cell_type": "code",
   "execution_count": 126,
   "id": "ba312c7f",
   "metadata": {},
   "outputs": [
    {
     "name": "stderr",
     "output_type": "stream",
     "text": [
      "<ipython-input-126-36bfab6fe4c0>:1: SettingWithCopyWarning: \n",
      "A value is trying to be set on a copy of a slice from a DataFrame.\n",
      "Try using .loc[row_indexer,col_indexer] = value instead\n",
      "\n",
      "See the caveats in the documentation: https://pandas.pydata.org/pandas-docs/stable/user_guide/indexing.html#returning-a-view-versus-a-copy\n",
      "  df_l12_zero_mr['acct_cntry_cd_endc']=encoder.fit_transform(df_l12_zero_mr['acct_cntry_cd'].values.reshape(-1,1))\n"
     ]
    },
    {
     "data": {
      "text/html": [
       "<div>\n",
       "<style scoped>\n",
       "    .dataframe tbody tr th:only-of-type {\n",
       "        vertical-align: middle;\n",
       "    }\n",
       "\n",
       "    .dataframe tbody tr th {\n",
       "        vertical-align: top;\n",
       "    }\n",
       "\n",
       "    .dataframe thead th {\n",
       "        text-align: right;\n",
       "    }\n",
       "</style>\n",
       "<table border=\"1\" class=\"dataframe\">\n",
       "  <thead>\n",
       "    <tr style=\"text-align: right;\">\n",
       "      <th></th>\n",
       "      <th>globl_enti_nbr</th>\n",
       "      <th>cntry_enti_nbr</th>\n",
       "      <th>fac_enti_nbr</th>\n",
       "      <th>facility_count</th>\n",
       "      <th>acct_cntry_cd</th>\n",
       "      <th>sale_terr_cd</th>\n",
       "      <th>sale_terr_seg_nbr</th>\n",
       "      <th>duns_nbr</th>\n",
       "      <th>EMP_count</th>\n",
       "      <th>sls_vol_us_amt</th>\n",
       "      <th>...</th>\n",
       "      <th>L12_REV</th>\n",
       "      <th>P12_REV</th>\n",
       "      <th>L12_shp</th>\n",
       "      <th>P12_shp</th>\n",
       "      <th>L12_REV_zero</th>\n",
       "      <th>P12_REV_zero</th>\n",
       "      <th>max_Rev_L12RandP12R</th>\n",
       "      <th>sls_vol_us_amt_new</th>\n",
       "      <th>EMP_count_new</th>\n",
       "      <th>acct_cntry_cd_endc</th>\n",
       "    </tr>\n",
       "  </thead>\n",
       "  <tbody>\n",
       "    <tr>\n",
       "      <th>1</th>\n",
       "      <td>1000014718</td>\n",
       "      <td>1000014719</td>\n",
       "      <td>1000014720</td>\n",
       "      <td>1</td>\n",
       "      <td>FR</td>\n",
       "      <td>8-9-42-21-4-1-15</td>\n",
       "      <td>4</td>\n",
       "      <td>502760580</td>\n",
       "      <td>60.0</td>\n",
       "      <td>7223090.0</td>\n",
       "      <td>...</td>\n",
       "      <td>NaN</td>\n",
       "      <td>NaN</td>\n",
       "      <td>0.0</td>\n",
       "      <td>0.0</td>\n",
       "      <td>0.0</td>\n",
       "      <td>0.0</td>\n",
       "      <td>0.0</td>\n",
       "      <td>7223090.0</td>\n",
       "      <td>60.0</td>\n",
       "      <td>14.0</td>\n",
       "    </tr>\n",
       "    <tr>\n",
       "      <th>2</th>\n",
       "      <td>1000014937</td>\n",
       "      <td>1000014938</td>\n",
       "      <td>1000014939</td>\n",
       "      <td>1</td>\n",
       "      <td>DE</td>\n",
       "      <td>8-9-45-99-99-6-5</td>\n",
       "      <td>6</td>\n",
       "      <td>313610280</td>\n",
       "      <td>2.0</td>\n",
       "      <td>45109.0</td>\n",
       "      <td>...</td>\n",
       "      <td>NaN</td>\n",
       "      <td>NaN</td>\n",
       "      <td>0.0</td>\n",
       "      <td>0.0</td>\n",
       "      <td>0.0</td>\n",
       "      <td>0.0</td>\n",
       "      <td>0.0</td>\n",
       "      <td>45109.0</td>\n",
       "      <td>2.0</td>\n",
       "      <td>9.0</td>\n",
       "    </tr>\n",
       "    <tr>\n",
       "      <th>3</th>\n",
       "      <td>1000014989</td>\n",
       "      <td>1000014990</td>\n",
       "      <td>1000014991</td>\n",
       "      <td>1</td>\n",
       "      <td>FR</td>\n",
       "      <td>8-9-45-99-99-50-14</td>\n",
       "      <td>6</td>\n",
       "      <td>266221635</td>\n",
       "      <td>1.0</td>\n",
       "      <td>33192.0</td>\n",
       "      <td>...</td>\n",
       "      <td>NaN</td>\n",
       "      <td>NaN</td>\n",
       "      <td>0.0</td>\n",
       "      <td>0.0</td>\n",
       "      <td>0.0</td>\n",
       "      <td>0.0</td>\n",
       "      <td>0.0</td>\n",
       "      <td>33192.0</td>\n",
       "      <td>1.0</td>\n",
       "      <td>14.0</td>\n",
       "    </tr>\n",
       "    <tr>\n",
       "      <th>4</th>\n",
       "      <td>1000014998</td>\n",
       "      <td>1000014999</td>\n",
       "      <td>1000015000</td>\n",
       "      <td>1</td>\n",
       "      <td>FR</td>\n",
       "      <td>8-9-45-99-99-50-14</td>\n",
       "      <td>6</td>\n",
       "      <td>270947788</td>\n",
       "      <td>1.0</td>\n",
       "      <td>35479.0</td>\n",
       "      <td>...</td>\n",
       "      <td>NaN</td>\n",
       "      <td>NaN</td>\n",
       "      <td>0.0</td>\n",
       "      <td>0.0</td>\n",
       "      <td>0.0</td>\n",
       "      <td>0.0</td>\n",
       "      <td>0.0</td>\n",
       "      <td>35479.0</td>\n",
       "      <td>1.0</td>\n",
       "      <td>14.0</td>\n",
       "    </tr>\n",
       "    <tr>\n",
       "      <th>5</th>\n",
       "      <td>1000015007</td>\n",
       "      <td>1000015008</td>\n",
       "      <td>1000015009</td>\n",
       "      <td>1</td>\n",
       "      <td>DE</td>\n",
       "      <td>8-9-45-99-99-5-5</td>\n",
       "      <td>5</td>\n",
       "      <td>341847372</td>\n",
       "      <td>3.0</td>\n",
       "      <td>579000.0</td>\n",
       "      <td>...</td>\n",
       "      <td>NaN</td>\n",
       "      <td>NaN</td>\n",
       "      <td>0.0</td>\n",
       "      <td>0.0</td>\n",
       "      <td>0.0</td>\n",
       "      <td>0.0</td>\n",
       "      <td>0.0</td>\n",
       "      <td>579000.0</td>\n",
       "      <td>3.0</td>\n",
       "      <td>9.0</td>\n",
       "    </tr>\n",
       "  </tbody>\n",
       "</table>\n",
       "<p>5 rows × 23 columns</p>\n",
       "</div>"
      ],
      "text/plain": [
       "   globl_enti_nbr  cntry_enti_nbr  fac_enti_nbr  facility_count acct_cntry_cd  \\\n",
       "1      1000014718      1000014719    1000014720               1            FR   \n",
       "2      1000014937      1000014938    1000014939               1            DE   \n",
       "3      1000014989      1000014990    1000014991               1            FR   \n",
       "4      1000014998      1000014999    1000015000               1            FR   \n",
       "5      1000015007      1000015008    1000015009               1            DE   \n",
       "\n",
       "         sale_terr_cd  sale_terr_seg_nbr   duns_nbr  EMP_count  \\\n",
       "1    8-9-42-21-4-1-15                  4  502760580       60.0   \n",
       "2    8-9-45-99-99-6-5                  6  313610280        2.0   \n",
       "3  8-9-45-99-99-50-14                  6  266221635        1.0   \n",
       "4  8-9-45-99-99-50-14                  6  270947788        1.0   \n",
       "5    8-9-45-99-99-5-5                  5  341847372        3.0   \n",
       "\n",
       "   sls_vol_us_amt  ... L12_REV P12_REV L12_shp  P12_shp  L12_REV_zero  \\\n",
       "1       7223090.0  ...     NaN     NaN     0.0      0.0           0.0   \n",
       "2         45109.0  ...     NaN     NaN     0.0      0.0           0.0   \n",
       "3         33192.0  ...     NaN     NaN     0.0      0.0           0.0   \n",
       "4         35479.0  ...     NaN     NaN     0.0      0.0           0.0   \n",
       "5        579000.0  ...     NaN     NaN     0.0      0.0           0.0   \n",
       "\n",
       "   P12_REV_zero  max_Rev_L12RandP12R  sls_vol_us_amt_new  EMP_count_new  \\\n",
       "1           0.0                  0.0           7223090.0           60.0   \n",
       "2           0.0                  0.0             45109.0            2.0   \n",
       "3           0.0                  0.0             33192.0            1.0   \n",
       "4           0.0                  0.0             35479.0            1.0   \n",
       "5           0.0                  0.0            579000.0            3.0   \n",
       "\n",
       "   acct_cntry_cd_endc  \n",
       "1                14.0  \n",
       "2                 9.0  \n",
       "3                14.0  \n",
       "4                14.0  \n",
       "5                 9.0  \n",
       "\n",
       "[5 rows x 23 columns]"
      ]
     },
     "execution_count": 126,
     "metadata": {},
     "output_type": "execute_result"
    }
   ],
   "source": [
    "df_l12_zero_mr['acct_cntry_cd_endc']=encoder.fit_transform(df_l12_zero_mr['acct_cntry_cd'].values.reshape(-1,1))\n",
    "df_l12_zero_mr.head(5)\n",
    "# df_test=df_l12_zero_mr[['sls_vol_us_amt_new','EMP_count_new','acct_cntry_cd_endc','facility_count','prim_sic_cd']]"
   ]
  },
  {
   "cell_type": "code",
   "execution_count": 127,
   "id": "7664d99d",
   "metadata": {},
   "outputs": [
    {
     "data": {
      "text/html": [
       "<div>\n",
       "<style scoped>\n",
       "    .dataframe tbody tr th:only-of-type {\n",
       "        vertical-align: middle;\n",
       "    }\n",
       "\n",
       "    .dataframe tbody tr th {\n",
       "        vertical-align: top;\n",
       "    }\n",
       "\n",
       "    .dataframe thead th {\n",
       "        text-align: right;\n",
       "    }\n",
       "</style>\n",
       "<table border=\"1\" class=\"dataframe\">\n",
       "  <thead>\n",
       "    <tr style=\"text-align: right;\">\n",
       "      <th></th>\n",
       "      <th>sls_vol_us_amt_new</th>\n",
       "      <th>EMP_count_new</th>\n",
       "      <th>acct_cntry_cd_endc</th>\n",
       "      <th>facility_count</th>\n",
       "      <th>prim_sic_cd</th>\n",
       "    </tr>\n",
       "  </thead>\n",
       "  <tbody>\n",
       "    <tr>\n",
       "      <th>1</th>\n",
       "      <td>7223090.0</td>\n",
       "      <td>60.0</td>\n",
       "      <td>14.0</td>\n",
       "      <td>1</td>\n",
       "      <td>70110000</td>\n",
       "    </tr>\n",
       "    <tr>\n",
       "      <th>2</th>\n",
       "      <td>45109.0</td>\n",
       "      <td>2.0</td>\n",
       "      <td>9.0</td>\n",
       "      <td>1</td>\n",
       "      <td>51370500</td>\n",
       "    </tr>\n",
       "    <tr>\n",
       "      <th>3</th>\n",
       "      <td>33192.0</td>\n",
       "      <td>1.0</td>\n",
       "      <td>14.0</td>\n",
       "      <td>1</td>\n",
       "      <td>59610000</td>\n",
       "    </tr>\n",
       "    <tr>\n",
       "      <th>4</th>\n",
       "      <td>35479.0</td>\n",
       "      <td>1.0</td>\n",
       "      <td>14.0</td>\n",
       "      <td>1</td>\n",
       "      <td>59990000</td>\n",
       "    </tr>\n",
       "    <tr>\n",
       "      <th>5</th>\n",
       "      <td>579000.0</td>\n",
       "      <td>3.0</td>\n",
       "      <td>9.0</td>\n",
       "      <td>1</td>\n",
       "      <td>50630402</td>\n",
       "    </tr>\n",
       "  </tbody>\n",
       "</table>\n",
       "</div>"
      ],
      "text/plain": [
       "   sls_vol_us_amt_new  EMP_count_new  acct_cntry_cd_endc  facility_count  \\\n",
       "1           7223090.0           60.0                14.0               1   \n",
       "2             45109.0            2.0                 9.0               1   \n",
       "3             33192.0            1.0                14.0               1   \n",
       "4             35479.0            1.0                14.0               1   \n",
       "5            579000.0            3.0                 9.0               1   \n",
       "\n",
       "  prim_sic_cd  \n",
       "1    70110000  \n",
       "2    51370500  \n",
       "3    59610000  \n",
       "4    59990000  \n",
       "5    50630402  "
      ]
     },
     "execution_count": 127,
     "metadata": {},
     "output_type": "execute_result"
    }
   ],
   "source": [
    "df_test=df_l12_zero_mr[['sls_vol_us_amt_new','EMP_count_new','acct_cntry_cd_endc','facility_count','prim_sic_cd']]\n",
    "df_test.head(5)"
   ]
  },
  {
   "cell_type": "markdown",
   "id": "8d0556e9",
   "metadata": {},
   "source": [
    "## Converting object to numeric"
   ]
  },
  {
   "cell_type": "code",
   "execution_count": 128,
   "id": "70f8cc25",
   "metadata": {},
   "outputs": [
    {
     "name": "stderr",
     "output_type": "stream",
     "text": [
      "<ipython-input-128-4ba227098bb1>:2: SettingWithCopyWarning: \n",
      "A value is trying to be set on a copy of a slice from a DataFrame.\n",
      "Try using .loc[row_indexer,col_indexer] = value instead\n",
      "\n",
      "See the caveats in the documentation: https://pandas.pydata.org/pandas-docs/stable/user_guide/indexing.html#returning-a-view-versus-a-copy\n",
      "  df_test['prim_sic_cd'] = pd.to_numeric(df_test['prim_sic_cd'],errors='coerce')\n"
     ]
    }
   ],
   "source": [
    "# x_pred_fe=df_test.astype(float)\n",
    "df_test['prim_sic_cd'] = pd.to_numeric(df_test['prim_sic_cd'],errors='coerce')"
   ]
  },
  {
   "cell_type": "code",
   "execution_count": 129,
   "id": "f5af0908",
   "metadata": {},
   "outputs": [
    {
     "data": {
      "text/plain": [
       "sls_vol_us_amt_new    float64\n",
       "EMP_count_new         float64\n",
       "acct_cntry_cd_endc    float64\n",
       "facility_count          int64\n",
       "prim_sic_cd           float64\n",
       "dtype: object"
      ]
     },
     "execution_count": 129,
     "metadata": {},
     "output_type": "execute_result"
    }
   ],
   "source": [
    "df_test.dtypes"
   ]
  },
  {
   "cell_type": "markdown",
   "id": "c9cb91e9",
   "metadata": {},
   "source": [
    "### Predicting from the unseen test data"
   ]
  },
  {
   "cell_type": "code",
   "execution_count": 130,
   "id": "05d05ee7",
   "metadata": {},
   "outputs": [],
   "source": [
    "# df_test.head(5)\n",
    "# rr=xgb.DMatrix(df_test)\n",
    "# rr.feature_types"
   ]
  },
  {
   "cell_type": "code",
   "execution_count": 131,
   "id": "a2921c4b",
   "metadata": {},
   "outputs": [],
   "source": [
    "# X_train.head(5)"
   ]
  },
  {
   "cell_type": "code",
   "execution_count": 132,
   "id": "adb333ad",
   "metadata": {},
   "outputs": [],
   "source": [
    "# np.float64(df_test.head(5))"
   ]
  },
  {
   "cell_type": "code",
   "execution_count": 133,
   "id": "0c8c65eb",
   "metadata": {},
   "outputs": [
    {
     "name": "stdout",
     "output_type": "stream",
     "text": [
      "324.16395264\n"
     ]
    }
   ],
   "source": [
    "preds_zero_rev=xgbreg.best_estimator_.predict(np.float64(df_test))\n",
    "# preds_zero_rev = xg_reg.predict(xgb.DMatrix(df_test))\n",
    "preds_zero_rev\n",
    "total_eu=np.sum(preds_zero_rev)\n",
    "print(total_eu/1e8)"
   ]
  },
  {
   "cell_type": "code",
   "execution_count": 134,
   "id": "48328c00",
   "metadata": {},
   "outputs": [
    {
     "data": {
      "text/plain": [
       "array([34781.285, 47563.375, 15040.01 , ..., 46427.332, 31849.57 ,\n",
       "       67550.59 ], dtype=float32)"
      ]
     },
     "execution_count": 134,
     "metadata": {},
     "output_type": "execute_result"
    }
   ],
   "source": [
    "preds_zero_rev"
   ]
  },
  {
   "cell_type": "code",
   "execution_count": 135,
   "id": "166a5fb5",
   "metadata": {},
   "outputs": [],
   "source": [
    "# preds_zero_rev[104856]"
   ]
  },
  {
   "cell_type": "code",
   "execution_count": 136,
   "id": "d18d9fae",
   "metadata": {},
   "outputs": [
    {
     "data": {
      "text/html": [
       "<div>\n",
       "<style scoped>\n",
       "    .dataframe tbody tr th:only-of-type {\n",
       "        vertical-align: middle;\n",
       "    }\n",
       "\n",
       "    .dataframe tbody tr th {\n",
       "        vertical-align: top;\n",
       "    }\n",
       "\n",
       "    .dataframe thead th {\n",
       "        text-align: right;\n",
       "    }\n",
       "</style>\n",
       "<table border=\"1\" class=\"dataframe\">\n",
       "  <thead>\n",
       "    <tr style=\"text-align: right;\">\n",
       "      <th></th>\n",
       "      <th>sls_vol_us_amt_new</th>\n",
       "      <th>EMP_count_new</th>\n",
       "      <th>acct_cntry_cd_endc</th>\n",
       "      <th>facility_count</th>\n",
       "      <th>prim_sic_cd</th>\n",
       "    </tr>\n",
       "  </thead>\n",
       "  <tbody>\n",
       "    <tr>\n",
       "      <th>1</th>\n",
       "      <td>7223090.0</td>\n",
       "      <td>60.0</td>\n",
       "      <td>14.0</td>\n",
       "      <td>1</td>\n",
       "      <td>70110000.0</td>\n",
       "    </tr>\n",
       "    <tr>\n",
       "      <th>2</th>\n",
       "      <td>45109.0</td>\n",
       "      <td>2.0</td>\n",
       "      <td>9.0</td>\n",
       "      <td>1</td>\n",
       "      <td>51370500.0</td>\n",
       "    </tr>\n",
       "    <tr>\n",
       "      <th>3</th>\n",
       "      <td>33192.0</td>\n",
       "      <td>1.0</td>\n",
       "      <td>14.0</td>\n",
       "      <td>1</td>\n",
       "      <td>59610000.0</td>\n",
       "    </tr>\n",
       "    <tr>\n",
       "      <th>4</th>\n",
       "      <td>35479.0</td>\n",
       "      <td>1.0</td>\n",
       "      <td>14.0</td>\n",
       "      <td>1</td>\n",
       "      <td>59990000.0</td>\n",
       "    </tr>\n",
       "    <tr>\n",
       "      <th>5</th>\n",
       "      <td>579000.0</td>\n",
       "      <td>3.0</td>\n",
       "      <td>9.0</td>\n",
       "      <td>1</td>\n",
       "      <td>50630402.0</td>\n",
       "    </tr>\n",
       "    <tr>\n",
       "      <th>...</th>\n",
       "      <td>...</td>\n",
       "      <td>...</td>\n",
       "      <td>...</td>\n",
       "      <td>...</td>\n",
       "      <td>...</td>\n",
       "    </tr>\n",
       "    <tr>\n",
       "      <th>1048568</th>\n",
       "      <td>1174462.0</td>\n",
       "      <td>3.0</td>\n",
       "      <td>14.0</td>\n",
       "      <td>2</td>\n",
       "      <td>20410000.0</td>\n",
       "    </tr>\n",
       "    <tr>\n",
       "      <th>1048569</th>\n",
       "      <td>4063517.0</td>\n",
       "      <td>14.0</td>\n",
       "      <td>14.0</td>\n",
       "      <td>1</td>\n",
       "      <td>87110000.0</td>\n",
       "    </tr>\n",
       "    <tr>\n",
       "      <th>1048571</th>\n",
       "      <td>70847.0</td>\n",
       "      <td>1.0</td>\n",
       "      <td>31.0</td>\n",
       "      <td>1</td>\n",
       "      <td>87420500.0</td>\n",
       "    </tr>\n",
       "    <tr>\n",
       "      <th>1048572</th>\n",
       "      <td>66000.0</td>\n",
       "      <td>1.0</td>\n",
       "      <td>22.0</td>\n",
       "      <td>1</td>\n",
       "      <td>87429900.0</td>\n",
       "    </tr>\n",
       "    <tr>\n",
       "      <th>1048574</th>\n",
       "      <td>470000.0</td>\n",
       "      <td>10.0</td>\n",
       "      <td>31.0</td>\n",
       "      <td>1</td>\n",
       "      <td>58120000.0</td>\n",
       "    </tr>\n",
       "  </tbody>\n",
       "</table>\n",
       "<p>642884 rows × 5 columns</p>\n",
       "</div>"
      ],
      "text/plain": [
       "         sls_vol_us_amt_new  EMP_count_new  acct_cntry_cd_endc  \\\n",
       "1                 7223090.0           60.0                14.0   \n",
       "2                   45109.0            2.0                 9.0   \n",
       "3                   33192.0            1.0                14.0   \n",
       "4                   35479.0            1.0                14.0   \n",
       "5                  579000.0            3.0                 9.0   \n",
       "...                     ...            ...                 ...   \n",
       "1048568           1174462.0            3.0                14.0   \n",
       "1048569           4063517.0           14.0                14.0   \n",
       "1048571             70847.0            1.0                31.0   \n",
       "1048572             66000.0            1.0                22.0   \n",
       "1048574            470000.0           10.0                31.0   \n",
       "\n",
       "         facility_count  prim_sic_cd  \n",
       "1                     1   70110000.0  \n",
       "2                     1   51370500.0  \n",
       "3                     1   59610000.0  \n",
       "4                     1   59990000.0  \n",
       "5                     1   50630402.0  \n",
       "...                 ...          ...  \n",
       "1048568               2   20410000.0  \n",
       "1048569               1   87110000.0  \n",
       "1048571               1   87420500.0  \n",
       "1048572               1   87429900.0  \n",
       "1048574               1   58120000.0  \n",
       "\n",
       "[642884 rows x 5 columns]"
      ]
     },
     "execution_count": 136,
     "metadata": {},
     "output_type": "execute_result"
    }
   ],
   "source": [
    "df_test"
   ]
  },
  {
   "cell_type": "code",
   "execution_count": 137,
   "id": "ef6fd834",
   "metadata": {},
   "outputs": [
    {
     "data": {
      "text/plain": [
       "array([34781.285, 47563.375, 15040.01 , ..., 46427.332, 31849.57 ,\n",
       "       67550.59 ], dtype=float32)"
      ]
     },
     "execution_count": 137,
     "metadata": {},
     "output_type": "execute_result"
    }
   ],
   "source": [
    "preds_zero_rev"
   ]
  },
  {
   "cell_type": "markdown",
   "id": "aaa03561",
   "metadata": {},
   "source": [
    "### Prediction Done!"
   ]
  },
  {
   "cell_type": "code",
   "execution_count": 138,
   "id": "391bb7af",
   "metadata": {},
   "outputs": [
    {
     "ename": "NameError",
     "evalue": "name 'Stop' is not defined",
     "output_type": "error",
     "traceback": [
      "\u001b[1;31m---------------------------------------------------------------------------\u001b[0m",
      "\u001b[1;31mNameError\u001b[0m                                 Traceback (most recent call last)",
      "\u001b[1;32m<ipython-input-138-c10bb777ae2e>\u001b[0m in \u001b[0;36m<module>\u001b[1;34m\u001b[0m\n\u001b[1;32m----> 1\u001b[1;33m \u001b[0mStop\u001b[0m\u001b[1;33m\u001b[0m\u001b[1;33m\u001b[0m\u001b[0m\n\u001b[0m",
      "\u001b[1;31mNameError\u001b[0m: name 'Stop' is not defined"
     ]
    }
   ],
   "source": [
    "Stop"
   ]
  },
  {
   "cell_type": "code",
   "execution_count": null,
   "id": "f75373b9",
   "metadata": {},
   "outputs": [],
   "source": []
  },
  {
   "cell_type": "code",
   "execution_count": null,
   "id": "93384996",
   "metadata": {},
   "outputs": [],
   "source": [
    "alld=[]\n",
    "a=np.arange(0,12)\n",
    "# for i in range(0,len(ald)):\n",
    "for i in range(0,13):\n",
    "    dfp=dpath+ald[i]\n",
    "#     print(dfp)\n",
    "#     df = pd.read_excel(dfp)\n",
    "    df = pd.read_excel(dfp,sheet_name='Ground')\n",
    "    dft=df.iloc[7,2:14]; ## This is the data for Christopher Raebel; xls_row-2\n",
    "#     dft=df.iloc[21,2:14]; ## This is the data for total volume; xls_row-2\n",
    "    b=dft.values.tolist()\n",
    "#     ff=pd.DataFrame(b)\n",
    "    plt.plot(a,dft)\n",
    "    plt.xlabel('Number of Weeks')\n",
    "    plt.ylabel('Volume by VP')\n",
    "    alld.append(b)\n",
    "    plt.show()"
   ]
  },
  {
   "cell_type": "code",
   "execution_count": null,
   "id": "40b454f7",
   "metadata": {},
   "outputs": [],
   "source": [
    "from statsmodels.graphics.tsaplots import plot_acf"
   ]
  },
  {
   "cell_type": "code",
   "execution_count": null,
   "id": "c9e661f2",
   "metadata": {},
   "outputs": [],
   "source": [
    "import numpy as np\n",
    "from sklearn.preprocessing import StandardScaler\n",
    "def create_dataset(data, time_steps=1):\n",
    "    Xs, ys = [], []\n",
    "    for i in range(len(data) - time_steps-1):\n",
    "        v = data[i:(i + time_steps)]\n",
    "        Xs.append(v)\n",
    "        ys.append(data[i + time_steps])\n",
    "    return np.array(Xs), np.array(ys)\n",
    "\n",
    "#time step or look back\n",
    "tstep=15\n",
    "X=np.array(data[\"spline\"]).astype(np.float)\n",
    "print(X.shape)\n",
    "X = np.reshape(X, (-1, 1)) # need to reshape since it has single feature\n",
    "scaler = StandardScaler()\n",
    "X = scaler.fit_transform(X)\n",
    "n_samples_split=int(len(X)*0.2)\n",
    "x_train=X[:-n_samples_split]\n",
    "x_test=X[-n_samples_split:]\n",
    "\n",
    "X_train, Y_train = create_dataset(x_train, tstep)\n",
    "X_test, Y_test = create_dataset(x_test, tstep)\n",
    "print(X_train.shape, Y_train.shape)"
   ]
  },
  {
   "cell_type": "code",
   "execution_count": null,
   "id": "e9ce2c19",
   "metadata": {},
   "outputs": [],
   "source": [
    "import tensorflow as tf\n",
    "from tensorflow.keras import Sequential\n",
    "from tensorflow.keras.layers import LSTM, Dense, Dropout\n",
    "import tensorflow.keras as keras\n",
    "\n",
    "#cell, input gate, an output gate and a forget gate\n",
    "model=Sequential()\n",
    "model.add(LSTM(units=128, input_shape=(X_train.shape[1],X_train.shape[2]), return_sequences=True)) ##stake of LSTM is used \n",
    "model.add(LSTM(units=64, activation='relu', return_sequences=False))\n",
    "model.add(Dropout(0.3))\n",
    "model.add(Dense(units=1))\n",
    "model.compile(\n",
    "  loss='mean_squared_error',\n",
    "  optimizer=keras.optimizers.Adam(0.001)\n",
    ")"
   ]
  },
  {
   "cell_type": "code",
   "execution_count": null,
   "id": "8875f533",
   "metadata": {},
   "outputs": [],
   "source": [
    "import seaborn as sns\n",
    "sns.set_theme(style=\"ticks\")\n",
    "\n",
    "df = sns.load_dataset(\"penguins\")\n",
    "df\n",
    "sns.pairplot(df, hue=\"species\")"
   ]
  },
  {
   "cell_type": "code",
   "execution_count": null,
   "id": "ba1e2193",
   "metadata": {},
   "outputs": [],
   "source": [
    "import seaborn as sns\n",
    "sns.set_theme(style=\"whitegrid\")\n",
    "tips = sns.load_dataset(\"tips\")\n",
    "ax = sns.boxplot(x=tips[\"total_bill\"])"
   ]
  },
  {
   "cell_type": "code",
   "execution_count": null,
   "id": "c02a15b9",
   "metadata": {},
   "outputs": [],
   "source": [
    "type(tips[\"total_bill\"])"
   ]
  },
  {
   "cell_type": "code",
   "execution_count": null,
   "id": "eb8ba5e8",
   "metadata": {},
   "outputs": [],
   "source": [
    "tips"
   ]
  },
  {
   "cell_type": "code",
   "execution_count": null,
   "id": "703bdefd",
   "metadata": {},
   "outputs": [],
   "source": [
    "ax = sns.boxplot(x=\"EMP_count\", y=\"sls_vol_us_amt\", hue=\"L12_shp\",\n",
    "                 data=df_train, palette=\"Set1\")"
   ]
  },
  {
   "cell_type": "code",
   "execution_count": null,
   "id": "173f2ae0",
   "metadata": {},
   "outputs": [],
   "source": [
    "# from hyperopt import hp\n",
    "# import numpy as np\n",
    "\n",
    "# space= {\n",
    "#     'learning_rate': hp.loguniform('learning_rate', np.log(0.01), np.log(1)),\n",
    "#     'max_depth': hp.quniform('max_depth', 5, 15, 1),\n",
    "#     'n_estimators': hp.quniform('n_estimators', 5, 35, 1),\n",
    "#     'num_leaves': hp.quniform('num_leaves', 5, 50, 1),\n",
    "#     'boosting_type': hp.choice('boosting_type', ['gbdt', 'dart']),\n",
    "#     'colsample_bytree': hp.uniform('colsample_by_tree', 0.6, 1.0),\n",
    "#     'reg_lambda': hp.uniform('reg_lambda', 0.0, 1.0),\n",
    "# }"
   ]
  },
  {
   "cell_type": "code",
   "execution_count": null,
   "id": "32d4dee6",
   "metadata": {},
   "outputs": [],
   "source": []
  }
 ],
 "metadata": {
  "kernelspec": {
   "display_name": "Python 3 (ipykernel)",
   "language": "python",
   "name": "python3"
  },
  "language_info": {
   "codemirror_mode": {
    "name": "ipython",
    "version": 3
   },
   "file_extension": ".py",
   "mimetype": "text/x-python",
   "name": "python",
   "nbconvert_exporter": "python",
   "pygments_lexer": "ipython3",
   "version": "3.9.7"
  }
 },
 "nbformat": 4,
 "nbformat_minor": 5
}
